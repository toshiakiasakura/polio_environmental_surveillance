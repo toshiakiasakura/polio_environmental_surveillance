{
 "cells": [
  {
   "cell_type": "code",
   "execution_count": 19,
   "id": "26b19426",
   "metadata": {},
   "outputs": [
    {
     "data": {
      "text/plain": [
       "validate_meta_population_model"
      ]
     },
     "execution_count": 19,
     "metadata": {},
     "output_type": "execute_result"
    }
   ],
   "source": [
    "include(\"utils.jl\")\n",
    "include(\"geo_ana.jl\")\n",
    "include(\"model_meta_pop.jl\")\n",
    "include(\"main_model_meta_pop.jl\")"
   ]
  },
  {
   "cell_type": "markdown",
   "id": "b0e8fcd3-c78e-4e2f-b400-82d0641c9954",
   "metadata": {},
   "source": [
    "# Prepare baseline values"
   ]
  },
  {
   "cell_type": "code",
   "execution_count": 20,
   "id": "f8aaab1f-5bb9-484f-a7a9-cb1f69e28ae7",
   "metadata": {},
   "outputs": [
    {
     "data": {
      "text/plain": [
       "post_processing (generic function with 1 method)"
      ]
     },
     "execution_count": 20,
     "metadata": {},
     "output_type": "execute_result"
    }
   ],
   "source": [
    "function post_processing(path_trans, pattern, ES_pattern, pc)\n",
    "    par_AFP, par_ES = set_par_AFP_ES(;pc=pc, pattern=pattern, ES_pattern=ES_pattern)\n",
    "    path_save = save_sensitivity_ES_catchment_area(\n",
    "        par_AFP, par_ES, path_trans; \n",
    "        inc_prop=0.01, pattern=pattern, ES_pattern=ES_pattern\n",
    "    )\n",
    "    #path_save = save_sensitivity_sampling_frequency(\n",
    "    #    par_AFP, par_ES, path_trans; \n",
    "    #    inc_prop=0.5\n",
    "    #)\n",
    "    remove_all_transmission_results(path_trans)\n",
    "    return path_save\n",
    "end"
   ]
  },
  {
   "cell_type": "code",
   "execution_count": 25,
   "id": "4c5df1c3-0c15-4d13-928d-2b6374105e36",
   "metadata": {},
   "outputs": [],
   "source": [
    "imp_ws_moz = CSV.read(\"../data/imp_ws_moz.csv\", DataFrame, header=false)[:,1]\n",
    "imp_ws_airport = CSV.read(\"../data/imp_ws_airport.csv\", DataFrame, header=false)[:,1]\n",
    "nothing"
   ]
  },
  {
   "cell_type": "code",
   "execution_count": 22,
   "id": "ca3066c7-0e69-41a8-a703-624b043e1fab",
   "metadata": {},
   "outputs": [
    {
     "data": {
      "text/plain": [
       "0.25"
      ]
     },
     "execution_count": 22,
     "metadata": {},
     "output_type": "execute_result"
    }
   ],
   "source": [
    "ES_pattern = \"ES_population_size\"\n",
    "pattern = \"population_size\"\n",
    "n_sim = 500\n",
    "R0 = 14\n",
    "α = 0.05 \n",
    "pc = 0.25"
   ]
  },
  {
   "cell_type": "markdown",
   "id": "0add8168-d488-484d-859d-291e39f3e4f5",
   "metadata": {},
   "source": [
    "## Sensitivity analysis for R0"
   ]
  },
  {
   "cell_type": "code",
   "execution_count": 8,
   "id": "350257bd",
   "metadata": {
    "lines_to_next_cell": 2
   },
   "outputs": [
    {
     "name": "stdout",
     "output_type": "stream",
     "text": [
      "Sensitivity analysis for R0 ================\n",
      "# of sites: 1502\n",
      "SEIRMetaModelParams\n",
      "  R0: Float64 18.0\n",
      "  γ1: Float64 0.25\n",
      "  γ2: Float64 0.06657789613848203\n",
      "  σ: Float64 0.3291\n",
      "  P_AFP: Float64 0.005\n",
      "  N_tot: Array{Int64}((1502,)) [202319, 143450, 115693, 114739, 110328, 96435, 87749, 86436, 85528, 79797  …  103, 103, 103, 103, 103, 102, 101, 101, 101, 101]\n",
      "  N_unvac: Array{Int64}((1502,)) [10317, 7586, 7612, 11170, 7259, 23715, 4640, 4571, 5627, 4726  …  2, 19, 7, 8, 4, 7, 6, 3, 6, 19]\n",
      "  I0_init: Int64 1\n",
      "  I0_ind: Int64 1\n",
      "  days: Int64 1095\n",
      "  n_site: Int64 1502\n",
      "  α: Float64 0.05\n",
      "  π_mat: Array{Float64}((1502, 1502)) [0.0 0.001005637766707509 … 2.2575725779946388e-6 5.791596828860633e-6; 0.0044426339358509875 0.0 … 1.1956517145791305e-5 5.869233333335014e-6; … ; 2.6402308181041693e-5 5.024276288063728e-7 … 0.0 7.144252225512413e-8; 5.869628505259726e-5 4.991087562957113e-7 … 3.024097945418509e-9 0.0]\n",
      "  μ: Float64 0.000547945205479452\n",
      "  β: Float64 1.1984021304926764\n",
      "  pc: Float64 0.25\n",
      "  imp_ws: Array{Float64}((1,)) [1.0]\n",
      "../dt_tmp/20240219_143504\n"
     ]
    },
    {
     "name": "stderr",
     "output_type": "stream",
     "text": [
      "\u001b[32mProgress: 100%|█████████████████████████████████████████| Time: 0:15:34\u001b[39m\n"
     ]
    },
    {
     "name": "stdout",
     "output_type": "stream",
     "text": [
      "Cum index:28\n",
      "Actual ES coverage: 34.20778\n",
      "AFPSurParams\n",
      "  P_test: Float64 0.97\n",
      "  P_sample: Float64 0.53\n",
      "  P_H: Float64 0.9\n",
      "ESParams\n",
      "  ES_μ: Float64 1.31\n",
      "  ES_σ: Float64 1.49\n",
      "  Pop_whole: Array{Float64}((1502,)) [2.37444075e6, 1.660322625e6, 1.336678625e6, 1.369116875e6, 1.28683475e6, 1.150419e6, 1.01532875e6, 1.00010775e6, 1.001090375e6, 915704.8125  …  1248.9202880859375, 1157.53759765625, 1138.3114013671875, 999.3184204101562, 1008.6461791992188, 1018.3812866210938, 1270.4072265625, 1096.8763427734375, 901.1810913085938, 1132.34912109375]\n",
      "  P_test: Float64 0.97\n",
      "  area: Array{Bool}((1502,)) Bool[1, 1, 1, 1, 1, 1, 1, 1, 1, 1  …  0, 0, 0, 0, 0, 0, 0, 0, 0, 0]\n",
      "  n_freq: Int64 30\n",
      "  pc: Float64 0.25\n"
     ]
    },
    {
     "name": "stderr",
     "output_type": "stream",
     "text": [
      "\u001b[32mProgress: 100%|█████████████████████████████████████████| Time: 0:02:40\u001b[39m\n"
     ]
    },
    {
     "name": "stdout",
     "output_type": "stream",
     "text": [
      "Any[\"R0=18, α=0.05, pc=0.25, n_sim=500, pattern=population_size, path: ../dt_tmp_res/sens_ES_catchment_20240219_145322.jld2\"]\n"
     ]
    }
   ],
   "source": [
    "println(\"Sensitivity analysis for R0 ================\")\n",
    "summary_info = []\n",
    "for R0_sens in [10, 12, 16, 18]\n",
    "    path_trans = run_transmission_model(;\n",
    "        R0=R0_sens, α=α, pc=pc, imp_ws=[1.0],\n",
    "        n_sim=n_sim,\n",
    "        pattern=pattern, ES_pattern=ES_pattern\n",
    "    )\n",
    "    path_save = post_processing(path_trans, pattern, ES_pattern, pc)\n",
    "    rec = \"R0=$(R0_sens), α=$(α), pc=$(pc), n_sim=$(n_sim), pattern=$(pattern), path: $(path_save)\"\n",
    "    push!(summary_info, rec)\n",
    "end\n",
    "println(summary_info)"
   ]
  },
  {
   "cell_type": "code",
   "execution_count": 21,
   "id": "2c26f564-14b0-4194-b9a0-cfd1388c48a2",
   "metadata": {},
   "outputs": [
    {
     "name": "stdout",
     "output_type": "stream",
     "text": [
      "Sensitivity analysis for α ================\n",
      "# of sites: 1502\n",
      "SEIRMetaModelParams\n",
      "  R0: Float64 14.0\n",
      "  γ1: Float64 0.25\n",
      "  γ2: Float64 0.06657789613848203\n",
      "  σ: Float64 0.3291\n",
      "  P_AFP: Float64 0.005\n",
      "  N_tot: Array{Int64}((1502,)) [202319, 143450, 115693, 114739, 110328, 96435, 87749, 86436, 85528, 79797  …  103, 103, 103, 103, 103, 102, 101, 101, 101, 101]\n",
      "  N_unvac: Array{Int64}((1502,)) [10317, 7586, 7612, 11170, 7259, 23715, 4640, 4571, 5627, 4726  …  2, 19, 7, 8, 4, 7, 6, 3, 6, 19]\n",
      "  I0_init: Int64 1\n",
      "  I0_ind: Int64 1\n",
      "  days: Int64 1095\n",
      "  n_site: Int64 1502\n",
      "  α: Float64 0.005\n",
      "  π_mat: Array{Float64}((1502, 1502)) [0.0 0.001005637766707509 … 2.2575725779946388e-6 5.791596828860633e-6; 0.0044426339358509875 0.0 … 1.1956517145791305e-5 5.869233333335014e-6; … ; 2.6402308181041693e-5 5.024276288063728e-7 … 0.0 7.144252225512413e-8; 5.869628505259726e-5 4.991087562957113e-7 … 3.024097945418509e-9 0.0]\n",
      "  μ: Float64 0.000547945205479452\n",
      "  β: Float64 0.9320905459387484\n",
      "  pc: Float64 0.25\n",
      "  imp_ws: Array{Float64}((1,)) [1.0]\n",
      "../dt_tmp/20240217_120726\n"
     ]
    },
    {
     "name": "stderr",
     "output_type": "stream",
     "text": [
      "\u001b[32mProgress: 100%|█████████████████████████████████████████| Time: 0:08:55\u001b[39m\n"
     ]
    },
    {
     "name": "stdout",
     "output_type": "stream",
     "text": [
      "Cum index:28\n",
      "Actual ES coverage: 34.20778\n",
      "AFPSurParams\n",
      "  P_test: Float64 0.97\n",
      "  P_sample: Float64 0.53\n",
      "  P_H: Float64 0.9\n",
      "ESParams\n",
      "  ES_μ: Float64 1.31\n",
      "  ES_σ: Float64 1.49\n",
      "  Pop_whole: Array{Float64}((1502,)) [2.37444075e6, 1.660322625e6, 1.336678625e6, 1.369116875e6, 1.28683475e6, 1.150419e6, 1.01532875e6, 1.00010775e6, 1.001090375e6, 915704.8125  …  1248.9202880859375, 1157.53759765625, 1138.3114013671875, 999.3184204101562, 1008.6461791992188, 1018.3812866210938, 1270.4072265625, 1096.8763427734375, 901.1810913085938, 1132.34912109375]\n",
      "  P_test: Float64 0.97\n",
      "  area: Array{Bool}((1502,)) Bool[1, 1, 1, 1, 1, 1, 1, 1, 1, 1  …  0, 0, 0, 0, 0, 0, 0, 0, 0, 0]\n",
      "  n_freq: Int64 30\n",
      "  pc: Float64 0.25\n"
     ]
    },
    {
     "name": "stderr",
     "output_type": "stream",
     "text": [
      "\u001b[32mProgress: 100%|█████████████████████████████████████████| Time: 0:02:22\u001b[39m\n"
     ]
    },
    {
     "name": "stdout",
     "output_type": "stream",
     "text": [
      "# of sites: 1502\n",
      "SEIRMetaModelParams\n",
      "  R0: Float64 14.0\n",
      "  γ1: Float64 0.25\n",
      "  γ2: Float64 0.06657789613848203\n",
      "  σ: Float64 0.3291\n",
      "  P_AFP: Float64 0.005\n",
      "  N_tot: Array{Int64}((1502,)) [202319, 143450, 115693, 114739, 110328, 96435, 87749, 86436, 85528, 79797  …  103, 103, 103, 103, 103, 102, 101, 101, 101, 101]\n",
      "  N_unvac: Array{Int64}((1502,)) [10317, 7586, 7612, 11170, 7259, 23715, 4640, 4571, 5627, 4726  …  2, 19, 7, 8, 4, 7, 6, 3, 6, 19]\n",
      "  I0_init: Int64 1\n",
      "  I0_ind: Int64 1\n",
      "  days: Int64 1095\n",
      "  n_site: Int64 1502\n",
      "  α: Float64 0.01\n",
      "  π_mat: Array{Float64}((1502, 1502)) [0.0 0.001005637766707509 … 2.2575725779946388e-6 5.791596828860633e-6; 0.0044426339358509875 0.0 … 1.1956517145791305e-5 5.869233333335014e-6; … ; 2.6402308181041693e-5 5.024276288063728e-7 … 0.0 7.144252225512413e-8; 5.869628505259726e-5 4.991087562957113e-7 … 3.024097945418509e-9 0.0]\n",
      "  μ: Float64 0.000547945205479452\n",
      "  β: Float64 0.9320905459387484\n",
      "  pc: Float64 0.25\n",
      "  imp_ws: Array{Float64}((1,)) [1.0]\n",
      "../dt_tmp/20240217_121849\n"
     ]
    },
    {
     "name": "stderr",
     "output_type": "stream",
     "text": [
      "\u001b[32mProgress: 100%|█████████████████████████████████████████| Time: 0:10:43\u001b[39m\n"
     ]
    },
    {
     "name": "stdout",
     "output_type": "stream",
     "text": [
      "Cum index:28\n",
      "Actual ES coverage: 34.20778\n",
      "AFPSurParams\n",
      "  P_test: Float64 0.97\n",
      "  P_sample: Float64 0.53\n",
      "  P_H: Float64 0.9\n",
      "ESParams\n",
      "  ES_μ: Float64 1.31\n",
      "  ES_σ: Float64 1.49\n",
      "  Pop_whole: Array{Float64}((1502,)) [2.37444075e6, 1.660322625e6, 1.336678625e6, 1.369116875e6, 1.28683475e6, 1.150419e6, 1.01532875e6, 1.00010775e6, 1.001090375e6, 915704.8125  …  1248.9202880859375, 1157.53759765625, 1138.3114013671875, 999.3184204101562, 1008.6461791992188, 1018.3812866210938, 1270.4072265625, 1096.8763427734375, 901.1810913085938, 1132.34912109375]\n",
      "  P_test: Float64 0.97\n",
      "  area: Array{Bool}((1502,)) Bool[1, 1, 1, 1, 1, 1, 1, 1, 1, 1  …  0, 0, 0, 0, 0, 0, 0, 0, 0, 0]\n",
      "  n_freq: Int64 30\n",
      "  pc: Float64 0.25\n"
     ]
    },
    {
     "name": "stderr",
     "output_type": "stream",
     "text": [
      "\u001b[32mProgress: 100%|█████████████████████████████████████████| Time: 0:02:09\u001b[39m\n"
     ]
    },
    {
     "name": "stdout",
     "output_type": "stream",
     "text": [
      "# of sites: 1502\n",
      "SEIRMetaModelParams\n",
      "  R0: Float64 14.0\n",
      "  γ1: Float64 0.25\n",
      "  γ2: Float64 0.06657789613848203\n",
      "  σ: Float64 0.3291\n",
      "  P_AFP: Float64 0.005\n",
      "  N_tot: Array{Int64}((1502,)) [202319, 143450, 115693, 114739, 110328, 96435, 87749, 86436, 85528, 79797  …  103, 103, 103, 103, 103, 102, 101, 101, 101, 101]\n",
      "  N_unvac: Array{Int64}((1502,)) [10317, 7586, 7612, 11170, 7259, 23715, 4640, 4571, 5627, 4726  …  2, 19, 7, 8, 4, 7, 6, 3, 6, 19]\n",
      "  I0_init: Int64 1\n",
      "  I0_ind: Int64 1\n",
      "  days: Int64 1095\n",
      "  n_site: Int64 1502\n",
      "  α: Float64 0.1\n",
      "  π_mat: Array{Float64}((1502, 1502)) [0.0 0.001005637766707509 … 2.2575725779946388e-6 5.791596828860633e-6; 0.0044426339358509875 0.0 … 1.1956517145791305e-5 5.869233333335014e-6; … ; 2.6402308181041693e-5 5.024276288063728e-7 … 0.0 7.144252225512413e-8; 5.869628505259726e-5 4.991087562957113e-7 … 3.024097945418509e-9 0.0]\n",
      "  μ: Float64 0.000547945205479452\n",
      "  β: Float64 0.9320905459387484\n",
      "  pc: Float64 0.25\n",
      "  imp_ws: Array{Float64}((1,)) [1.0]\n",
      "../dt_tmp/20240217_123147\n"
     ]
    },
    {
     "name": "stderr",
     "output_type": "stream",
     "text": [
      "\u001b[32mProgress: 100%|█████████████████████████████████████████| Time: 0:10:49\u001b[39m\n"
     ]
    },
    {
     "name": "stdout",
     "output_type": "stream",
     "text": [
      "Cum index:28\n",
      "Actual ES coverage: 34.20778\n",
      "AFPSurParams\n",
      "  P_test: Float64 0.97\n",
      "  P_sample: Float64 0.53\n",
      "  P_H: Float64 0.9\n",
      "ESParams\n",
      "  ES_μ: Float64 1.31\n",
      "  ES_σ: Float64 1.49\n",
      "  Pop_whole: Array{Float64}((1502,)) [2.37444075e6, 1.660322625e6, 1.336678625e6, 1.369116875e6, 1.28683475e6, 1.150419e6, 1.01532875e6, 1.00010775e6, 1.001090375e6, 915704.8125  …  1248.9202880859375, 1157.53759765625, 1138.3114013671875, 999.3184204101562, 1008.6461791992188, 1018.3812866210938, 1270.4072265625, 1096.8763427734375, 901.1810913085938, 1132.34912109375]\n",
      "  P_test: Float64 0.97\n",
      "  area: Array{Bool}((1502,)) Bool[1, 1, 1, 1, 1, 1, 1, 1, 1, 1  …  0, 0, 0, 0, 0, 0, 0, 0, 0, 0]\n",
      "  n_freq: Int64 30\n",
      "  pc: Float64 0.25\n"
     ]
    },
    {
     "name": "stderr",
     "output_type": "stream",
     "text": [
      "\u001b[32mProgress: 100%|█████████████████████████████████████████| Time: 0:02:29\u001b[39m\n"
     ]
    },
    {
     "name": "stdout",
     "output_type": "stream",
     "text": [
      "# of sites: 1502\n",
      "SEIRMetaModelParams\n",
      "  R0: Float64 14.0\n",
      "  γ1: Float64 0.25\n",
      "  γ2: Float64 0.06657789613848203\n",
      "  σ: Float64 0.3291\n",
      "  P_AFP: Float64 0.005\n",
      "  N_tot: Array{Int64}((1502,)) [202319, 143450, 115693, 114739, 110328, 96435, 87749, 86436, 85528, 79797  …  103, 103, 103, 103, 103, 102, 101, 101, 101, 101]\n",
      "  N_unvac: Array{Int64}((1502,)) [10317, 7586, 7612, 11170, 7259, 23715, 4640, 4571, 5627, 4726  …  2, 19, 7, 8, 4, 7, 6, 3, 6, 19]\n",
      "  I0_init: Int64 1\n",
      "  I0_ind: Int64 1\n",
      "  days: Int64 1095\n",
      "  n_site: Int64 1502\n",
      "  α: Float64 0.5\n",
      "  π_mat: Array{Float64}((1502, 1502)) [0.0 0.001005637766707509 … 2.2575725779946388e-6 5.791596828860633e-6; 0.0044426339358509875 0.0 … 1.1956517145791305e-5 5.869233333335014e-6; … ; 2.6402308181041693e-5 5.024276288063728e-7 … 0.0 7.144252225512413e-8; 5.869628505259726e-5 4.991087562957113e-7 … 3.024097945418509e-9 0.0]\n",
      "  μ: Float64 0.000547945205479452\n",
      "  β: Float64 0.9320905459387484\n",
      "  pc: Float64 0.25\n",
      "  imp_ws: Array{Float64}((1,)) [1.0]\n",
      "../dt_tmp/20240217_124511\n"
     ]
    },
    {
     "name": "stderr",
     "output_type": "stream",
     "text": [
      "\u001b[32mProgress: 100%|█████████████████████████████████████████| Time: 0:12:27\u001b[39m\n"
     ]
    },
    {
     "name": "stdout",
     "output_type": "stream",
     "text": [
      "Cum index:28\n",
      "Actual ES coverage: 34.20778\n",
      "AFPSurParams\n",
      "  P_test: Float64 0.97\n",
      "  P_sample: Float64 0.53\n",
      "  P_H: Float64 0.9\n",
      "ESParams\n",
      "  ES_μ: Float64 1.31\n",
      "  ES_σ: Float64 1.49\n",
      "  Pop_whole: Array{Float64}((1502,)) [2.37444075e6, 1.660322625e6, 1.336678625e6, 1.369116875e6, 1.28683475e6, 1.150419e6, 1.01532875e6, 1.00010775e6, 1.001090375e6, 915704.8125  …  1248.9202880859375, 1157.53759765625, 1138.3114013671875, 999.3184204101562, 1008.6461791992188, 1018.3812866210938, 1270.4072265625, 1096.8763427734375, 901.1810913085938, 1132.34912109375]\n",
      "  P_test: Float64 0.97\n",
      "  area: Array{Bool}((1502,)) Bool[1, 1, 1, 1, 1, 1, 1, 1, 1, 1  …  0, 0, 0, 0, 0, 0, 0, 0, 0, 0]\n",
      "  n_freq: Int64 30\n",
      "  pc: Float64 0.25\n"
     ]
    },
    {
     "name": "stderr",
     "output_type": "stream",
     "text": [
      "\u001b[32mProgress: 100%|█████████████████████████████████████████| Time: 0:02:22\u001b[39m\n"
     ]
    },
    {
     "name": "stdout",
     "output_type": "stream",
     "text": [
      "Any[\"R0=14, α=0.005, pc=0.25, n_sim=500, pattern=population_size, path: ../dt_tmp_res/sens_ES_catchment_20240217_121844.jld2\", \"R0=14, α=0.01, pc=0.25, n_sim=500, pattern=population_size, path: ../dt_tmp_res/sens_ES_catchment_20240217_123143.jld2\", \"R0=14, α=0.1, pc=0.25, n_sim=500, pattern=population_size, path: ../dt_tmp_res/sens_ES_catchment_20240217_124506.jld2\", \"R0=14, α=0.5, pc=0.25, n_sim=500, pattern=population_size, path: ../dt_tmp_res/sens_ES_catchment_20240217_130002.jld2\"]\n"
     ]
    }
   ],
   "source": [
    "println(\"Sensitivity analysis for α ================\")\n",
    "summary_info = []\n",
    "for α_sens in [0.005, 0.010, 0.100, 0.500]\n",
    "    path_trans = run_transmission_model(;\n",
    "        R0=R0, α=α_sens, pc=pc, imp_ws=[1.0],\n",
    "        n_sim=n_sim,\n",
    "        pattern=pattern, ES_pattern=ES_pattern\n",
    "    )\n",
    "    path_save = post_processing(path_trans, pattern, ES_pattern, pc)\n",
    "    rec = \"R0=$(R0), α=$(α_sens), pc=$(pc), n_sim=$(n_sim), pattern=$(pattern), path: $(path_save)\"\n",
    "    push!(summary_info, rec)\n",
    "end\n",
    "println(summary_info)"
   ]
  },
  {
   "cell_type": "markdown",
   "id": "0c6e4e8e-3dfe-4bef-8b50-3af1cbc9e855",
   "metadata": {},
   "source": [
    "# Sensitivity analysis for pc "
   ]
  },
  {
   "cell_type": "code",
   "execution_count": 13,
   "id": "a9f7224e-f7c7-4e52-9feb-6912c555e591",
   "metadata": {},
   "outputs": [
    {
     "name": "stdout",
     "output_type": "stream",
     "text": [
      "Sensitivity analysis for pc ================\n",
      "# of sites: 1502\n",
      "SEIRMetaModelParams\n",
      "  R0: Float64 14.0\n",
      "  γ1: Float64 0.25\n",
      "  γ2: Float64 0.06657789613848203\n",
      "  σ: Float64 0.3291\n",
      "  P_AFP: Float64 0.005\n",
      "  N_tot: Array{Int64}((1502,)) [202319, 143450, 115693, 114739, 110328, 96435, 87749, 86436, 85528, 79797  …  103, 103, 103, 103, 103, 102, 101, 101, 101, 101]\n",
      "  N_unvac: Array{Int64}((1502,)) [10317, 7586, 7612, 11170, 7259, 23715, 4640, 4571, 5627, 4726  …  2, 19, 7, 8, 4, 7, 6, 3, 6, 19]\n",
      "  I0_init: Int64 1\n",
      "  I0_ind: Int64 1\n",
      "  days: Int64 1095\n",
      "  n_site: Int64 1502\n",
      "  α: Float64 0.05\n",
      "  π_mat: Array{Float64}((1502, 1502)) [0.0 0.001005637766707509 … 2.2575725779946388e-6 5.791596828860633e-6; 0.0044426339358509875 0.0 … 1.1956517145791305e-5 5.869233333335014e-6; … ; 2.6402308181041693e-5 5.024276288063728e-7 … 0.0 7.144252225512413e-8; 5.869628505259726e-5 4.991087562957113e-7 … 3.024097945418509e-9 0.0]\n",
      "  μ: Float64 0.000547945205479452\n",
      "  β: Float64 0.9320905459387484\n",
      "  pc: Float64 0.01\n",
      "  imp_ws: Array{Float64}((1,)) [1.0]\n",
      "../dt_tmp/20240219_174937\n"
     ]
    },
    {
     "name": "stderr",
     "output_type": "stream",
     "text": [
      "\u001b[32mProgress: 100%|█████████████████████████████████████████| Time: 0:10:45\u001b[39m\n"
     ]
    },
    {
     "name": "stdout",
     "output_type": "stream",
     "text": [
      "Cum index:1502\n",
      "Actual ES coverage: 100.0\n",
      "AFPSurParams\n",
      "  P_test: Float64 0.97\n",
      "  P_sample: Float64 0.53\n",
      "  P_H: Float64 0.9\n",
      "ESParams\n",
      "  ES_μ: Float64 1.31\n",
      "  ES_σ: Float64 1.49\n",
      "  Pop_whole: Array{Float64}((1502,)) [2.37444075e6, 1.660322625e6, 1.336678625e6, 1.369116875e6, 1.28683475e6, 1.150419e6, 1.01532875e6, 1.00010775e6, 1.001090375e6, 915704.8125  …  1248.9202880859375, 1157.53759765625, 1138.3114013671875, 999.3184204101562, 1008.6461791992188, 1018.3812866210938, 1270.4072265625, 1096.8763427734375, 901.1810913085938, 1132.34912109375]\n",
      "  P_test: Float64 0.97\n",
      "  area: Array{Bool}((1502,)) Bool[1, 1, 1, 1, 1, 1, 1, 1, 1, 1  …  1, 1, 1, 1, 1, 1, 1, 1, 1, 1]\n",
      "  n_freq: Int64 30\n",
      "  pc: Float64 0.01\n"
     ]
    },
    {
     "name": "stderr",
     "output_type": "stream",
     "text": [
      "\u001b[32mProgress: 100%|█████████████████████████████████████████| Time: 0:02:24\u001b[39m\n"
     ]
    },
    {
     "name": "stdout",
     "output_type": "stream",
     "text": [
      "# of sites: 1502\n",
      "SEIRMetaModelParams\n",
      "  R0: Float64 14.0\n",
      "  γ1: Float64 0.25\n",
      "  γ2: Float64 0.06657789613848203\n",
      "  σ: Float64 0.3291\n",
      "  P_AFP: Float64 0.005\n",
      "  N_tot: Array{Int64}((1502,)) [202319, 143450, 115693, 114739, 110328, 96435, 87749, 86436, 85528, 79797  …  103, 103, 103, 103, 103, 102, 101, 101, 101, 101]\n",
      "  N_unvac: Array{Int64}((1502,)) [10317, 7586, 7612, 11170, 7259, 23715, 4640, 4571, 5627, 4726  …  2, 19, 7, 8, 4, 7, 6, 3, 6, 19]\n",
      "  I0_init: Int64 1\n",
      "  I0_ind: Int64 1\n",
      "  days: Int64 1095\n",
      "  n_site: Int64 1502\n",
      "  α: Float64 0.05\n",
      "  π_mat: Array{Float64}((1502, 1502)) [0.0 0.001005637766707509 … 2.2575725779946388e-6 5.791596828860633e-6; 0.0044426339358509875 0.0 … 1.1956517145791305e-5 5.869233333335014e-6; … ; 2.6402308181041693e-5 5.024276288063728e-7 … 0.0 7.144252225512413e-8; 5.869628505259726e-5 4.991087562957113e-7 … 3.024097945418509e-9 0.0]\n",
      "  μ: Float64 0.000547945205479452\n",
      "  β: Float64 0.9320905459387484\n",
      "  pc: Float64 0.05\n",
      "  imp_ws: Array{Float64}((1,)) [1.0]\n",
      "../dt_tmp/20240219_180253\n"
     ]
    },
    {
     "name": "stderr",
     "output_type": "stream",
     "text": [
      "\u001b[32mProgress: 100%|█████████████████████████████████████████| Time: 0:10:35\u001b[39m\n"
     ]
    },
    {
     "name": "stdout",
     "output_type": "stream",
     "text": [
      "Cum index:1502\n",
      "Actual ES coverage: 100.0\n",
      "AFPSurParams\n",
      "  P_test: Float64 0.97\n",
      "  P_sample: Float64 0.53\n",
      "  P_H: Float64 0.9\n",
      "ESParams\n",
      "  ES_μ: Float64 1.31\n",
      "  ES_σ: Float64 1.49\n",
      "  Pop_whole: Array{Float64}((1502,)) [2.37444075e6, 1.660322625e6, 1.336678625e6, 1.369116875e6, 1.28683475e6, 1.150419e6, 1.01532875e6, 1.00010775e6, 1.001090375e6, 915704.8125  …  1248.9202880859375, 1157.53759765625, 1138.3114013671875, 999.3184204101562, 1008.6461791992188, 1018.3812866210938, 1270.4072265625, 1096.8763427734375, 901.1810913085938, 1132.34912109375]\n",
      "  P_test: Float64 0.97\n",
      "  area: Array{Bool}((1502,)) Bool[1, 1, 1, 1, 1, 1, 1, 1, 1, 1  …  1, 1, 1, 1, 1, 1, 1, 1, 1, 1]\n",
      "  n_freq: Int64 30\n",
      "  pc: Float64 0.05\n"
     ]
    },
    {
     "name": "stderr",
     "output_type": "stream",
     "text": [
      "\u001b[32mProgress: 100%|█████████████████████████████████████████| Time: 0:02:18\u001b[39m\n"
     ]
    },
    {
     "name": "stdout",
     "output_type": "stream",
     "text": [
      "# of sites: 1502\n",
      "SEIRMetaModelParams\n",
      "  R0: Float64 14.0\n",
      "  γ1: Float64 0.25\n",
      "  γ2: Float64 0.06657789613848203\n",
      "  σ: Float64 0.3291\n",
      "  P_AFP: Float64 0.005\n",
      "  N_tot: Array{Int64}((1502,)) [202319, 143450, 115693, 114739, 110328, 96435, 87749, 86436, 85528, 79797  …  103, 103, 103, 103, 103, 102, 101, 101, 101, 101]\n",
      "  N_unvac: Array{Int64}((1502,)) [10317, 7586, 7612, 11170, 7259, 23715, 4640, 4571, 5627, 4726  …  2, 19, 7, 8, 4, 7, 6, 3, 6, 19]\n",
      "  I0_init: Int64 1\n",
      "  I0_ind: Int64 1\n",
      "  days: Int64 1095\n",
      "  n_site: Int64 1502\n",
      "  α: Float64 0.05\n",
      "  π_mat: Array{Float64}((1502, 1502)) [0.0 0.001005637766707509 … 2.2575725779946388e-6 5.791596828860633e-6; 0.0044426339358509875 0.0 … 1.1956517145791305e-5 5.869233333335014e-6; … ; 2.6402308181041693e-5 5.024276288063728e-7 … 0.0 7.144252225512413e-8; 5.869628505259726e-5 4.991087562957113e-7 … 3.024097945418509e-9 0.0]\n",
      "  μ: Float64 0.000547945205479452\n",
      "  β: Float64 0.9320905459387484\n",
      "  pc: Float64 0.5\n",
      "  imp_ws: Array{Float64}((1,)) [1.0]\n",
      "../dt_tmp/20240219_181552\n"
     ]
    },
    {
     "name": "stderr",
     "output_type": "stream",
     "text": [
      "\u001b[32mProgress: 100%|█████████████████████████████████████████| Time: 0:10:46\u001b[39m\n"
     ]
    },
    {
     "name": "stdout",
     "output_type": "stream",
     "text": [
      "Cum index:8\n",
      "Actual ES coverage: 16.807865\n",
      "AFPSurParams\n",
      "  P_test: Float64 0.97\n",
      "  P_sample: Float64 0.53\n",
      "  P_H: Float64 0.9\n",
      "ESParams\n",
      "  ES_μ: Float64 1.31\n",
      "  ES_σ: Float64 1.49\n",
      "  Pop_whole: Array{Float64}((1502,)) [2.37444075e6, 1.660322625e6, 1.336678625e6, 1.369116875e6, 1.28683475e6, 1.150419e6, 1.01532875e6, 1.00010775e6, 1.001090375e6, 915704.8125  …  1248.9202880859375, 1157.53759765625, 1138.3114013671875, 999.3184204101562, 1008.6461791992188, 1018.3812866210938, 1270.4072265625, 1096.8763427734375, 901.1810913085938, 1132.34912109375]\n",
      "  P_test: Float64 0.97\n",
      "  area: Array{Bool}((1502,)) Bool[1, 1, 1, 1, 1, 1, 1, 1, 0, 0  …  0, 0, 0, 0, 0, 0, 0, 0, 0, 0]\n",
      "  n_freq: Int64 30\n",
      "  pc: Float64 0.5\n"
     ]
    },
    {
     "name": "stderr",
     "output_type": "stream",
     "text": [
      "\u001b[32mProgress: 100%|█████████████████████████████████████████| Time: 0:02:14\u001b[39m\n"
     ]
    },
    {
     "name": "stdout",
     "output_type": "stream",
     "text": [
      "# of sites: 1502\n",
      "SEIRMetaModelParams\n",
      "  R0: Float64 14.0\n",
      "  γ1: Float64 0.25\n",
      "  γ2: Float64 0.06657789613848203\n",
      "  σ: Float64 0.3291\n",
      "  P_AFP: Float64 0.005\n",
      "  N_tot: Array{Int64}((1502,)) [202319, 143450, 115693, 114739, 110328, 96435, 87749, 86436, 85528, 79797  …  103, 103, 103, 103, 103, 102, 101, 101, 101, 101]\n",
      "  N_unvac: Array{Int64}((1502,)) [10317, 7586, 7612, 11170, 7259, 23715, 4640, 4571, 5627, 4726  …  2, 19, 7, 8, 4, 7, 6, 3, 6, 19]\n",
      "  I0_init: Int64 1\n",
      "  I0_ind: Int64 1\n",
      "  days: Int64 1095\n",
      "  n_site: Int64 1502\n",
      "  α: Float64 0.05\n",
      "  π_mat: Array{Float64}((1502, 1502)) [0.0 0.001005637766707509 … 2.2575725779946388e-6 5.791596828860633e-6; 0.0044426339358509875 0.0 … 1.1956517145791305e-5 5.869233333335014e-6; … ; 2.6402308181041693e-5 5.024276288063728e-7 … 0.0 7.144252225512413e-8; 5.869628505259726e-5 4.991087562957113e-7 … 3.024097945418509e-9 0.0]\n",
      "  μ: Float64 0.000547945205479452\n",
      "  β: Float64 0.9320905459387484\n",
      "  pc: Float64 1.0\n",
      "  imp_ws: Array{Float64}((1,)) [1.0]\n",
      "../dt_tmp/20240219_182900\n"
     ]
    },
    {
     "name": "stderr",
     "output_type": "stream",
     "text": [
      "\u001b[32mProgress: 100%|█████████████████████████████████████████| Time: 0:10:57\u001b[39m\n"
     ]
    },
    {
     "name": "stdout",
     "output_type": "stream",
     "text": [
      "Cum index:3\n",
      "Actual ES coverage: 8.103432\n",
      "AFPSurParams\n",
      "  P_test: Float64 0.97\n",
      "  P_sample: Float64 0.53\n",
      "  P_H: Float64 0.9\n",
      "ESParams\n",
      "  ES_μ: Float64 1.31\n",
      "  ES_σ: Float64 1.49\n",
      "  Pop_whole: Array{Float64}((1502,)) [2.37444075e6, 1.660322625e6, 1.336678625e6, 1.369116875e6, 1.28683475e6, 1.150419e6, 1.01532875e6, 1.00010775e6, 1.001090375e6, 915704.8125  …  1248.9202880859375, 1157.53759765625, 1138.3114013671875, 999.3184204101562, 1008.6461791992188, 1018.3812866210938, 1270.4072265625, 1096.8763427734375, 901.1810913085938, 1132.34912109375]\n",
      "  P_test: Float64 0.97\n",
      "  area: Array{Bool}((1502,)) Bool[1, 1, 1, 0, 0, 0, 0, 0, 0, 0  …  0, 0, 0, 0, 0, 0, 0, 0, 0, 0]\n",
      "  n_freq: Int64 30\n",
      "  pc: Float64 1.0\n"
     ]
    },
    {
     "name": "stderr",
     "output_type": "stream",
     "text": [
      "\u001b[32mProgress: 100%|█████████████████████████████████████████| Time: 0:02:06\u001b[39m\n"
     ]
    },
    {
     "name": "stdout",
     "output_type": "stream",
     "text": [
      "Any[\"R0=14, α=0.05, pc=0.01, n_sim=500, pattern=population_size, path: ../dt_tmp_res/sens_ES_catchment_20240219_180248.jld2\", \"R0=14, α=0.05, pc=0.05, n_sim=500, pattern=population_size, path: ../dt_tmp_res/sens_ES_catchment_20240219_181547.jld2\", \"R0=14, α=0.05, pc=0.5, n_sim=500, pattern=population_size, path: ../dt_tmp_res/sens_ES_catchment_20240219_182854.jld2\", \"R0=14, α=0.05, pc=1.0, n_sim=500, pattern=population_size, path: ../dt_tmp_res/sens_ES_catchment_20240219_184204.jld2\"]\n"
     ]
    }
   ],
   "source": [
    "println(\"Sensitivity analysis for pc ================\")\n",
    "summary_info = []\n",
    "for pc_sens in  [0.01, 0.05, 0.50, 1.0]\n",
    "    path_trans = run_transmission_model(;\n",
    "        R0=R0, α=α, pc=pc_sens, imp_ws=[1.0],\n",
    "        n_sim=n_sim,\n",
    "        pattern=pattern, ES_pattern=ES_pattern\n",
    "    )\n",
    "    path_save = post_processing(path_trans, pattern, ES_pattern, pc_sens)\n",
    "    rec = \"R0=$(R0), α=$(α), pc=$(pc_sens), n_sim=$(n_sim), pattern=$(pattern), path: $(path_save)\"\n",
    "    push!(summary_info, rec)\n",
    "end\n",
    "println(summary_info)"
   ]
  },
  {
   "cell_type": "code",
   "execution_count": 23,
   "id": "0ade1400-9a8a-415b-98fe-fa471830609c",
   "metadata": {},
   "outputs": [
    {
     "name": "stdout",
     "output_type": "stream",
     "text": [
      "Sensitivity analysis for pc with airport scenario ================\n",
      "# of sites: 1502\n",
      "SEIRMetaModelParams\n",
      "  R0: Float64 14.0\n",
      "  γ1: Float64 0.25\n",
      "  γ2: Float64 0.06657789613848203\n",
      "  σ: Float64 0.3291\n",
      "  P_AFP: Float64 0.005\n",
      "  N_tot: Array{Int64}((1502,)) [202319, 143450, 115693, 114739, 110328, 96435, 87749, 86436, 85528, 79797  …  103, 103, 103, 103, 103, 102, 101, 101, 101, 101]\n",
      "  N_unvac: Array{Int64}((1502,)) [10317, 7586, 7612, 11170, 7259, 23715, 4640, 4571, 5627, 4726  …  2, 19, 7, 8, 4, 7, 6, 3, 6, 19]\n",
      "  I0_init: Int64 1\n",
      "  I0_ind: Int64 1\n",
      "  days: Int64 1095\n",
      "  n_site: Int64 1502\n",
      "  α: Float64 0.05\n",
      "  π_mat: Array{Float64}((1502, 1502)) [0.0 0.001005637766707509 … 2.2575725779946388e-6 5.791596828860633e-6; 0.0044426339358509875 0.0 … 1.1956517145791305e-5 5.869233333335014e-6; … ; 2.6402308181041693e-5 5.024276288063728e-7 … 0.0 7.144252225512413e-8; 5.869628505259726e-5 4.991087562957113e-7 … 3.024097945418509e-9 0.0]\n",
      "  μ: Float64 0.000547945205479452\n",
      "  β: Float64 0.9320905459387484\n",
      "  pc: Float64 0.01\n",
      "  imp_ws: Array{Float64}((1502,)) [0.031088165643860244, 0.06260238440074709, 0.09202688724319802, 0.0026433985034179765, 0.24789406080337692, 0.031059208539403776, 0.036339472923017216, 0.01402694541121827, 0.020972872263822252, 0.13585452919301177  …  2.5212876926894473e-6, 2.602159219657782e-6, 1.6817138417275634e-6, 1.5976002862659134e-6, 1.9252404356940207e-6, 1.6507829928861177e-6, 6.767117219384961e-6, 3.097573185825078e-6, 2.144959440129038e-6, 2.5398169603734627e-6]\n",
      "../dt_tmp/20240219_193804\n"
     ]
    },
    {
     "name": "stderr",
     "output_type": "stream",
     "text": [
      "\u001b[32mProgress: 100%|█████████████████████████████████████████| Time: 0:04:42\u001b[39m\n"
     ]
    },
    {
     "name": "stdout",
     "output_type": "stream",
     "text": [
      "Cum index:1502\n",
      "Actual ES coverage: 100.0\n",
      "AFPSurParams\n",
      "  P_test: Float64 0.97\n",
      "  P_sample: Float64 0.53\n",
      "  P_H: Float64 0.9\n",
      "ESParams\n",
      "  ES_μ: Float64 1.31\n",
      "  ES_σ: Float64 1.49\n",
      "  Pop_whole: Array{Float64}((1502,)) [2.37444075e6, 1.660322625e6, 1.336678625e6, 1.369116875e6, 1.28683475e6, 1.150419e6, 1.01532875e6, 1.00010775e6, 1.001090375e6, 915704.8125  …  1248.9202880859375, 1157.53759765625, 1138.3114013671875, 999.3184204101562, 1008.6461791992188, 1018.3812866210938, 1270.4072265625, 1096.8763427734375, 901.1810913085938, 1132.34912109375]\n",
      "  P_test: Float64 0.97\n",
      "  area: Array{Bool}((1502,)) Bool[1, 1, 1, 1, 1, 1, 1, 1, 1, 1  …  1, 1, 1, 1, 1, 1, 1, 1, 1, 1]\n",
      "  n_freq: Int64 30\n",
      "  pc: Float64 0.01\n"
     ]
    },
    {
     "name": "stderr",
     "output_type": "stream",
     "text": [
      "\u001b[32mProgress: 100%|█████████████████████████████████████████| Time: 0:02:32\u001b[39m\n"
     ]
    },
    {
     "name": "stdout",
     "output_type": "stream",
     "text": [
      "# of sites: 1502\n",
      "SEIRMetaModelParams\n",
      "  R0: Float64 14.0\n",
      "  γ1: Float64 0.25\n",
      "  γ2: Float64 0.06657789613848203\n",
      "  σ: Float64 0.3291\n",
      "  P_AFP: Float64 0.005\n",
      "  N_tot: Array{Int64}((1502,)) [202319, 143450, 115693, 114739, 110328, 96435, 87749, 86436, 85528, 79797  …  103, 103, 103, 103, 103, 102, 101, 101, 101, 101]\n",
      "  N_unvac: Array{Int64}((1502,)) [10317, 7586, 7612, 11170, 7259, 23715, 4640, 4571, 5627, 4726  …  2, 19, 7, 8, 4, 7, 6, 3, 6, 19]\n",
      "  I0_init: Int64 1\n",
      "  I0_ind: Int64 1\n",
      "  days: Int64 1095\n",
      "  n_site: Int64 1502\n",
      "  α: Float64 0.05\n",
      "  π_mat: Array{Float64}((1502, 1502)) [0.0 0.001005637766707509 … 2.2575725779946388e-6 5.791596828860633e-6; 0.0044426339358509875 0.0 … 1.1956517145791305e-5 5.869233333335014e-6; … ; 2.6402308181041693e-5 5.024276288063728e-7 … 0.0 7.144252225512413e-8; 5.869628505259726e-5 4.991087562957113e-7 … 3.024097945418509e-9 0.0]\n",
      "  μ: Float64 0.000547945205479452\n",
      "  β: Float64 0.9320905459387484\n",
      "  pc: Float64 0.05\n",
      "  imp_ws: Array{Float64}((1502,)) [0.031088165643860244, 0.06260238440074709, 0.09202688724319802, 0.0026433985034179765, 0.24789406080337692, 0.031059208539403776, 0.036339472923017216, 0.01402694541121827, 0.020972872263822252, 0.13585452919301177  …  2.5212876926894473e-6, 2.602159219657782e-6, 1.6817138417275634e-6, 1.5976002862659134e-6, 1.9252404356940207e-6, 1.6507829928861177e-6, 6.767117219384961e-6, 3.097573185825078e-6, 2.144959440129038e-6, 2.5398169603734627e-6]\n",
      "../dt_tmp/20240219_194524\n"
     ]
    },
    {
     "name": "stderr",
     "output_type": "stream",
     "text": [
      "\u001b[32mProgress: 100%|█████████████████████████████████████████| Time: 0:04:20\u001b[39m\n"
     ]
    },
    {
     "name": "stdout",
     "output_type": "stream",
     "text": [
      "Cum index:1502\n",
      "Actual ES coverage: 100.0\n",
      "AFPSurParams\n",
      "  P_test: Float64 0.97\n",
      "  P_sample: Float64 0.53\n",
      "  P_H: Float64 0.9\n",
      "ESParams\n",
      "  ES_μ: Float64 1.31\n",
      "  ES_σ: Float64 1.49\n",
      "  Pop_whole: Array{Float64}((1502,)) [2.37444075e6, 1.660322625e6, 1.336678625e6, 1.369116875e6, 1.28683475e6, 1.150419e6, 1.01532875e6, 1.00010775e6, 1.001090375e6, 915704.8125  …  1248.9202880859375, 1157.53759765625, 1138.3114013671875, 999.3184204101562, 1008.6461791992188, 1018.3812866210938, 1270.4072265625, 1096.8763427734375, 901.1810913085938, 1132.34912109375]\n",
      "  P_test: Float64 0.97\n",
      "  area: Array{Bool}((1502,)) Bool[1, 1, 1, 1, 1, 1, 1, 1, 1, 1  …  1, 1, 1, 1, 1, 1, 1, 1, 1, 1]\n",
      "  n_freq: Int64 30\n",
      "  pc: Float64 0.05\n"
     ]
    },
    {
     "name": "stderr",
     "output_type": "stream",
     "text": [
      "\u001b[32mProgress: 100%|█████████████████████████████████████████| Time: 0:02:26\u001b[39m\n"
     ]
    },
    {
     "name": "stdout",
     "output_type": "stream",
     "text": [
      "# of sites: 1502\n",
      "SEIRMetaModelParams\n",
      "  R0: Float64 14.0\n",
      "  γ1: Float64 0.25\n",
      "  γ2: Float64 0.06657789613848203\n",
      "  σ: Float64 0.3291\n",
      "  P_AFP: Float64 0.005\n",
      "  N_tot: Array{Int64}((1502,)) [202319, 143450, 115693, 114739, 110328, 96435, 87749, 86436, 85528, 79797  …  103, 103, 103, 103, 103, 102, 101, 101, 101, 101]\n",
      "  N_unvac: Array{Int64}((1502,)) [10317, 7586, 7612, 11170, 7259, 23715, 4640, 4571, 5627, 4726  …  2, 19, 7, 8, 4, 7, 6, 3, 6, 19]\n",
      "  I0_init: Int64 1\n",
      "  I0_ind: Int64 1\n",
      "  days: Int64 1095\n",
      "  n_site: Int64 1502\n",
      "  α: Float64 0.05\n",
      "  π_mat: Array{Float64}((1502, 1502)) [0.0 0.001005637766707509 … 2.2575725779946388e-6 5.791596828860633e-6; 0.0044426339358509875 0.0 … 1.1956517145791305e-5 5.869233333335014e-6; … ; 2.6402308181041693e-5 5.024276288063728e-7 … 0.0 7.144252225512413e-8; 5.869628505259726e-5 4.991087562957113e-7 … 3.024097945418509e-9 0.0]\n",
      "  μ: Float64 0.000547945205479452\n",
      "  β: Float64 0.9320905459387484\n",
      "  pc: Float64 0.5\n",
      "  imp_ws: Array{Float64}((1502,)) [0.031088165643860244, 0.06260238440074709, 0.09202688724319802, 0.0026433985034179765, 0.24789406080337692, 0.031059208539403776, 0.036339472923017216, 0.01402694541121827, 0.020972872263822252, 0.13585452919301177  …  2.5212876926894473e-6, 2.602159219657782e-6, 1.6817138417275634e-6, 1.5976002862659134e-6, 1.9252404356940207e-6, 1.6507829928861177e-6, 6.767117219384961e-6, 3.097573185825078e-6, 2.144959440129038e-6, 2.5398169603734627e-6]\n",
      "../dt_tmp/20240219_195216\n"
     ]
    },
    {
     "name": "stderr",
     "output_type": "stream",
     "text": [
      "\u001b[32mProgress: 100%|█████████████████████████████████████████| Time: 0:04:38\u001b[39m\n"
     ]
    },
    {
     "name": "stdout",
     "output_type": "stream",
     "text": [
      "Cum index:8\n",
      "Actual ES coverage: 16.807865\n",
      "AFPSurParams\n",
      "  P_test: Float64 0.97\n",
      "  P_sample: Float64 0.53\n",
      "  P_H: Float64 0.9\n",
      "ESParams\n",
      "  ES_μ: Float64 1.31\n",
      "  ES_σ: Float64 1.49\n",
      "  Pop_whole: Array{Float64}((1502,)) [2.37444075e6, 1.660322625e6, 1.336678625e6, 1.369116875e6, 1.28683475e6, 1.150419e6, 1.01532875e6, 1.00010775e6, 1.001090375e6, 915704.8125  …  1248.9202880859375, 1157.53759765625, 1138.3114013671875, 999.3184204101562, 1008.6461791992188, 1018.3812866210938, 1270.4072265625, 1096.8763427734375, 901.1810913085938, 1132.34912109375]\n",
      "  P_test: Float64 0.97\n",
      "  area: Array{Bool}((1502,)) Bool[1, 1, 1, 1, 1, 1, 1, 1, 0, 0  …  0, 0, 0, 0, 0, 0, 0, 0, 0, 0]\n",
      "  n_freq: Int64 30\n",
      "  pc: Float64 0.5\n"
     ]
    },
    {
     "name": "stderr",
     "output_type": "stream",
     "text": [
      "\u001b[32mProgress: 100%|█████████████████████████████████████████| Time: 0:02:26\u001b[39m\n"
     ]
    },
    {
     "name": "stdout",
     "output_type": "stream",
     "text": [
      "# of sites: 1502\n",
      "SEIRMetaModelParams\n",
      "  R0: Float64 14.0\n",
      "  γ1: Float64 0.25\n",
      "  γ2: Float64 0.06657789613848203\n",
      "  σ: Float64 0.3291\n",
      "  P_AFP: Float64 0.005\n",
      "  N_tot: Array{Int64}((1502,)) [202319, 143450, 115693, 114739, 110328, 96435, 87749, 86436, 85528, 79797  …  103, 103, 103, 103, 103, 102, 101, 101, 101, 101]\n",
      "  N_unvac: Array{Int64}((1502,)) [10317, 7586, 7612, 11170, 7259, 23715, 4640, 4571, 5627, 4726  …  2, 19, 7, 8, 4, 7, 6, 3, 6, 19]\n",
      "  I0_init: Int64 1\n",
      "  I0_ind: Int64 1\n",
      "  days: Int64 1095\n",
      "  n_site: Int64 1502\n",
      "  α: Float64 0.05\n",
      "  π_mat: Array{Float64}((1502, 1502)) [0.0 0.001005637766707509 … 2.2575725779946388e-6 5.791596828860633e-6; 0.0044426339358509875 0.0 … 1.1956517145791305e-5 5.869233333335014e-6; … ; 2.6402308181041693e-5 5.024276288063728e-7 … 0.0 7.144252225512413e-8; 5.869628505259726e-5 4.991087562957113e-7 … 3.024097945418509e-9 0.0]\n",
      "  μ: Float64 0.000547945205479452\n",
      "  β: Float64 0.9320905459387484\n",
      "  pc: Float64 1.0\n",
      "  imp_ws: Array{Float64}((1502,)) [0.031088165643860244, 0.06260238440074709, 0.09202688724319802, 0.0026433985034179765, 0.24789406080337692, 0.031059208539403776, 0.036339472923017216, 0.01402694541121827, 0.020972872263822252, 0.13585452919301177  …  2.5212876926894473e-6, 2.602159219657782e-6, 1.6817138417275634e-6, 1.5976002862659134e-6, 1.9252404356940207e-6, 1.6507829928861177e-6, 6.767117219384961e-6, 3.097573185825078e-6, 2.144959440129038e-6, 2.5398169603734627e-6]\n",
      "../dt_tmp/20240219_195926\n"
     ]
    },
    {
     "name": "stderr",
     "output_type": "stream",
     "text": [
      "\u001b[32mProgress: 100%|█████████████████████████████████████████| Time: 0:03:57\u001b[39m\n"
     ]
    },
    {
     "name": "stdout",
     "output_type": "stream",
     "text": [
      "Cum index:3\n",
      "Actual ES coverage: 8.103432\n",
      "AFPSurParams\n",
      "  P_test: Float64 0.97\n",
      "  P_sample: Float64 0.53\n",
      "  P_H: Float64 0.9\n",
      "ESParams\n",
      "  ES_μ: Float64 1.31\n",
      "  ES_σ: Float64 1.49\n",
      "  Pop_whole: Array{Float64}((1502,)) [2.37444075e6, 1.660322625e6, 1.336678625e6, 1.369116875e6, 1.28683475e6, 1.150419e6, 1.01532875e6, 1.00010775e6, 1.001090375e6, 915704.8125  …  1248.9202880859375, 1157.53759765625, 1138.3114013671875, 999.3184204101562, 1008.6461791992188, 1018.3812866210938, 1270.4072265625, 1096.8763427734375, 901.1810913085938, 1132.34912109375]\n",
      "  P_test: Float64 0.97\n",
      "  area: Array{Bool}((1502,)) Bool[1, 1, 1, 0, 0, 0, 0, 0, 0, 0  …  0, 0, 0, 0, 0, 0, 0, 0, 0, 0]\n",
      "  n_freq: Int64 30\n",
      "  pc: Float64 1.0\n"
     ]
    },
    {
     "name": "stderr",
     "output_type": "stream",
     "text": [
      "\u001b[32mProgress: 100%|█████████████████████████████████████████| Time: 0:02:22\u001b[39m\n"
     ]
    },
    {
     "name": "stdout",
     "output_type": "stream",
     "text": [
      "Any[\"R0=14, α=0.05, pc=0.01, n_sim=500, pattern=population_size, path: ../dt_tmp_res/sens_ES_catchment_20240219_194520.jld2\", \"R0=14, α=0.05, pc=0.05, n_sim=500, pattern=population_size, path: ../dt_tmp_res/sens_ES_catchment_20240219_195211.jld2\", \"R0=14, α=0.05, pc=0.5, n_sim=500, pattern=population_size, path: ../dt_tmp_res/sens_ES_catchment_20240219_195921.jld2\", \"R0=14, α=0.05, pc=1.0, n_sim=500, pattern=population_size, path: ../dt_tmp_res/sens_ES_catchment_20240219_200546.jld2\"]\n"
     ]
    }
   ],
   "source": [
    "println(\"Sensitivity analysis for pc with airport scenario ================\")\n",
    "summary_info = []\n",
    "for pc_sens in  [0.01, 0.05, 0.50, 1.0]\n",
    "    path_trans = run_transmission_model(;\n",
    "        R0=R0, α=α, pc=pc_sens, imp_ws=imp_ws_airport,\n",
    "        n_sim=n_sim,\n",
    "        pattern=\"airport\", ES_pattern=ES_pattern\n",
    "    )\n",
    "    path_save = post_processing(path_trans, pattern, ES_pattern, pc_sens)\n",
    "    rec = \"R0=$(R0), α=$(α), pc=$(pc_sens), n_sim=$(n_sim), pattern=$(pattern), path: $(path_save)\"\n",
    "    push!(summary_info, rec)\n",
    "end\n",
    "println(summary_info)"
   ]
  },
  {
   "cell_type": "code",
   "execution_count": null,
   "id": "d61ed649-3cad-4e9c-a193-ec4ba94a854c",
   "metadata": {},
   "outputs": [
    {
     "name": "stdout",
     "output_type": "stream",
     "text": [
      "Sensitivity analysis for pc with mozambique scenario ================\n",
      "# of sites: 1502\n",
      "SEIRMetaModelParams\n",
      "  R0: Float64 14.0\n",
      "  γ1: Float64 0.25\n",
      "  γ2: Float64 0.06657789613848203\n",
      "  σ: Float64 0.3291\n",
      "  P_AFP: Float64 0.005\n",
      "  N_tot: Array{Int64}((1502,)) [202319, 143450, 115693, 114739, 110328, 96435, 87749, 86436, 85528, 79797  …  103, 103, 103, 103, 103, 102, 101, 101, 101, 101]\n",
      "  N_unvac: Array{Int64}((1502,)) [10317, 7586, 7612, 11170, 7259, 23715, 4640, 4571, 5627, 4726  …  2, 19, 7, 8, 4, 7, 6, 3, 6, 19]\n",
      "  I0_init: Int64 1\n",
      "  I0_ind: Int64 1\n",
      "  days: Int64 1095\n",
      "  n_site: Int64 1502\n",
      "  α: Float64 0.05\n",
      "  π_mat: Array{Float64}((1502, 1502)) [0.0 0.001005637766707509 … 2.2575725779946388e-6 5.791596828860633e-6; 0.0044426339358509875 0.0 … 1.1956517145791305e-5 5.869233333335014e-6; … ; 2.6402308181041693e-5 5.024276288063728e-7 … 0.0 7.144252225512413e-8; 5.869628505259726e-5 4.991087562957113e-7 … 3.024097945418509e-9 0.0]\n",
      "  μ: Float64 0.000547945205479452\n",
      "  β: Float64 0.9320905459387484\n",
      "  pc: Float64 0.01\n",
      "  imp_ws: Array{Float64}((1502,)) [0.009137630466414309, 0.0014404394317019393, 0.010187286911578136, 0.005079582561960022, 0.006493451023852421, 0.005846655217185169, 0.000851380087727608, 0.0008367852567075058, 0.005549057985134463, 0.0063470028574354725  …  1.8818572490716397e-6, 3.231171030959366e-6, 4.5525143927300625e-6, 2.4943047186281744e-6, 5.19559854516887e-5, 2.5730697779133145e-6, 1.099316007852436e-6, 1.8352853355169155e-6, 2.076772943754174e-6, 3.085011949462341e-6]\n",
      "../dt_tmp/20240219_203107\n"
     ]
    },
    {
     "name": "stderr",
     "output_type": "stream",
     "text": [
      "\u001b[32mProgress: 100%|█████████████████████████████████████████| Time: 0:14:43\u001b[39m\n"
     ]
    },
    {
     "name": "stdout",
     "output_type": "stream",
     "text": [
      "Cum index:1502\n",
      "Actual ES coverage: 100.0\n",
      "AFPSurParams\n",
      "  P_test: Float64 0.97\n",
      "  P_sample: Float64 0.53\n",
      "  P_H: Float64 0.9\n",
      "ESParams\n",
      "  ES_μ: Float64 1.31\n",
      "  ES_σ: Float64 1.49\n",
      "  Pop_whole: Array{Float64}((1502,)) [2.37444075e6, 1.660322625e6, 1.336678625e6, 1.369116875e6, 1.28683475e6, 1.150419e6, 1.01532875e6, 1.00010775e6, 1.001090375e6, 915704.8125  …  1248.9202880859375, 1157.53759765625, 1138.3114013671875, 999.3184204101562, 1008.6461791992188, 1018.3812866210938, 1270.4072265625, 1096.8763427734375, 901.1810913085938, 1132.34912109375]\n",
      "  P_test: Float64 0.97\n",
      "  area: Array{Bool}((1502,)) Bool[1, 1, 1, 1, 1, 1, 1, 1, 1, 1  …  1, 1, 1, 1, 1, 1, 1, 1, 1, 1]\n",
      "  n_freq: Int64 30\n",
      "  pc: Float64 0.01\n"
     ]
    },
    {
     "name": "stderr",
     "output_type": "stream",
     "text": [
      "\u001b[32mProgress: 100%|█████████████████████████████████████████| Time: 0:02:10\u001b[39m\n"
     ]
    },
    {
     "name": "stdout",
     "output_type": "stream",
     "text": [
      "# of sites: 1502\n",
      "SEIRMetaModelParams\n",
      "  R0: Float64 14.0\n",
      "  γ1: Float64 0.25\n",
      "  γ2: Float64 0.06657789613848203\n",
      "  σ: Float64 0.3291\n",
      "  P_AFP: Float64 0.005\n",
      "  N_tot: Array{Int64}((1502,)) [202319, 143450, 115693, 114739, 110328, 96435, 87749, 86436, 85528, 79797  …  103, 103, 103, 103, 103, 102, 101, 101, 101, 101]\n",
      "  N_unvac: Array{Int64}((1502,)) [10317, 7586, 7612, 11170, 7259, 23715, 4640, 4571, 5627, 4726  …  2, 19, 7, 8, 4, 7, 6, 3, 6, 19]\n",
      "  I0_init: Int64 1\n",
      "  I0_ind: Int64 1\n",
      "  days: Int64 1095\n",
      "  n_site: Int64 1502\n",
      "  α: Float64 0.05\n",
      "  π_mat: Array{Float64}((1502, 1502)) [0.0 0.001005637766707509 … 2.2575725779946388e-6 5.791596828860633e-6; 0.0044426339358509875 0.0 … 1.1956517145791305e-5 5.869233333335014e-6; … ; 2.6402308181041693e-5 5.024276288063728e-7 … 0.0 7.144252225512413e-8; 5.869628505259726e-5 4.991087562957113e-7 … 3.024097945418509e-9 0.0]\n",
      "  μ: Float64 0.000547945205479452\n",
      "  β: Float64 0.9320905459387484\n",
      "  pc: Float64 0.05\n",
      "  imp_ws: Array{Float64}((1502,)) [0.009137630466414309, 0.0014404394317019393, 0.010187286911578136, 0.005079582561960022, 0.006493451023852421, 0.005846655217185169, 0.000851380087727608, 0.0008367852567075058, 0.005549057985134463, 0.0063470028574354725  …  1.8818572490716397e-6, 3.231171030959366e-6, 4.5525143927300625e-6, 2.4943047186281744e-6, 5.19559854516887e-5, 2.5730697779133145e-6, 1.099316007852436e-6, 1.8352853355169155e-6, 2.076772943754174e-6, 3.085011949462341e-6]\n",
      "../dt_tmp/20240219_204807\n"
     ]
    },
    {
     "name": "stderr",
     "output_type": "stream",
     "text": [
      "\u001b[32mProgress: 100%|█████████████████████████████████████████| Time: 0:14:31\u001b[39m\n"
     ]
    },
    {
     "name": "stdout",
     "output_type": "stream",
     "text": [
      "Cum index:1502\n",
      "Actual ES coverage: 100.0\n",
      "AFPSurParams\n",
      "  P_test: Float64 0.97\n",
      "  P_sample: Float64 0.53\n",
      "  P_H: Float64 0.9\n",
      "ESParams\n",
      "  ES_μ: Float64 1.31\n",
      "  ES_σ: Float64 1.49\n",
      "  Pop_whole: Array{Float64}((1502,)) [2.37444075e6, 1.660322625e6, 1.336678625e6, 1.369116875e6, 1.28683475e6, 1.150419e6, 1.01532875e6, 1.00010775e6, 1.001090375e6, 915704.8125  …  1248.9202880859375, 1157.53759765625, 1138.3114013671875, 999.3184204101562, 1008.6461791992188, 1018.3812866210938, 1270.4072265625, 1096.8763427734375, 901.1810913085938, 1132.34912109375]\n",
      "  P_test: Float64 0.97\n",
      "  area: Array{Bool}((1502,)) Bool[1, 1, 1, 1, 1, 1, 1, 1, 1, 1  …  1, 1, 1, 1, 1, 1, 1, 1, 1, 1]\n",
      "  n_freq: Int64 30\n",
      "  pc: Float64 0.05\n"
     ]
    },
    {
     "name": "stderr",
     "output_type": "stream",
     "text": [
      "\u001b[32mProgress:  44%|█████████████████▉                       |  ETA: 0:01:17\u001b[39m"
     ]
    }
   ],
   "source": [
    "println(\"Sensitivity analysis for pc with mozambique scenario ================\")\n",
    "summary_info = []\n",
    "for pc_sens in  [0.01, 0.05, 0.50, 1.0]\n",
    "    path_trans = run_transmission_model(;\n",
    "        R0=R0, α=α, pc=pc_sens, imp_ws=imp_ws_moz,\n",
    "        n_sim=n_sim,\n",
    "        pattern=\"mozambique\", ES_pattern=ES_pattern\n",
    "    )\n",
    "    path_save = post_processing(path_trans, pattern, ES_pattern, pc_sens)\n",
    "    rec = \"R0=$(R0), α=$(α), pc=$(pc_sens), n_sim=$(n_sim), pattern=$(pattern), path: $(path_save)\"\n",
    "    push!(summary_info, rec)\n",
    "end\n",
    "println(summary_info)"
   ]
  },
  {
   "cell_type": "markdown",
   "id": "7da41a75-c9a4-4ba5-9bfb-3c2c10d9d907",
   "metadata": {},
   "source": [
    "# Sensitivity analysis for ES related parameters"
   ]
  },
  {
   "cell_type": "code",
   "execution_count": 31,
   "id": "740d098a-55ca-4844-be26-26a260d33b11",
   "metadata": {},
   "outputs": [
    {
     "name": "stdout",
     "output_type": "stream",
     "text": [
      "Sensitivity analysis for detection sensitivity==========================\n",
      "# of sites: 1502\n",
      "SEIRMetaModelParams\n",
      "  R0: Float64 14.0\n",
      "  γ1: Float64 0.25\n",
      "  γ2: Float64 0.06657789613848203\n",
      "  σ: Float64 0.3291\n",
      "  P_AFP: Float64 0.005\n",
      "  N_tot: Array{Int64}((1502,)) [202319, 143450, 115693, 114739, 110328, 96435, 87749, 86436, 85528, 79797  …  103, 103, 103, 103, 103, 102, 101, 101, 101, 101]\n",
      "  N_unvac: Array{Int64}((1502,)) [10317, 7586, 7612, 11170, 7259, 23715, 4640, 4571, 5627, 4726  …  2, 19, 7, 8, 4, 7, 6, 3, 6, 19]\n",
      "  I0_init: Int64 1\n",
      "  I0_ind: Int64 1\n",
      "  days: Int64 1095\n",
      "  n_site: Int64 1502\n",
      "  α: Float64 0.05\n",
      "  π_mat: Array{Float64}((1502, 1502)) [0.0 0.001005637766707509 … 2.2575725779946388e-6 5.791596828860633e-6; 0.0044426339358509875 0.0 … 1.1956517145791305e-5 5.869233333335014e-6; … ; 2.6402308181041693e-5 5.024276288063728e-7 … 0.0 7.144252225512413e-8; 5.869628505259726e-5 4.991087562957113e-7 … 3.024097945418509e-9 0.0]\n",
      "  μ: Float64 0.000547945205479452\n",
      "  β: Float64 0.9320905459387484\n",
      "  pc: Float64 0.25\n",
      "  imp_ws: Array{Float64}((1,)) [1.0]\n",
      "../dt_tmp/20240217_202150\n"
     ]
    },
    {
     "name": "stderr",
     "output_type": "stream",
     "text": [
      "\u001b[32mProgress: 100%|█████████████████████████████████████████| Time: 0:08:40\u001b[39m\n"
     ]
    },
    {
     "name": "stdout",
     "output_type": "stream",
     "text": [
      "Cum index:28\n",
      "Actual ES coverage: 34.20778\n",
      "AFPSurParams\n",
      "  P_test: Float64 0.97\n",
      "  P_sample: Float64 0.53\n",
      "  P_H: Float64 0.9\n",
      "ESParams\n",
      "  ES_μ: Float64 -0.994\n",
      "  ES_σ: Float64 1.493\n",
      "  Pop_whole: Array{Float64}((1502,)) [2.37444075e6, 1.660322625e6, 1.336678625e6, 1.369116875e6, 1.28683475e6, 1.150419e6, 1.01532875e6, 1.00010775e6, 1.001090375e6, 915704.8125  …  1248.9202880859375, 1157.53759765625, 1138.3114013671875, 999.3184204101562, 1008.6461791992188, 1018.3812866210938, 1270.4072265625, 1096.8763427734375, 901.1810913085938, 1132.34912109375]\n",
      "  P_test: Float64 0.97\n",
      "  area: Array{Bool}((1502,)) Bool[1, 1, 1, 1, 1, 1, 1, 1, 1, 1  …  0, 0, 0, 0, 0, 0, 0, 0, 0, 0]\n",
      "  n_freq: Int64 30\n",
      "  pc: Float64 0.25\n"
     ]
    },
    {
     "name": "stderr",
     "output_type": "stream",
     "text": [
      "\u001b[32mProgress: 100%|█████████████████████████████████████████| Time: 0:02:05\u001b[39m\n"
     ]
    },
    {
     "name": "stdout",
     "output_type": "stream",
     "text": [
      "Cum index:28\n",
      "Actual ES coverage: 34.20778\n",
      "AFPSurParams\n",
      "  P_test: Float64 0.97\n",
      "  P_sample: Float64 0.53\n",
      "  P_H: Float64 0.9\n",
      "ESParams\n",
      "  ES_μ: Float64 -0.301\n",
      "  ES_σ: Float64 1.493\n",
      "  Pop_whole: Array{Float64}((1502,)) [2.37444075e6, 1.660322625e6, 1.336678625e6, 1.369116875e6, 1.28683475e6, 1.150419e6, 1.01532875e6, 1.00010775e6, 1.001090375e6, 915704.8125  …  1248.9202880859375, 1157.53759765625, 1138.3114013671875, 999.3184204101562, 1008.6461791992188, 1018.3812866210938, 1270.4072265625, 1096.8763427734375, 901.1810913085938, 1132.34912109375]\n",
      "  P_test: Float64 0.97\n",
      "  area: Array{Bool}((1502,)) Bool[1, 1, 1, 1, 1, 1, 1, 1, 1, 1  …  0, 0, 0, 0, 0, 0, 0, 0, 0, 0]\n",
      "  n_freq: Int64 30\n",
      "  pc: Float64 0.25\n"
     ]
    },
    {
     "name": "stderr",
     "output_type": "stream",
     "text": [
      "\u001b[32mProgress: 100%|█████████████████████████████████████████| Time: 0:02:05\u001b[39m\n"
     ]
    },
    {
     "name": "stdout",
     "output_type": "stream",
     "text": [
      "Cum index:28\n",
      "Actual ES coverage: 34.20778\n",
      "AFPSurParams\n",
      "  P_test: Float64 0.97\n",
      "  P_sample: Float64 0.53\n",
      "  P_H: Float64 0.9\n",
      "ESParams\n",
      "  ES_μ: Float64 2.918\n",
      "  ES_σ: Float64 1.493\n",
      "  Pop_whole: Array{Float64}((1502,)) [2.37444075e6, 1.660322625e6, 1.336678625e6, 1.369116875e6, 1.28683475e6, 1.150419e6, 1.01532875e6, 1.00010775e6, 1.001090375e6, 915704.8125  …  1248.9202880859375, 1157.53759765625, 1138.3114013671875, 999.3184204101562, 1008.6461791992188, 1018.3812866210938, 1270.4072265625, 1096.8763427734375, 901.1810913085938, 1132.34912109375]\n",
      "  P_test: Float64 0.97\n",
      "  area: Array{Bool}((1502,)) Bool[1, 1, 1, 1, 1, 1, 1, 1, 1, 1  …  0, 0, 0, 0, 0, 0, 0, 0, 0, 0]\n",
      "  n_freq: Int64 30\n",
      "  pc: Float64 0.25\n"
     ]
    },
    {
     "name": "stderr",
     "output_type": "stream",
     "text": [
      "\u001b[32mProgress: 100%|█████████████████████████████████████████| Time: 0:02:13\u001b[39m\n"
     ]
    },
    {
     "name": "stdout",
     "output_type": "stream",
     "text": [
      "Cum index:28\n",
      "Actual ES coverage: 34.20778\n",
      "AFPSurParams\n",
      "  P_test: Float64 0.97\n",
      "  P_sample: Float64 0.53\n",
      "  P_H: Float64 0.9\n",
      "ESParams\n",
      "  ES_μ: Float64 3.661\n",
      "  ES_σ: Float64 1.493\n",
      "  Pop_whole: Array{Float64}((1502,)) [2.37444075e6, 1.660322625e6, 1.336678625e6, 1.369116875e6, 1.28683475e6, 1.150419e6, 1.01532875e6, 1.00010775e6, 1.001090375e6, 915704.8125  …  1248.9202880859375, 1157.53759765625, 1138.3114013671875, 999.3184204101562, 1008.6461791992188, 1018.3812866210938, 1270.4072265625, 1096.8763427734375, 901.1810913085938, 1132.34912109375]\n",
      "  P_test: Float64 0.97\n",
      "  area: Array{Bool}((1502,)) Bool[1, 1, 1, 1, 1, 1, 1, 1, 1, 1  …  0, 0, 0, 0, 0, 0, 0, 0, 0, 0]\n",
      "  n_freq: Int64 30\n",
      "  pc: Float64 0.25\n"
     ]
    },
    {
     "name": "stderr",
     "output_type": "stream",
     "text": [
      "\u001b[32mProgress: 100%|█████████████████████████████████████████| Time: 0:02:13\u001b[39m\n"
     ]
    },
    {
     "name": "stdout",
     "output_type": "stream",
     "text": [
      "Any[\"R0=14, α=0.05, pc=0.25, n_sim=500, pattern=population_size, ES_μ=-0.994, path: ../dt_tmp_res/sens_ES_catchment_20240217_203237.jld2\", \"R0=14, α=0.05, pc=0.25, n_sim=500, pattern=population_size, ES_μ=-0.301, path: ../dt_tmp_res/sens_ES_catchment_20240217_203443.jld2\", \"R0=14, α=0.05, pc=0.25, n_sim=500, pattern=population_size, ES_μ=2.918, path: ../dt_tmp_res/sens_ES_catchment_20240217_203657.jld2\", \"R0=14, α=0.05, pc=0.25, n_sim=500, pattern=population_size, ES_μ=3.661, path: ../dt_tmp_res/sens_ES_catchment_20240217_203911.jld2\"]"
     ]
    }
   ],
   "source": [
    "println(\"Sensitivity analysis for detection sensitivity==========================\")\n",
    "summary_info = []\n",
    "path_trans = run_transmission_model(;\n",
    "    R0=R0, α=α, pc=pc, imp_ws=[1.0],\n",
    "    n_sim=n_sim,\n",
    "    pattern=pattern, ES_pattern=ES_pattern\n",
    ")\n",
    "ES_σ = 1.493\n",
    "for ES_μ in [-0.994, -0.301, 2.918, 3.661]\n",
    "    par_AFP, par_ES = set_par_AFP_ES(\n",
    "        pc=pc, pattern=pattern, ES_pattern=ES_pattern,\n",
    "        ES_μ=ES_μ, ES_σ=ES_σ\n",
    "    )\n",
    "    path_save = save_sensitivity_ES_catchment_area(\n",
    "        par_AFP, par_ES, path_trans; \n",
    "        inc_prop=0.01, pattern=pattern, ES_pattern=ES_pattern,\n",
    "    )\n",
    "    rec = \"R0=$(R0), α=$(α), pc=$(pc), n_sim=$(n_sim), pattern=$(pattern), ES_μ=$(ES_μ), path: $(path_save)\"\n",
    "    push!(summary_info, rec)\n",
    "end\n",
    "remove_all_leaving_one(path_trans)\n",
    "print(summary_info)"
   ]
  },
  {
   "cell_type": "code",
   "execution_count": 30,
   "id": "f9ff5aae-02dd-47ee-a25c-a7c7d5e03302",
   "metadata": {},
   "outputs": [
    {
     "name": "stdout",
     "output_type": "stream",
     "text": [
      "Sensitivity analysis for sampling frequency==========================\n",
      "# of sites: 1502\n",
      "SEIRMetaModelParams\n",
      "  R0: Float64 14.0\n",
      "  γ1: Float64 0.25\n",
      "  γ2: Float64 0.06657789613848203\n",
      "  σ: Float64 0.3291\n",
      "  P_AFP: Float64 0.005\n",
      "  N_tot: Array{Int64}((1502,)) [202319, 143450, 115693, 114739, 110328, 96435, 87749, 86436, 85528, 79797  …  103, 103, 103, 103, 103, 102, 101, 101, 101, 101]\n",
      "  N_unvac: Array{Int64}((1502,)) [10317, 7586, 7612, 11170, 7259, 23715, 4640, 4571, 5627, 4726  …  2, 19, 7, 8, 4, 7, 6, 3, 6, 19]\n",
      "  I0_init: Int64 1\n",
      "  I0_ind: Int64 1\n",
      "  days: Int64 1095\n",
      "  n_site: Int64 1502\n",
      "  α: Float64 0.05\n",
      "  π_mat: Array{Float64}((1502, 1502)) [0.0 0.001005637766707509 … 2.2575725779946388e-6 5.791596828860633e-6; 0.0044426339358509875 0.0 … 1.1956517145791305e-5 5.869233333335014e-6; … ; 2.6402308181041693e-5 5.024276288063728e-7 … 0.0 7.144252225512413e-8; 5.869628505259726e-5 4.991087562957113e-7 … 3.024097945418509e-9 0.0]\n",
      "  μ: Float64 0.000547945205479452\n",
      "  β: Float64 0.9320905459387484\n",
      "  pc: Float64 0.25\n",
      "  imp_ws: Array{Float64}((1,)) [1.0]\n",
      "../dt_tmp/20240217_192948\n"
     ]
    },
    {
     "name": "stderr",
     "output_type": "stream",
     "text": [
      "\u001b[32mProgress: 100%|█████████████████████████████████████████| Time: 0:08:21\u001b[39m\n"
     ]
    },
    {
     "name": "stdout",
     "output_type": "stream",
     "text": [
      "Cum index:28\n",
      "Actual ES coverage: 34.20778\n",
      "AFPSurParams\n",
      "  P_test: Float64 0.97\n",
      "  P_sample: Float64 0.53\n",
      "  P_H: Float64 0.9\n",
      "ESParams\n",
      "  ES_μ: Float64 1.31\n",
      "  ES_σ: Float64 1.49\n",
      "  Pop_whole: Array{Float64}((1502,)) [2.37444075e6, 1.660322625e6, 1.336678625e6, 1.369116875e6, 1.28683475e6, 1.150419e6, 1.01532875e6, 1.00010775e6, 1.001090375e6, 915704.8125  …  1248.9202880859375, 1157.53759765625, 1138.3114013671875, 999.3184204101562, 1008.6461791992188, 1018.3812866210938, 1270.4072265625, 1096.8763427734375, 901.1810913085938, 1132.34912109375]\n",
      "  P_test: Float64 0.97\n",
      "  area: Array{Bool}((1502,)) Bool[1, 1, 1, 1, 1, 1, 1, 1, 1, 1  …  0, 0, 0, 0, 0, 0, 0, 0, 0, 0]\n",
      "  n_freq: Int64 1\n",
      "  pc: Float64 0.25\n"
     ]
    },
    {
     "name": "stderr",
     "output_type": "stream",
     "text": [
      "\u001b[32mProgress: 100%|█████████████████████████████████████████| Time: 0:32:07\u001b[39m\n"
     ]
    },
    {
     "name": "stdout",
     "output_type": "stream",
     "text": [
      "Cum index:28\n",
      "Actual ES coverage: 34.20778\n",
      "AFPSurParams\n",
      "  P_test: Float64 0.97\n",
      "  P_sample: Float64 0.53\n",
      "  P_H: Float64 0.9\n",
      "ESParams\n",
      "  ES_μ: Float64 1.31\n",
      "  ES_σ: Float64 1.49\n",
      "  Pop_whole: Array{Float64}((1502,)) [2.37444075e6, 1.660322625e6, 1.336678625e6, 1.369116875e6, 1.28683475e6, 1.150419e6, 1.01532875e6, 1.00010775e6, 1.001090375e6, 915704.8125  …  1248.9202880859375, 1157.53759765625, 1138.3114013671875, 999.3184204101562, 1008.6461791992188, 1018.3812866210938, 1270.4072265625, 1096.8763427734375, 901.1810913085938, 1132.34912109375]\n",
      "  P_test: Float64 0.97\n",
      "  area: Array{Bool}((1502,)) Bool[1, 1, 1, 1, 1, 1, 1, 1, 1, 1  …  0, 0, 0, 0, 0, 0, 0, 0, 0, 0]\n",
      "  n_freq: Int64 7\n",
      "  pc: Float64 0.25\n"
     ]
    },
    {
     "name": "stderr",
     "output_type": "stream",
     "text": [
      "\u001b[32mProgress: 100%|█████████████████████████████████████████| Time: 0:06:23\u001b[39m\n"
     ]
    },
    {
     "name": "stdout",
     "output_type": "stream",
     "text": [
      "Cum index:28\n",
      "Actual ES coverage: 34.20778\n",
      "AFPSurParams\n",
      "  P_test: Float64 0.97\n",
      "  P_sample: Float64 0.53\n",
      "  P_H: Float64 0.9\n",
      "ESParams\n",
      "  ES_μ: Float64 1.31\n",
      "  ES_σ: Float64 1.49\n",
      "  Pop_whole: Array{Float64}((1502,)) [2.37444075e6, 1.660322625e6, 1.336678625e6, 1.369116875e6, 1.28683475e6, 1.150419e6, 1.01532875e6, 1.00010775e6, 1.001090375e6, 915704.8125  …  1248.9202880859375, 1157.53759765625, 1138.3114013671875, 999.3184204101562, 1008.6461791992188, 1018.3812866210938, 1270.4072265625, 1096.8763427734375, 901.1810913085938, 1132.34912109375]\n",
      "  P_test: Float64 0.97\n",
      "  area: Array{Bool}((1502,)) Bool[1, 1, 1, 1, 1, 1, 1, 1, 1, 1  …  0, 0, 0, 0, 0, 0, 0, 0, 0, 0]\n",
      "  n_freq: Int64 14\n",
      "  pc: Float64 0.25\n"
     ]
    },
    {
     "name": "stderr",
     "output_type": "stream",
     "text": [
      "\u001b[32mProgress: 100%|█████████████████████████████████████████| Time: 0:03:29\u001b[39m\n"
     ]
    },
    {
     "name": "stdout",
     "output_type": "stream",
     "text": [
      "Cum index:28\n",
      "Actual ES coverage: 34.20778\n",
      "AFPSurParams\n",
      "  P_test: Float64 0.97\n",
      "  P_sample: Float64 0.53\n",
      "  P_H: Float64 0.9\n",
      "ESParams\n",
      "  ES_μ: Float64 1.31\n",
      "  ES_σ: Float64 1.49\n",
      "  Pop_whole: Array{Float64}((1502,)) [2.37444075e6, 1.660322625e6, 1.336678625e6, 1.369116875e6, 1.28683475e6, 1.150419e6, 1.01532875e6, 1.00010775e6, 1.001090375e6, 915704.8125  …  1248.9202880859375, 1157.53759765625, 1138.3114013671875, 999.3184204101562, 1008.6461791992188, 1018.3812866210938, 1270.4072265625, 1096.8763427734375, 901.1810913085938, 1132.34912109375]\n",
      "  P_test: Float64 0.97\n",
      "  area: Array{Bool}((1502,)) Bool[1, 1, 1, 1, 1, 1, 1, 1, 1, 1  …  0, 0, 0, 0, 0, 0, 0, 0, 0, 0]\n",
      "  n_freq: Int64 60\n",
      "  pc: Float64 0.25\n"
     ]
    },
    {
     "name": "stderr",
     "output_type": "stream",
     "text": [
      "\u001b[32mProgress: 100%|█████████████████████████████████████████| Time: 0:01:32\u001b[39m\n"
     ]
    },
    {
     "name": "stdout",
     "output_type": "stream",
     "text": [
      "Any[\"R0=14, α=0.05, pc=0.25, n_sim=500, pattern=population_size, n_freq=1, path: ../dt_tmp_res/sens_ES_catchment_20240217_201017.jld2\", \"R0=14, α=0.05, pc=0.25, n_sim=500, pattern=population_size, n_freq=7, path: ../dt_tmp_res/sens_ES_catchment_20240217_201642.jld2\", \"R0=14, α=0.05, pc=0.25, n_sim=500, pattern=population_size, n_freq=14, path: ../dt_tmp_res/sens_ES_catchment_20240217_202012.jld2\", \"R0=14, α=0.05, pc=0.25, n_sim=500, pattern=population_size, n_freq=60, path: ../dt_tmp_res/sens_ES_catchment_20240217_202145.jld2\"]"
     ]
    }
   ],
   "source": [
    "println(\"Sensitivity analysis for sampling frequency==========================\")\n",
    "summary_info = []\n",
    "path_trans = run_transmission_model(;\n",
    "    R0=R0, α=α, pc=pc, imp_ws=[1.0],\n",
    "    n_sim=n_sim,\n",
    "    pattern=pattern, ES_pattern=ES_pattern\n",
    ")\n",
    "for n_freq in [1, 7, 14, 60]\n",
    "    par_AFP, par_ES = set_par_AFP_ES(\n",
    "        pc=pc, pattern=pattern, ES_pattern=ES_pattern,\n",
    "        n_freq=n_freq\n",
    "    )\n",
    "    path_save = save_sensitivity_ES_catchment_area(\n",
    "        par_AFP, par_ES, path_trans; \n",
    "        inc_prop=0.01, pattern=pattern, ES_pattern=ES_pattern,\n",
    "    )\n",
    "    rec = \"R0=$(R0), α=$(α), pc=$(pc), n_sim=$(n_sim), pattern=$(pattern), n_freq=$(n_freq), path: $(path_save)\"\n",
    "    push!(summary_info, rec)\n",
    "end\n",
    "remove_all_leaving_one(path_trans)\n",
    "print(summary_info)"
   ]
  },
  {
   "cell_type": "code",
   "execution_count": null,
   "id": "84a57de6-abc5-400d-912e-14536ad4f12e",
   "metadata": {},
   "outputs": [],
   "source": []
  },
  {
   "cell_type": "code",
   "execution_count": null,
   "id": "243c91ec-4282-4513-9bec-479c1ba5cf83",
   "metadata": {},
   "outputs": [],
   "source": []
  }
 ],
 "metadata": {
  "jupytext": {
   "encoding": "# -*- coding: utf-8 -*-"
  },
  "kernelspec": {
   "display_name": "Julia 1.8.3",
   "language": "julia",
   "name": "julia-1.8"
  },
  "language_info": {
   "file_extension": ".jl",
   "mimetype": "application/julia",
   "name": "julia",
   "version": "1.8.3"
  }
 },
 "nbformat": 4,
 "nbformat_minor": 5
}

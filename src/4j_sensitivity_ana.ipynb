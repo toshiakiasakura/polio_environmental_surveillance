{
 "cells": [
  {
   "cell_type": "code",
   "execution_count": null,
   "id": "26b19426",
   "metadata": {},
   "outputs": [],
   "source": [
    "include(\"utils.jl\")\n",
    "include(\"geo_ana.jl\")\n",
    "include(\"model_meta_pop.jl\")"
   ]
  },
  {
   "cell_type": "markdown",
   "id": "b0e8fcd3-c78e-4e2f-b400-82d0641c9954",
   "metadata": {},
   "source": [
    "# Prepare baseline values"
   ]
  },
  {
   "cell_type": "code",
   "execution_count": null,
   "id": "d5cbd569-ae61-4bb8-9574-a343a9cb53a1",
   "metadata": {},
   "outputs": [],
   "source": [
    "R0 = 14 \n",
    "α = 0.05\n",
    "pc = 0.25\n",
    "pattern = \"population_size\"\n",
    "ES_pattern = \"ES_population_size\"\n",
    "n_sim = 10\n",
    "base_kwds = (\n",
    "    n_sim = n_sim,\n",
    "    pattern = pattern,\n",
    "    ES_pattern = ES_pattern,\n",
    "    pc=pc,\n",
    ")"
   ]
  },
  {
   "cell_type": "markdown",
   "id": "0add8168-d488-484d-859d-291e39f3e4f5",
   "metadata": {},
   "source": [
    "## Sensitivity analysis for R0"
   ]
  },
  {
   "cell_type": "code",
   "execution_count": null,
   "id": "cf1edb10-aec8-4cb3-9af9-c88d2af25323",
   "metadata": {},
   "outputs": [],
   "source": [
    "println(\"Sensitivity analysis for R0 ================\")\n",
    "summary_info = []\n",
    "for R0_sens in [10, 12, 16, 18]\n",
    "    rec = run_trans_detection_process(;\n",
    "        R0=R0_sens, α=α, \n",
    "        base_kwds...\n",
    "    )\n",
    "    push!(summary_info, rec)\n",
    "end\n",
    "println(summary_info)"
   ]
  },
  {
   "cell_type": "code",
   "execution_count": null,
   "id": "583d5b6e-5864-41f7-ab41-30fe2a43c778",
   "metadata": {},
   "outputs": [],
   "source": [
    "println(\"Sensitivity analysis for α ================\")\n",
    "summary_info = []\n",
    "for α_sens in [0.005, 0.010, 0.100, 0.500]\n",
    "    rec = run_trans_detection_process(;\n",
    "        R0=R0, α=α_sens, \n",
    "        base_kwds...\n",
    "    )\n",
    "    push!(summary_info, rec)\n",
    "end\n",
    "println(summary_info)"
   ]
  },
  {
   "cell_type": "markdown",
   "id": "7da41a75-c9a4-4ba5-9bfb-3c2c10d9d907",
   "metadata": {},
   "source": [
    "# Sensitivity analysis for ES related parameters"
   ]
  },
  {
   "cell_type": "code",
   "execution_count": null,
   "id": "740d098a-55ca-4844-be26-26a260d33b11",
   "metadata": {},
   "outputs": [],
   "source": [
    "println(\"Sensitivity analysis for detection sensitivity==========================\")\n",
    "summary_info = []\n",
    "path_trans = run_transmission_model(;\n",
    "    R0=R0, α=α, imp_ws=[1.0],\n",
    "    base_kwds...\n",
    ")\n",
    "ES_σ = 1.450\n",
    "for ES_μ in [3.121, 1.917, -0.281, -1.485] \n",
    "    par_AFP, par_ES = set_par_AFP_ES(\n",
    "        pc=pc, pattern=pattern, ES_pattern=ES_pattern,\n",
    "        ES_μ=ES_μ, ES_σ=ES_σ\n",
    "    )\n",
    "    path_save = save_sensitivity_ES_catchment_area(\n",
    "        par_AFP, par_ES, path_trans; \n",
    "        inc_prop=0.01, pattern=pattern, ES_pattern=ES_pattern,\n",
    "    )\n",
    "    rec = (R0=R0, α=α, pc=pc, n_sim=n_sim,\n",
    "        pattern=pattern, ES_pattern=ES_pattern,\n",
    "        path=path_save, ES_μ=ES_μ, ES_σ=ES_σ)\n",
    "    push!(summary_info, rec)\n",
    "end\n",
    "remove_all_transmission_results(path_trans)\n",
    "print(summary_info)"
   ]
  },
  {
   "cell_type": "code",
   "execution_count": null,
   "id": "f9ff5aae-02dd-47ee-a25c-a7c7d5e03302",
   "metadata": {},
   "outputs": [],
   "source": [
    "println(\"Sensitivity analysis for sampling frequency==========================\")\n",
    "summary_info = []\n",
    "path_trans = run_transmission_model(;\n",
    "    R0=R0, α=α, imp_ws=[1.0],\n",
    "    base_kwds...\n",
    ")\n",
    "for n_freq in [1, 7, 14, 60]\n",
    "    par_AFP, par_ES = set_par_AFP_ES(\n",
    "        pc=pc, pattern=pattern, ES_pattern=ES_pattern,\n",
    "        n_freq=n_freq\n",
    "    )\n",
    "    path_save = save_sensitivity_ES_catchment_area(\n",
    "        par_AFP, par_ES, path_trans; \n",
    "        inc_prop=0.01, pattern=pattern, ES_pattern=ES_pattern,\n",
    "    )\n",
    "    rec = (R0=R0, α=α, pc=pc, n_sim=n_sim,\n",
    "        pattern=pattern, ES_pattern=ES_pattern,\n",
    "        path=path_save, n_freq=n_freq)\n",
    "    push!(summary_info, rec)\n",
    "end\n",
    "remove_all_transmission_results(path_trans)\n",
    "print(summary_info)"
   ]
  },
  {
   "cell_type": "code",
   "execution_count": null,
   "id": "84a57de6-abc5-400d-912e-14536ad4f12e",
   "metadata": {},
   "outputs": [],
   "source": []
  },
  {
   "cell_type": "code",
   "execution_count": null,
   "id": "243c91ec-4282-4513-9bec-479c1ba5cf83",
   "metadata": {},
   "outputs": [],
   "source": []
  }
 ],
 "metadata": {
  "jupytext": {
   "encoding": "# -*- coding: utf-8 -*-"
  },
  "kernelspec": {
   "display_name": "Julia 1.8.3",
   "language": "julia",
   "name": "julia-1.8"
  },
  "language_info": {
   "file_extension": ".jl",
   "mimetype": "application/julia",
   "name": "julia",
   "version": "1.8.3"
  }
 },
 "nbformat": 4,
 "nbformat_minor": 5
}

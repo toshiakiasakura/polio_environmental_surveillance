{
 "cells": [
  {
   "cell_type": "code",
   "execution_count": 1,
   "id": "26b19426",
   "metadata": {},
   "outputs": [
    {
     "data": {
      "text/plain": [
       "run_trans_detection_process"
      ]
     },
     "execution_count": 1,
     "metadata": {},
     "output_type": "execute_result"
    }
   ],
   "source": [
    "include(\"utils.jl\")\n",
    "include(\"geo_ana.jl\")\n",
    "include(\"model_meta_pop.jl\")"
   ]
  },
  {
   "cell_type": "markdown",
   "id": "b0e8fcd3-c78e-4e2f-b400-82d0641c9954",
   "metadata": {},
   "source": [
    "# Prepare baseline values"
   ]
  },
  {
   "cell_type": "code",
   "execution_count": 13,
   "id": "d5cbd569-ae61-4bb8-9574-a343a9cb53a1",
   "metadata": {},
   "outputs": [
    {
     "data": {
      "text/plain": [
       "(n_sim = 10, pattern = \"population_size\", ES_pattern = \"ES_population_size\", pc = 0.25)"
      ]
     },
     "execution_count": 13,
     "metadata": {},
     "output_type": "execute_result"
    }
   ],
   "source": [
    "R0 = 14 \n",
    "α = 0.05\n",
    "pc = 0.25\n",
    "pattern = \"population_size\"\n",
    "ES_pattern = \"ES_population_size\"\n",
    "n_sim = 10\n",
    "base_kwds = (\n",
    "    n_sim = n_sim,\n",
    "    pattern = pattern,\n",
    "    ES_pattern = ES_pattern,\n",
    "    pc=pc,\n",
    ")"
   ]
  },
  {
   "cell_type": "markdown",
   "id": "0add8168-d488-484d-859d-291e39f3e4f5",
   "metadata": {},
   "source": [
    "## Sensitivity analysis for R0"
   ]
  },
  {
   "cell_type": "code",
   "execution_count": 3,
   "id": "cf1edb10-aec8-4cb3-9af9-c88d2af25323",
   "metadata": {},
   "outputs": [
    {
     "name": "stdout",
     "output_type": "stream",
     "text": [
      "Sensitivity analysis for R0 ================\n"
     ]
    },
    {
     "name": "stderr",
     "output_type": "stream",
     "text": [
      "\u001b[32mProgress: 100%|█████████████████████████████████████████| Time: 0:00:22\u001b[39m\n",
      "\u001b[32mProgress: 100%|█████████████████████████████████████████| Time: 0:00:07\u001b[39m\n"
     ]
    },
    {
     "name": "stdout",
     "output_type": "stream",
     "text": [
      "../dt_tmp_res/sens_ES_catchment_20240223_161708.jld2\n"
     ]
    },
    {
     "name": "stderr",
     "output_type": "stream",
     "text": [
      "\u001b[32mProgress: 100%|█████████████████████████████████████████| Time: 0:00:15\u001b[39m\n",
      "\u001b[32mProgress: 100%|█████████████████████████████████████████| Time: 0:00:04\u001b[39m\n"
     ]
    },
    {
     "name": "stdout",
     "output_type": "stream",
     "text": [
      "../dt_tmp_res/sens_ES_catchment_20240223_161731.jld2\n"
     ]
    },
    {
     "name": "stderr",
     "output_type": "stream",
     "text": [
      "\u001b[32mProgress: 100%|█████████████████████████████████████████| Time: 0:00:22\u001b[39m\n",
      "\u001b[32mProgress: 100%|█████████████████████████████████████████| Time: 0:00:04\u001b[39m\n"
     ]
    },
    {
     "name": "stdout",
     "output_type": "stream",
     "text": [
      "../dt_tmp_res/sens_ES_catchment_20240223_161758.jld2\n"
     ]
    },
    {
     "name": "stderr",
     "output_type": "stream",
     "text": [
      "\u001b[32mProgress: 100%|█████████████████████████████████████████| Time: 0:00:27\u001b[39m\n",
      "\u001b[32mProgress: 100%|█████████████████████████████████████████| Time: 0:00:03\u001b[39m\n"
     ]
    },
    {
     "name": "stdout",
     "output_type": "stream",
     "text": [
      "../dt_tmp_res/sens_ES_catchment_20240223_161830.jld2\n",
      "Any[(R0 = 10, α = 0.05, pc = 0.25, n_sim = 10, pattern = \"population_size\", ES_pattern = \"ES_population_size\", path = \"../dt_tmp_res/sens_ES_catchment_20240223_161708.jld2\"), (R0 = 12, α = 0.05, pc = 0.25, n_sim = 10, pattern = \"population_size\", ES_pattern = \"ES_population_size\", path = \"../dt_tmp_res/sens_ES_catchment_20240223_161731.jld2\"), (R0 = 16, α = 0.05, pc = 0.25, n_sim = 10, pattern = \"population_size\", ES_pattern = \"ES_population_size\", path = \"../dt_tmp_res/sens_ES_catchment_20240223_161758.jld2\"), (R0 = 18, α = 0.05, pc = 0.25, n_sim = 10, pattern = \"population_size\", ES_pattern = \"ES_population_size\", path = \"../dt_tmp_res/sens_ES_catchment_20240223_161830.jld2\")]\n"
     ]
    }
   ],
   "source": [
    "println(\"Sensitivity analysis for R0 ================\")\n",
    "summary_info = []\n",
    "for R0_sens in [10, 12, 16, 18]\n",
    "    rec = run_trans_detection_process(;\n",
    "        R0=R0_sens, α=α, \n",
    "        base_kwds...\n",
    "    )\n",
    "    push!(summary_info, rec)\n",
    "end\n",
    "println(summary_info)"
   ]
  },
  {
   "cell_type": "code",
   "execution_count": 4,
   "id": "583d5b6e-5864-41f7-ab41-30fe2a43c778",
   "metadata": {},
   "outputs": [
    {
     "name": "stdout",
     "output_type": "stream",
     "text": [
      "Sensitivity analysis for α ================\n"
     ]
    },
    {
     "name": "stderr",
     "output_type": "stream",
     "text": [
      "\u001b[32mProgress: 100%|█████████████████████████████████████████| Time: 0:00:17\u001b[39m\n",
      "\u001b[32mProgress: 100%|█████████████████████████████████████████| Time: 0:00:04\u001b[39m\n"
     ]
    },
    {
     "name": "stdout",
     "output_type": "stream",
     "text": [
      "../dt_tmp_res/sens_ES_catchment_20240223_161854.jld2\n"
     ]
    },
    {
     "name": "stderr",
     "output_type": "stream",
     "text": [
      "\u001b[32mProgress: 100%|█████████████████████████████████████████| Time: 0:00:24\u001b[39m\n",
      "\u001b[32mProgress: 100%|█████████████████████████████████████████| Time: 0:00:03\u001b[39m\n"
     ]
    },
    {
     "name": "stdout",
     "output_type": "stream",
     "text": [
      "../dt_tmp_res/sens_ES_catchment_20240223_161923.jld2\n"
     ]
    },
    {
     "name": "stderr",
     "output_type": "stream",
     "text": [
      "\u001b[32mProgress: 100%|█████████████████████████████████████████| Time: 0:00:11\u001b[39m\n",
      "\u001b[32mProgress: 100%|█████████████████████████████████████████| Time: 0:00:04\u001b[39m\n"
     ]
    },
    {
     "name": "stdout",
     "output_type": "stream",
     "text": [
      "../dt_tmp_res/sens_ES_catchment_20240223_161939.jld2\n"
     ]
    },
    {
     "name": "stderr",
     "output_type": "stream",
     "text": [
      "\u001b[32mProgress: 100%|█████████████████████████████████████████| Time: 0:00:28\u001b[39m\n",
      "\u001b[32mProgress: 100%|█████████████████████████████████████████| Time: 0:00:03\u001b[39m\n"
     ]
    },
    {
     "name": "stdout",
     "output_type": "stream",
     "text": [
      "../dt_tmp_res/sens_ES_catchment_20240223_162012.jld2\n",
      "Any[(R0 = 14, α = 0.005, pc = 0.25, n_sim = 10, pattern = \"population_size\", ES_pattern = \"ES_population_size\", path = \"../dt_tmp_res/sens_ES_catchment_20240223_161854.jld2\"), (R0 = 14, α = 0.01, pc = 0.25, n_sim = 10, pattern = \"population_size\", ES_pattern = \"ES_population_size\", path = \"../dt_tmp_res/sens_ES_catchment_20240223_161923.jld2\"), (R0 = 14, α = 0.1, pc = 0.25, n_sim = 10, pattern = \"population_size\", ES_pattern = \"ES_population_size\", path = \"../dt_tmp_res/sens_ES_catchment_20240223_161939.jld2\"), (R0 = 14, α = 0.5, pc = 0.25, n_sim = 10, pattern = \"population_size\", ES_pattern = \"ES_population_size\", path = \"../dt_tmp_res/sens_ES_catchment_20240223_162012.jld2\")]\n"
     ]
    }
   ],
   "source": [
    "println(\"Sensitivity analysis for α ================\")\n",
    "summary_info = []\n",
    "for α_sens in [0.005, 0.010, 0.100, 0.500]\n",
    "    rec = run_trans_detection_process(;\n",
    "        R0=R0, α=α_sens, \n",
    "        base_kwds...\n",
    "    )\n",
    "    push!(summary_info, rec)\n",
    "end\n",
    "println(summary_info)"
   ]
  },
  {
   "cell_type": "markdown",
   "id": "7da41a75-c9a4-4ba5-9bfb-3c2c10d9d907",
   "metadata": {},
   "source": [
    "# Sensitivity analysis for ES related parameters"
   ]
  },
  {
   "cell_type": "code",
   "execution_count": 14,
   "id": "740d098a-55ca-4844-be26-26a260d33b11",
   "metadata": {},
   "outputs": [
    {
     "name": "stdout",
     "output_type": "stream",
     "text": [
      "Sensitivity analysis for detection sensitivity==========================\n"
     ]
    },
    {
     "name": "stderr",
     "output_type": "stream",
     "text": [
      "\u001b[32mProgress: 100%|█████████████████████████████████████████| Time: 0:00:09\u001b[39m\n",
      "\u001b[32mProgress: 100%|█████████████████████████████████████████| Time: 0:00:03\u001b[39m\n",
      "\u001b[32mProgress: 100%|█████████████████████████████████████████| Time: 0:00:03\u001b[39m\n",
      "\u001b[32mProgress: 100%|█████████████████████████████████████████| Time: 0:00:03\u001b[39m\n",
      "\u001b[32mProgress: 100%|█████████████████████████████████████████| Time: 0:00:03\u001b[39m\n"
     ]
    },
    {
     "name": "stdout",
     "output_type": "stream",
     "text": [
      "Any[(R0 = 14, α = 0.05, pc = 0.25, n_sim = 10, pattern = \"population_size\", ES_pattern = \"ES_population_size\", path = \"../dt_tmp_res/sens_ES_catchment_20240223_162229.jld2\", ES_μ = -0.994, ES_σ = 1.493), (R0 = 14, α = 0.05, pc = 0.25, n_sim = 10, pattern = \"population_size\", ES_pattern = \"ES_population_size\", path = \"../dt_tmp_res/sens_ES_catchment_20240223_162233.jld2\", ES_μ = -0.301, ES_σ = 1.493), (R0 = 14, α = 0.05, pc = 0.25, n_sim = 10, pattern = \"population_size\", ES_pattern = \"ES_population_size\", path = \"../dt_tmp_res/sens_ES_catchment_20240223_162237.jld2\", ES_μ = 2.918, ES_σ = 1.493), (R0 = 14, α = 0.05, pc = 0.25, n_sim = 10, pattern = \"population_size\", ES_pattern = \"ES_population_size\", path = \"../dt_tmp_res/sens_ES_catchment_20240223_162241.jld2\", ES_μ = 3.611, ES_σ = 1.493)]"
     ]
    }
   ],
   "source": [
    "println(\"Sensitivity analysis for detection sensitivity==========================\")\n",
    "summary_info = []\n",
    "path_trans = run_transmission_model(;\n",
    "    R0=R0, α=α, imp_ws=[1.0],\n",
    "    base_kwds...\n",
    ")\n",
    "ES_σ = 1.493\n",
    "for ES_μ in [-0.994, -0.301, 2.918, 3.611]\n",
    "    par_AFP, par_ES = set_par_AFP_ES(\n",
    "        pc=pc, pattern=pattern, ES_pattern=ES_pattern,\n",
    "        ES_μ=ES_μ, ES_σ=ES_σ\n",
    "    )\n",
    "    path_save = save_sensitivity_ES_catchment_area(\n",
    "        par_AFP, par_ES, path_trans; \n",
    "        inc_prop=0.01, pattern=pattern, ES_pattern=ES_pattern,\n",
    "    )\n",
    "    rec = (R0=R0, α=α, pc=pc, n_sim=n_sim,\n",
    "        pattern=pattern, ES_pattern=ES_pattern,\n",
    "        path=path_save, ES_μ=ES_μ, ES_σ=ES_σ)\n",
    "    push!(summary_info, rec)\n",
    "end\n",
    "remove_all_transmission_results(path_trans)\n",
    "print(summary_info)"
   ]
  },
  {
   "cell_type": "code",
   "execution_count": 15,
   "id": "f9ff5aae-02dd-47ee-a25c-a7c7d5e03302",
   "metadata": {},
   "outputs": [
    {
     "name": "stdout",
     "output_type": "stream",
     "text": [
      "Sensitivity analysis for sampling frequency==========================\n"
     ]
    },
    {
     "name": "stderr",
     "output_type": "stream",
     "text": [
      "\u001b[32mProgress: 100%|█████████████████████████████████████████| Time: 0:00:08\u001b[39m\n",
      "\u001b[32mProgress: 100%|█████████████████████████████████████████| Time: 0:01:09\u001b[39m\n",
      "\u001b[32mProgress: 100%|█████████████████████████████████████████| Time: 0:00:10\u001b[39m\n",
      "\u001b[32mProgress: 100%|█████████████████████████████████████████| Time: 0:00:06\u001b[39m\n",
      "\u001b[32mProgress: 100%|█████████████████████████████████████████| Time: 0:00:02\u001b[39m\n"
     ]
    },
    {
     "name": "stdout",
     "output_type": "stream",
     "text": [
      "Any[(R0 = 14, α = 0.05, pc = 0.25, n_sim = 10, pattern = \"population_size\", ES_pattern = \"ES_population_size\", path = \"../dt_tmp_res/sens_ES_catchment_20240223_162400.jld2\", n_freq = 1), (R0 = 14, α = 0.05, pc = 0.25, n_sim = 10, pattern = \"population_size\", ES_pattern = \"ES_population_size\", path = \"../dt_tmp_res/sens_ES_catchment_20240223_162411.jld2\", n_freq = 7), (R0 = 14, α = 0.05, pc = 0.25, n_sim = 10, pattern = \"population_size\", ES_pattern = \"ES_population_size\", path = \"../dt_tmp_res/sens_ES_catchment_20240223_162418.jld2\", n_freq = 14), (R0 = 14, α = 0.05, pc = 0.25, n_sim = 10, pattern = \"population_size\", ES_pattern = \"ES_population_size\", path = \"../dt_tmp_res/sens_ES_catchment_20240223_162421.jld2\", n_freq = 60)]"
     ]
    }
   ],
   "source": [
    "println(\"Sensitivity analysis for sampling frequency==========================\")\n",
    "summary_info = []\n",
    "path_trans = run_transmission_model(;\n",
    "    R0=R0, α=α, imp_ws=[1.0],\n",
    "    base_kwds...\n",
    ")\n",
    "for n_freq in [1, 7, 14, 60]\n",
    "    par_AFP, par_ES = set_par_AFP_ES(\n",
    "        pc=pc, pattern=pattern, ES_pattern=ES_pattern,\n",
    "        n_freq=n_freq\n",
    "    )\n",
    "    path_save = save_sensitivity_ES_catchment_area(\n",
    "        par_AFP, par_ES, path_trans; \n",
    "        inc_prop=0.01, pattern=pattern, ES_pattern=ES_pattern,\n",
    "    )\n",
    "    rec = (R0=R0, α=α, pc=pc, n_sim=n_sim,\n",
    "        pattern=pattern, ES_pattern=ES_pattern,\n",
    "        path=path_save, n_freq=n_freq)\n",
    "    push!(summary_info, rec)\n",
    "end\n",
    "remove_all_transmission_results(path_trans)\n",
    "print(summary_info)"
   ]
  },
  {
   "cell_type": "code",
   "execution_count": null,
   "id": "84a57de6-abc5-400d-912e-14536ad4f12e",
   "metadata": {},
   "outputs": [],
   "source": []
  },
  {
   "cell_type": "code",
   "execution_count": null,
   "id": "243c91ec-4282-4513-9bec-479c1ba5cf83",
   "metadata": {},
   "outputs": [],
   "source": []
  }
 ],
 "metadata": {
  "jupytext": {
   "encoding": "# -*- coding: utf-8 -*-"
  },
  "kernelspec": {
   "display_name": "Julia 1.8.3",
   "language": "julia",
   "name": "julia-1.8"
  },
  "language_info": {
   "file_extension": ".jl",
   "mimetype": "application/julia",
   "name": "julia",
   "version": "1.8.3"
  }
 },
 "nbformat": 4,
 "nbformat_minor": 5
}

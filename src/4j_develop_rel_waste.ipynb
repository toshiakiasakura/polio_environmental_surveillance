{
 "cells": [
  {
   "cell_type": "code",
   "execution_count": 1,
   "id": "26b19426",
   "metadata": {},
   "outputs": [
    {
     "data": {
      "text/plain": [
       "validate_meta_population_model"
      ]
     },
     "execution_count": 1,
     "metadata": {},
     "output_type": "execute_result"
    }
   ],
   "source": [
    "include(\"utils.jl\")\n",
    "include(\"geo_ana.jl\")\n",
    "include(\"model_meta_pop.jl\")\n",
    "include(\"main_model_meta_pop.jl\")"
   ]
  },
  {
   "cell_type": "markdown",
   "id": "c005ce93-a7f2-45cf-bfb1-e763d74f16fe",
   "metadata": {},
   "source": [
    "## Data preparation"
   ]
  },
  {
   "cell_type": "code",
   "execution_count": 2,
   "id": "3c299c4f-2ffa-429e-b561-7a95481b7b8a",
   "metadata": {},
   "outputs": [],
   "source": [
    "imp_ws_moz = CSV.read(\"../data/imp_ws_moz.csv\", DataFrame, header=false)[:,1]\n",
    "imp_ws_airport = CSV.read(\"../data/imp_ws_airport.csv\", DataFrame, header=false)[:,1]\n",
    "\n",
    "imp_ws_moz_sorted = CSV.read(\"../data/imp_ws_moz_sorted.csv\", DataFrame, header=false)[:,1]\n",
    "imp_ws_airport_sorted = CSV.read(\"../data/imp_ws_airport_sorted.csv\", DataFrame, header=false)[:,1]\n",
    "nothing"
   ]
  },
  {
   "cell_type": "markdown",
   "id": "b0e8fcd3-c78e-4e2f-b400-82d0641c9954",
   "metadata": {},
   "source": [
    "# Run all patterns"
   ]
  },
  {
   "cell_type": "code",
   "execution_count": 3,
   "id": "f8aaab1f-5bb9-484f-a7a9-cb1f69e28ae7",
   "metadata": {},
   "outputs": [
    {
     "data": {
      "text/plain": [
       "post_processing (generic function with 1 method)"
      ]
     },
     "execution_count": 3,
     "metadata": {},
     "output_type": "execute_result"
    }
   ],
   "source": [
    "function post_processing(path_trans, pattern, ES_pattern, pc)\n",
    "    par_AFP, par_ES = set_par_AFP_ES(;pc=pc, pattern=pattern, ES_pattern=ES_pattern)\n",
    "    path_save = save_sensitivity_ES_catchment_area(\n",
    "        par_AFP, par_ES, path_trans; \n",
    "        inc_prop=0.01, \n",
    "        pattern=pattern, ES_pattern=ES_pattern,\n",
    "    )\n",
    "    #path_save = save_sensitivity_sampling_frequency(\n",
    "    #    par_AFP, par_ES, path_trans; \n",
    "    #    inc_prop=0.5\n",
    "    #)\n",
    "    #remove_all_leaving_one(path_trans)\n",
    "    remove_all_transmission_results(path_trans)\n",
    "    return path_save\n",
    "end"
   ]
  },
  {
   "cell_type": "code",
   "execution_count": 4,
   "id": "187e4f30-e5c7-4a98-a2b9-e7ef4eaff3b5",
   "metadata": {},
   "outputs": [
    {
     "data": {
      "text/plain": [
       "500"
      ]
     },
     "execution_count": 4,
     "metadata": {},
     "output_type": "execute_result"
    }
   ],
   "source": [
    "n_sim = 500"
   ]
  },
  {
   "cell_type": "code",
   "execution_count": 5,
   "id": "ca3066c7-0e69-41a8-a703-624b043e1fab",
   "metadata": {},
   "outputs": [
    {
     "data": {
      "text/plain": [
       "0.25"
      ]
     },
     "execution_count": 5,
     "metadata": {},
     "output_type": "execute_result"
    }
   ],
   "source": [
    "R0 = 14\n",
    "α = 0.05 \n",
    "pc = 0.25"
   ]
  },
  {
   "cell_type": "code",
   "execution_count": 6,
   "id": "83bbff04-5876-427e-9716-bb393497694c",
   "metadata": {},
   "outputs": [
    {
     "name": "stdout",
     "output_type": "stream",
     "text": [
      "# of sites: 1502\n",
      "SEIRMetaModelParams\n",
      "  R0: Float64 14.0\n",
      "  γ1: Float64 0.25\n",
      "  γ2: Float64 0.06657789613848203\n",
      "  σ: Float64 0.3291\n",
      "  P_AFP: Float64 0.005\n",
      "  N_tot: Array{Int64}((1502,)) [202319, 143450, 115693, 114739, 110328, 96435, 87749, 86436, 85528, 79797  …  103, 103, 103, 103, 103, 102, 101, 101, 101, 101]\n",
      "  N_unvac: Array{Int64}((1502,)) [10317, 7586, 7612, 11170, 7259, 23715, 4640, 4571, 5627, 4726  …  2, 19, 7, 8, 4, 7, 6, 3, 6, 19]\n",
      "  I0_init: Int64 1\n",
      "  I0_ind: Int64 1\n",
      "  days: Int64 1095\n",
      "  n_site: Int64 1502\n",
      "  α: Float64 0.05\n",
      "  π_mat: Array{Float64}((1502, 1502)) [0.0 0.001005637766707509 … 2.2575725779946388e-6 5.791596828860633e-6; 0.0044426339358509875 0.0 … 1.1956517145791305e-5 5.869233333335014e-6; … ; 2.6402308181041693e-5 5.024276288063728e-7 … 0.0 7.144252225512413e-8; 5.869628505259726e-5 4.991087562957113e-7 … 3.024097945418509e-9 0.0]\n",
      "  μ: Float64 0.000547945205479452\n",
      "  β: Float64 0.9320905459387484\n",
      "  pc: Float64 0.25\n",
      "  imp_ws: Array{Float64}((1502,)) [0.009137630466414309, 0.0014404394317019393, 0.010187286911578136, 0.005079582561960022, 0.006493451023852421, 0.005846655217185169, 0.000851380087727608, 0.0008367852567075058, 0.005549057985134463, 0.0063470028574354725  …  1.8818572490716397e-6, 3.231171030959366e-6, 4.5525143927300625e-6, 2.4943047186281744e-6, 5.19559854516887e-5, 2.5730697779133145e-6, 1.099316007852436e-6, 1.8352853355169155e-6, 2.076772943754174e-6, 3.085011949462341e-6]\n",
      "../dt_tmp/20240219_144541\n"
     ]
    },
    {
     "name": "stderr",
     "output_type": "stream",
     "text": [
      "\u001b[32mProgress: 100%|█████████████████████████████████████████| Time: 0:11:16\u001b[39m\n"
     ]
    },
    {
     "name": "stdout",
     "output_type": "stream",
     "text": [
      "Cum index:28\n",
      "Actual ES coverage: 34.20778\n",
      "AFPSurParams\n",
      "  P_test: Float64 0.97\n",
      "  P_sample: Float64 0.53\n",
      "  P_H: Float64 0.9\n",
      "ESParams\n",
      "  ES_μ: Float64 1.31\n",
      "  ES_σ: Float64 1.49\n",
      "  Pop_whole: Array{Float64}((1502,)) [2.37444075e6, 1.660322625e6, 1.336678625e6, 1.369116875e6, 1.28683475e6, 1.150419e6, 1.01532875e6, 1.00010775e6, 1.001090375e6, 915704.8125  …  1248.9202880859375, 1157.53759765625, 1138.3114013671875, 999.3184204101562, 1008.6461791992188, 1018.3812866210938, 1270.4072265625, 1096.8763427734375, 901.1810913085938, 1132.34912109375]\n",
      "  P_test: Float64 0.97\n",
      "  area: Array{Bool}((1502,)) Bool[1, 1, 1, 1, 1, 1, 1, 1, 1, 1  …  0, 0, 0, 0, 0, 0, 0, 0, 0, 0]\n",
      "  n_freq: Int64 30\n",
      "  pc: Float64 0.25\n"
     ]
    },
    {
     "name": "stderr",
     "output_type": "stream",
     "text": [
      "\u001b[32mProgress: 100%|█████████████████████████████████████████| Time: 0:02:28\u001b[39m\n"
     ]
    },
    {
     "name": "stdout",
     "output_type": "stream",
     "text": [
      "../dt_tmp_res/sens_ES_catchment_20240219_145929.jld2\n",
      "# of sites: 1502\n",
      "SEIRMetaModelParams\n",
      "  R0: Float64 14.0\n",
      "  γ1: Float64 0.25\n",
      "  γ2: Float64 0.06657789613848203\n",
      "  σ: Float64 0.3291\n",
      "  P_AFP: Float64 0.005\n",
      "  N_tot: Array{Int64}((1502,)) [202319, 143450, 115693, 114739, 110328, 96435, 87749, 86436, 85528, 79797  …  103, 103, 103, 103, 103, 102, 101, 101, 101, 101]\n",
      "  N_unvac: Array{Int64}((1502,)) [10317, 7586, 7612, 11170, 7259, 23715, 4640, 4571, 5627, 4726  …  2, 19, 7, 8, 4, 7, 6, 3, 6, 19]\n",
      "  I0_init: Int64 1\n",
      "  I0_ind: Int64 1\n",
      "  days: Int64 1095\n",
      "  n_site: Int64 1502\n",
      "  α: Float64 0.05\n",
      "  π_mat: Array{Float64}((1502, 1502)) [0.0 0.001005637766707509 … 2.2575725779946388e-6 5.791596828860633e-6; 0.0044426339358509875 0.0 … 1.1956517145791305e-5 5.869233333335014e-6; … ; 2.6402308181041693e-5 5.024276288063728e-7 … 0.0 7.144252225512413e-8; 5.869628505259726e-5 4.991087562957113e-7 … 3.024097945418509e-9 0.0]\n",
      "  μ: Float64 0.000547945205479452\n",
      "  β: Float64 0.9320905459387484\n",
      "  pc: Float64 0.25\n",
      "  imp_ws: Array{Float64}((1502,)) [0.031088165643860244, 0.06260238440074709, 0.09202688724319802, 0.0026433985034179765, 0.24789406080337692, 0.031059208539403776, 0.036339472923017216, 0.01402694541121827, 0.020972872263822252, 0.13585452919301177  …  2.5212876926894473e-6, 2.602159219657782e-6, 1.6817138417275634e-6, 1.5976002862659134e-6, 1.9252404356940207e-6, 1.6507829928861177e-6, 6.767117219384961e-6, 3.097573185825078e-6, 2.144959440129038e-6, 2.5398169603734627e-6]\n",
      "../dt_tmp/20240219_145935\n"
     ]
    },
    {
     "name": "stderr",
     "output_type": "stream",
     "text": [
      "\u001b[32mProgress: 100%|█████████████████████████████████████████| Time: 0:05:12\u001b[39m\n"
     ]
    },
    {
     "name": "stdout",
     "output_type": "stream",
     "text": [
      "Cum index:28\n",
      "Actual ES coverage: 34.20778\n",
      "AFPSurParams\n",
      "  P_test: Float64 0.97\n",
      "  P_sample: Float64 0.53\n",
      "  P_H: Float64 0.9\n",
      "ESParams\n",
      "  ES_μ: Float64 1.31\n",
      "  ES_σ: Float64 1.49\n",
      "  Pop_whole: Array{Float64}((1502,)) [2.37444075e6, 1.660322625e6, 1.336678625e6, 1.369116875e6, 1.28683475e6, 1.150419e6, 1.01532875e6, 1.00010775e6, 1.001090375e6, 915704.8125  …  1248.9202880859375, 1157.53759765625, 1138.3114013671875, 999.3184204101562, 1008.6461791992188, 1018.3812866210938, 1270.4072265625, 1096.8763427734375, 901.1810913085938, 1132.34912109375]\n",
      "  P_test: Float64 0.97\n",
      "  area: Array{Bool}((1502,)) Bool[1, 1, 1, 1, 1, 1, 1, 1, 1, 1  …  0, 0, 0, 0, 0, 0, 0, 0, 0, 0]\n",
      "  n_freq: Int64 30\n",
      "  pc: Float64 0.25\n"
     ]
    },
    {
     "name": "stderr",
     "output_type": "stream",
     "text": [
      "\u001b[32mProgress: 100%|█████████████████████████████████████████| Time: 0:02:26\u001b[39m\n"
     ]
    },
    {
     "name": "stdout",
     "output_type": "stream",
     "text": [
      "../dt_tmp_res/sens_ES_catchment_20240219_150715.jld2\n",
      "# of sites: 1502\n",
      "SEIRMetaModelParams\n",
      "  R0: Float64 14.0\n",
      "  γ1: Float64 0.25\n",
      "  γ2: Float64 0.06657789613848203\n",
      "  σ: Float64 0.3291\n",
      "  P_AFP: Float64 0.005\n",
      "  N_tot: Array{Int64}((1502,)) [202319, 143450, 115693, 114739, 110328, 96435, 87749, 86436, 85528, 79797  …  103, 103, 103, 103, 103, 102, 101, 101, 101, 101]\n",
      "  N_unvac: Array{Int64}((1502,)) [10317, 7586, 7612, 11170, 7259, 23715, 4640, 4571, 5627, 4726  …  2, 19, 7, 8, 4, 7, 6, 3, 6, 19]\n",
      "  I0_init: Int64 1\n",
      "  I0_ind: Int64 1\n",
      "  days: Int64 1095\n",
      "  n_site: Int64 1502\n",
      "  α: Float64 0.05\n",
      "  π_mat: Array{Float64}((1502, 1502)) [0.0 0.001005637766707509 … 2.2575725779946388e-6 5.791596828860633e-6; 0.0044426339358509875 0.0 … 1.1956517145791305e-5 5.869233333335014e-6; … ; 2.6402308181041693e-5 5.024276288063728e-7 … 0.0 7.144252225512413e-8; 5.869628505259726e-5 4.991087562957113e-7 … 3.024097945418509e-9 0.0]\n",
      "  μ: Float64 0.000547945205479452\n",
      "  β: Float64 0.9320905459387484\n",
      "  pc: Float64 0.25\n",
      "  imp_ws: Array{Float64}((1502,)) [0.009137630466414309, 0.0014404394317019393, 0.010187286911578136, 0.005079582561960022, 0.006493451023852421, 0.005846655217185169, 0.000851380087727608, 0.0008367852567075058, 0.005549057985134463, 0.0063470028574354725  …  1.8818572490716397e-6, 3.231171030959366e-6, 4.5525143927300625e-6, 2.4943047186281744e-6, 5.19559854516887e-5, 2.5730697779133145e-6, 1.099316007852436e-6, 1.8352853355169155e-6, 2.076772943754174e-6, 3.085011949462341e-6]\n",
      "../dt_tmp/20240219_150720\n"
     ]
    },
    {
     "name": "stderr",
     "output_type": "stream",
     "text": [
      "\u001b[32mProgress: 100%|█████████████████████████████████████████| Time: 0:16:26\u001b[39m\n"
     ]
    },
    {
     "name": "stdout",
     "output_type": "stream",
     "text": [
      "Cum index:28\n",
      "Actual ES coverage: 34.20778\n",
      "AFPSurParams\n",
      "  P_test: Float64 0.97\n",
      "  P_sample: Float64 0.53\n",
      "  P_H: Float64 0.9\n",
      "ESParams\n",
      "  ES_μ: Float64 1.31\n",
      "  ES_σ: Float64 1.49\n",
      "  Pop_whole: Array{Float64}((1502,)) [2.37444075e6, 1.660322625e6, 1.336678625e6, 1.369116875e6, 1.28683475e6, 1.150419e6, 1.01532875e6, 1.00010775e6, 1.001090375e6, 915704.8125  …  1248.9202880859375, 1157.53759765625, 1138.3114013671875, 999.3184204101562, 1008.6461791992188, 1018.3812866210938, 1270.4072265625, 1096.8763427734375, 901.1810913085938, 1132.34912109375]\n",
      "  P_test: Float64 0.97\n",
      "  area: Array{Bool}((1502,)) Bool[1, 1, 1, 1, 1, 1, 1, 1, 1, 1  …  0, 0, 0, 0, 0, 0, 0, 0, 0, 0]\n",
      "  n_freq: Int64 30\n",
      "  pc: Float64 0.25\n"
     ]
    },
    {
     "name": "stderr",
     "output_type": "stream",
     "text": [
      "\u001b[32mProgress: 100%|█████████████████████████████████████████| Time: 0:02:09\u001b[39m\n"
     ]
    },
    {
     "name": "stdout",
     "output_type": "stream",
     "text": [
      "../dt_tmp_res/sens_ES_catchment_20240219_152555.jld2\n",
      "Any[\"R0=14, α=0.05, pc=0.25, n_sim=500, pattern=population_size, ES_pattern=ES_population_size, path: ../dt_tmp_res/sens_ES_catchment_20240219_145929.jld2\", \"R0=14, α=0.05, pc=0.25, n_sim=500, pattern=airport, ES_pattern=ES_population_size, path: ../dt_tmp_res/sens_ES_catchment_20240219_150715.jld2\", \"R0=14, α=0.05, pc=0.25, n_sim=500, pattern=mozambique, ES_pattern=ES_population_size, path: ../dt_tmp_res/sens_ES_catchment_20240219_152555.jld2\"]\n"
     ]
    }
   ],
   "source": [
    "ES_pattern = \"ES_population_size\"\n",
    "summary_info = []\n",
    "for pattern in [\"population_size\", \"airport\", \"mozambique\"]\n",
    "    imp_ws = pattern ==\"airport\" ? imp_ws_airport : imp_ws_moz\n",
    "    path_trans = run_transmission_model(;\n",
    "        R0=R0, α=α, pc=pc, imp_ws=imp_ws,\n",
    "        n_sim=n_sim,\n",
    "        pattern=pattern, ES_pattern=ES_pattern\n",
    "    )\n",
    "    path_save = post_processing(path_trans, pattern, ES_pattern, pc)\n",
    "    println(path_save)\n",
    "    rec = \"R0=$(R0), α=$(α), pc=$(pc), n_sim=$(n_sim), pattern=$(pattern), ES_pattern=$(ES_pattern), path: $(path_save)\"\n",
    "    push!(summary_info, rec)\n",
    "end\n",
    "println(summary_info)"
   ]
  },
  {
   "cell_type": "code",
   "execution_count": 7,
   "id": "2e1c3599-092d-4a05-9c6d-dacdeb8438f1",
   "metadata": {},
   "outputs": [
    {
     "name": "stdout",
     "output_type": "stream",
     "text": [
      "# of sites: 1502\n",
      "SEIRMetaModelParams\n",
      "  R0: Float64 14.0\n",
      "  γ1: Float64 0.25\n",
      "  γ2: Float64 0.06657789613848203\n",
      "  σ: Float64 0.3291\n",
      "  P_AFP: Float64 0.005\n",
      "  N_tot: Array{Int64}((1502,)) [16082, 5890, 11047, 18522, 18813, 9472, 13380, 14293, 7205, 17262  …  118, 116, 116, 117, 112, 108, 109, 101, 104, 104]\n",
      "  N_unvac: Array{Int64}((1502,)) [1945, 712, 1336, 2240, 2275, 1145, 1618, 1728, 871, 2087  …  7, 8, 7, 7, 6, 6, 6, 6, 6, 6]\n",
      "  I0_init: Int64 1\n",
      "  I0_ind: Int64 1\n",
      "  days: Int64 1095\n",
      "  n_site: Int64 1502\n",
      "  α: Float64 0.05\n",
      "  π_mat: Array{Float64}((1502, 1502)) [0.0 0.09699297487403127 … 6.18603651190638e-8 6.103773800519353e-8; 0.40110231066746777 0.0 … 2.2668717882603697e-8 2.2368073171571883e-8; … ; 5.97583859193981e-8 2.2595988054551167e-8 … 0.0 0.0018250167341008325; 5.97583859193981e-8 2.2597324781618096e-8 … 0.0005358608367029002 0.0]\n",
      "  μ: Float64 0.000547945205479452\n",
      "  β: Float64 0.9320905459387484\n",
      "  pc: Float64 0.25\n",
      "  imp_ws: Array{Float64}((1502,)) [0.06237467529227691, 0.04070126206089767, 0.0320943364536531, 0.029151469420321586, 0.025008469015422995, 0.02448650824807247, 0.01638213977968946, 0.015808553070759082, 0.01503887665762241, 0.014594712025479815  …  1.2514883581230865e-6, 1.2341474980444092e-6, 1.2275455659370254e-6, 1.226816895203663e-6, 1.1997225628423324e-6, 1.1469617165355523e-6, 1.1177401643747216e-6, 1.099316007852436e-6, 1.096641461682014e-6, 1.079769480032716e-6]\n",
      "../dt_tmp/20240217_121628\n"
     ]
    },
    {
     "name": "stderr",
     "output_type": "stream",
     "text": [
      "\u001b[32mProgress: 100%|█████████████████████████████████████████| Time: 0:12:30\u001b[39m\n"
     ]
    },
    {
     "name": "stdout",
     "output_type": "stream",
     "text": [
      "Cum index:91\n",
      "Actual ES coverage: 34.36426020286764\n",
      "AFPSurParams\n",
      "  P_test: Float64 0.97\n",
      "  P_sample: Float64 0.53\n",
      "  P_H: Float64 0.9\n",
      "ESParams\n",
      "  ES_μ: Float64 1.31\n",
      "  ES_σ: Float64 1.49\n",
      "  Pop_whole: Array{Float64}((1502,)) [144379.92, 52883.098, 99176.71, 186047.06, 188971.3, 85035.52, 115460.9, 143053.11, 72056.89, 148967.14  …  1546.9427, 1445.1135, 1456.9009, 1536.1375, 1329.4703, 1362.9551, 1507.2152, 1270.4072, 1392.0496, 1438.9879]\n",
      "  P_test: Float64 0.97\n",
      "  area: Array{Bool}((1502,)) Bool[1, 1, 1, 1, 1, 1, 1, 1, 1, 1  …  0, 0, 0, 0, 0, 0, 0, 0, 0, 0]\n",
      "  n_freq: Int64 30\n",
      "  pc: Float64 0.25\n"
     ]
    },
    {
     "name": "stderr",
     "output_type": "stream",
     "text": [
      "\u001b[32mProgress: 100%|█████████████████████████████████████████| Time: 0:02:53\u001b[39m\n"
     ]
    },
    {
     "name": "stdout",
     "output_type": "stream",
     "text": [
      "../dt_tmp_res/sens_ES_catchment_20240217_123152.jld2\n",
      "# of sites: 1502\n",
      "SEIRMetaModelParams\n",
      "  R0: Float64 14.0\n",
      "  γ1: Float64 0.25\n",
      "  γ2: Float64 0.06657789613848203\n",
      "  σ: Float64 0.3291\n",
      "  P_AFP: Float64 0.005\n",
      "  N_tot: Array{Int64}((1502,)) [16082, 5890, 11047, 18522, 18813, 9472, 13380, 14293, 7205, 17262  …  118, 116, 116, 117, 112, 108, 109, 101, 104, 104]\n",
      "  N_unvac: Array{Int64}((1502,)) [1945, 712, 1336, 2240, 2275, 1145, 1618, 1728, 871, 2087  …  7, 8, 7, 7, 6, 6, 6, 6, 6, 6]\n",
      "  I0_init: Int64 1\n",
      "  I0_ind: Int64 1\n",
      "  days: Int64 1095\n",
      "  n_site: Int64 1502\n",
      "  α: Float64 0.05\n",
      "  π_mat: Array{Float64}((1502, 1502)) [0.0 0.09699297487403127 … 6.18603651190638e-8 6.103773800519353e-8; 0.40110231066746777 0.0 … 2.2668717882603697e-8 2.2368073171571883e-8; … ; 5.97583859193981e-8 2.2595988054551167e-8 … 0.0 0.0018250167341008325; 5.97583859193981e-8 2.2597324781618096e-8 … 0.0005358608367029002 0.0]\n",
      "  μ: Float64 0.000547945205479452\n",
      "  β: Float64 0.9320905459387484\n",
      "  pc: Float64 0.25\n",
      "  imp_ws: Array{Float64}((1502,)) [0.00012571656183783299, 4.673976272910149e-5, 9.265776861123072e-5, 0.00020358614204519357, 0.0001952973362410697, 8.779548215586104e-5, 0.00011588309518071556, 0.0001413832380268972, 7.011078181805559e-5, 0.00015316274896159466  …  7.985164833182958e-6, 9.289604536013751e-6, 7.647122164786321e-6, 8.10755903392002e-6, 6.675200461162124e-6, 7.161483445668732e-6, 8.60332961145524e-6, 6.767117219384961e-6, 8.26737136766233e-6, 8.555600159621882e-6]\n",
      "../dt_tmp/20240217_123157\n"
     ]
    },
    {
     "name": "stderr",
     "output_type": "stream",
     "text": [
      "\u001b[32mProgress: 100%|█████████████████████████████████████████| Time: 0:06:30\u001b[39m\n"
     ]
    },
    {
     "name": "stdout",
     "output_type": "stream",
     "text": [
      "Cum index:91\n",
      "Actual ES coverage: 34.36426020286764\n",
      "AFPSurParams\n",
      "  P_test: Float64 0.97\n",
      "  P_sample: Float64 0.53\n",
      "  P_H: Float64 0.9\n",
      "ESParams\n",
      "  ES_μ: Float64 1.31\n",
      "  ES_σ: Float64 1.49\n",
      "  Pop_whole: Array{Float64}((1502,)) [144379.92, 52883.098, 99176.71, 186047.06, 188971.3, 85035.52, 115460.9, 143053.11, 72056.89, 148967.14  …  1546.9427, 1445.1135, 1456.9009, 1536.1375, 1329.4703, 1362.9551, 1507.2152, 1270.4072, 1392.0496, 1438.9879]\n",
      "  P_test: Float64 0.97\n",
      "  area: Array{Bool}((1502,)) Bool[1, 1, 1, 1, 1, 1, 1, 1, 1, 1  …  0, 0, 0, 0, 0, 0, 0, 0, 0, 0]\n",
      "  n_freq: Int64 30\n",
      "  pc: Float64 0.25\n"
     ]
    },
    {
     "name": "stderr",
     "output_type": "stream",
     "text": [
      "\u001b[32mProgress: 100%|█████████████████████████████████████████| Time: 0:03:12\u001b[39m\n"
     ]
    },
    {
     "name": "stdout",
     "output_type": "stream",
     "text": [
      "../dt_tmp_res/sens_ES_catchment_20240217_124140.jld2\n",
      "# of sites: 1502\n",
      "SEIRMetaModelParams\n",
      "  R0: Float64 14.0\n",
      "  γ1: Float64 0.25\n",
      "  γ2: Float64 0.06657789613848203\n",
      "  σ: Float64 0.3291\n",
      "  P_AFP: Float64 0.005\n",
      "  N_tot: Array{Int64}((1502,)) [16082, 5890, 11047, 18522, 18813, 9472, 13380, 14293, 7205, 17262  …  118, 116, 116, 117, 112, 108, 109, 101, 104, 104]\n",
      "  N_unvac: Array{Int64}((1502,)) [1945, 712, 1336, 2240, 2275, 1145, 1618, 1728, 871, 2087  …  7, 8, 7, 7, 6, 6, 6, 6, 6, 6]\n",
      "  I0_init: Int64 1\n",
      "  I0_ind: Int64 1\n",
      "  days: Int64 1095\n",
      "  n_site: Int64 1502\n",
      "  α: Float64 0.05\n",
      "  π_mat: Array{Float64}((1502, 1502)) [0.0 0.09699297487403127 … 6.18603651190638e-8 6.103773800519353e-8; 0.40110231066746777 0.0 … 2.2668717882603697e-8 2.2368073171571883e-8; … ; 5.97583859193981e-8 2.2595988054551167e-8 … 0.0 0.0018250167341008325; 5.97583859193981e-8 2.2597324781618096e-8 … 0.0005358608367029002 0.0]\n",
      "  μ: Float64 0.000547945205479452\n",
      "  β: Float64 0.9320905459387484\n",
      "  pc: Float64 0.25\n",
      "  imp_ws: Array{Float64}((1502,)) [0.06237467529227691, 0.04070126206089767, 0.0320943364536531, 0.029151469420321586, 0.025008469015422995, 0.02448650824807247, 0.01638213977968946, 0.015808553070759082, 0.01503887665762241, 0.014594712025479815  …  1.2514883581230865e-6, 1.2341474980444092e-6, 1.2275455659370254e-6, 1.226816895203663e-6, 1.1997225628423324e-6, 1.1469617165355523e-6, 1.1177401643747216e-6, 1.099316007852436e-6, 1.096641461682014e-6, 1.079769480032716e-6]\n",
      "../dt_tmp/20240217_124145\n"
     ]
    },
    {
     "name": "stderr",
     "output_type": "stream",
     "text": [
      "\u001b[32mProgress: 100%|█████████████████████████████████████████| Time: 0:19:18\u001b[39m\n"
     ]
    },
    {
     "name": "stdout",
     "output_type": "stream",
     "text": [
      "Cum index:91\n",
      "Actual ES coverage: 34.36426020286764\n",
      "AFPSurParams\n",
      "  P_test: Float64 0.97\n",
      "  P_sample: Float64 0.53\n",
      "  P_H: Float64 0.9\n",
      "ESParams\n",
      "  ES_μ: Float64 1.31\n",
      "  ES_σ: Float64 1.49\n",
      "  Pop_whole: Array{Float64}((1502,)) [144379.92, 52883.098, 99176.71, 186047.06, 188971.3, 85035.52, 115460.9, 143053.11, 72056.89, 148967.14  …  1546.9427, 1445.1135, 1456.9009, 1536.1375, 1329.4703, 1362.9551, 1507.2152, 1270.4072, 1392.0496, 1438.9879]\n",
      "  P_test: Float64 0.97\n",
      "  area: Array{Bool}((1502,)) Bool[1, 1, 1, 1, 1, 1, 1, 1, 1, 1  …  0, 0, 0, 0, 0, 0, 0, 0, 0, 0]\n",
      "  n_freq: Int64 30\n",
      "  pc: Float64 0.25\n"
     ]
    },
    {
     "name": "stderr",
     "output_type": "stream",
     "text": [
      "\u001b[32mProgress: 100%|█████████████████████████████████████████| Time: 0:02:48\u001b[39m\n"
     ]
    },
    {
     "name": "stdout",
     "output_type": "stream",
     "text": [
      "../dt_tmp_res/sens_ES_catchment_20240217_130352.jld2\n",
      "Any[\"R0=14, α=0.05, pc=0.25, n_sim=500, pattern=population_size, ES_pattern=ES_mozambique_imp_risk, path: ../dt_tmp_res/sens_ES_catchment_20240217_123152.jld2\", \"R0=14, α=0.05, pc=0.25, n_sim=500, pattern=airport, ES_pattern=ES_mozambique_imp_risk, path: ../dt_tmp_res/sens_ES_catchment_20240217_124140.jld2\", \"R0=14, α=0.05, pc=0.25, n_sim=500, pattern=mozambique, ES_pattern=ES_mozambique_imp_risk, path: ../dt_tmp_res/sens_ES_catchment_20240217_130352.jld2\"]\n"
     ]
    }
   ],
   "source": [
    "ES_pattern = \"ES_mozambique_imp_risk\"\n",
    "summary_info = []\n",
    "for pattern in [\"population_size\", \"airport\", \"mozambique\"]\n",
    "    imp_ws = pattern ==\"airport\" ? imp_ws_airport_sorted : imp_ws_moz_sorted\n",
    "    path_trans = run_transmission_model(;\n",
    "        R0=R0, α=α, pc=pc, imp_ws=imp_ws,\n",
    "        n_sim=n_sim,\n",
    "        pattern=pattern, ES_pattern=ES_pattern\n",
    "    )\n",
    "    path_save = post_processing(path_trans, pattern, ES_pattern, pc)\n",
    "    println(path_save)\n",
    "    rec = \"R0=$(R0), α=$(α), pc=$(pc), n_sim=$(n_sim), pattern=$(pattern), ES_pattern=$(ES_pattern), path: $(path_save)\"\n",
    "    push!(summary_info, rec)\n",
    "end\n",
    "println(summary_info)"
   ]
  },
  {
   "cell_type": "code",
   "execution_count": null,
   "id": "40ab5e6c-ff18-4edd-bd10-266ee303b004",
   "metadata": {},
   "outputs": [],
   "source": []
  },
  {
   "cell_type": "code",
   "execution_count": null,
   "id": "350257bd",
   "metadata": {
    "lines_to_next_cell": 2
   },
   "outputs": [],
   "source": []
  },
  {
   "cell_type": "code",
   "execution_count": null,
   "id": "df2d10cf-28dc-4270-b7b6-905ab8492f57",
   "metadata": {},
   "outputs": [],
   "source": []
  }
 ],
 "metadata": {
  "jupytext": {
   "encoding": "# -*- coding: utf-8 -*-"
  },
  "kernelspec": {
   "display_name": "Julia 1.8.3",
   "language": "julia",
   "name": "julia-1.8"
  },
  "language_info": {
   "file_extension": ".jl",
   "mimetype": "application/julia",
   "name": "julia",
   "version": "1.8.3"
  }
 },
 "nbformat": 4,
 "nbformat_minor": 5
}

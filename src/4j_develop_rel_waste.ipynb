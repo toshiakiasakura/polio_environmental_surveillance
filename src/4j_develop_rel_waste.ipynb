{
 "cells": [
  {
   "cell_type": "code",
   "execution_count": null,
   "id": "26b19426",
   "metadata": {},
   "outputs": [],
   "source": [
    "include(\"utils.jl\")\n",
    "include(\"geo_ana.jl\")\n",
    "include(\"model_meta_pop.jl\")"
   ]
  },
  {
   "cell_type": "markdown",
   "id": "b0e8fcd3-c78e-4e2f-b400-82d0641c9954",
   "metadata": {},
   "source": [
    "# Run all patterns"
   ]
  },
  {
   "cell_type": "code",
   "execution_count": null,
   "id": "bed39472-6b17-405c-8355-ffac8a7c6dc4",
   "metadata": {},
   "outputs": [],
   "source": [
    "base_kwds = (n_sim=100, R0=14.0, α=0.05, pc=0.25)"
   ]
  },
  {
   "cell_type": "code",
   "execution_count": null,
   "id": "83bbff04-5876-427e-9716-bb393497694c",
   "metadata": {
    "scrolled": true
   },
   "outputs": [],
   "source": [
    "ES_pattern = \"ES_population_size\"\n",
    "summary_info = []\n",
    "for pattern in [\"population_size\", \"airport\", \"mozambique\"]\n",
    "    rec = run_trans_detection_process(;\n",
    "        pattern=pattern, ES_pattern=ES_pattern,\n",
    "        base_kwds...\n",
    "    )\n",
    "    push!(summary_info, rec)\n",
    "end\n",
    "println(summary_info)"
   ]
  },
  {
   "cell_type": "code",
   "execution_count": null,
   "id": "4ebfdb53-2de0-4a27-be27-cb9c0c93e252",
   "metadata": {},
   "outputs": [],
   "source": [
    "ES_pattern = \"ES_mozambique_imp_risk\"\n",
    "summary_info = []\n",
    "for pattern in [\"population_size\", \"airport\", \"mozambique\"]\n",
    "    rec = run_trans_detection_process(;\n",
    "        pattern=pattern, ES_pattern=ES_pattern,\n",
    "        base_kwds...\n",
    "    )\n",
    "    push!(summary_info, rec)\n",
    "end\n",
    "println(summary_info)"
   ]
  },
  {
   "cell_type": "code",
   "execution_count": null,
   "id": "07882d73-efa7-4ecf-890a-c8189ff206a2",
   "metadata": {},
   "outputs": [],
   "source": []
  },
  {
   "cell_type": "code",
   "execution_count": null,
   "id": "40ab5e6c-ff18-4edd-bd10-266ee303b004",
   "metadata": {},
   "outputs": [],
   "source": []
  },
  {
   "cell_type": "code",
   "execution_count": null,
   "id": "350257bd",
   "metadata": {
    "lines_to_next_cell": 2
   },
   "outputs": [],
   "source": []
  },
  {
   "cell_type": "code",
   "execution_count": null,
   "id": "df2d10cf-28dc-4270-b7b6-905ab8492f57",
   "metadata": {},
   "outputs": [],
   "source": []
  }
 ],
 "metadata": {
  "jupytext": {
   "encoding": "# -*- coding: utf-8 -*-"
  },
  "kernelspec": {
   "display_name": "Julia 1.8.3",
   "language": "julia",
   "name": "julia-1.8"
  },
  "language_info": {
   "file_extension": ".jl",
   "mimetype": "application/julia",
   "name": "julia",
   "version": "1.8.3"
  }
 },
 "nbformat": 4,
 "nbformat_minor": 5
}

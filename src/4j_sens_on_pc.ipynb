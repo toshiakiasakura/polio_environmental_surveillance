{
 "cells": [
  {
   "cell_type": "code",
   "execution_count": null,
   "id": "26b19426",
   "metadata": {},
   "outputs": [],
   "source": [
    "include(\"utils.jl\")\n",
    "include(\"geo_ana.jl\")\n",
    "include(\"model_meta_pop.jl\")"
   ]
  },
  {
   "cell_type": "markdown",
   "id": "b0e8fcd3-c78e-4e2f-b400-82d0641c9954",
   "metadata": {},
   "source": [
    "# Run all patterns"
   ]
  },
  {
   "cell_type": "code",
   "execution_count": null,
   "id": "aeff4b31-968f-489b-a062-ef8226d6b076",
   "metadata": {},
   "outputs": [],
   "source": [
    "base_kwds = (n_sim=10, R0=14.0, α=0.05)"
   ]
  },
  {
   "cell_type": "markdown",
   "id": "d4a5c074-41fe-4a05-8c98-ed6fe20841f8",
   "metadata": {},
   "source": [
    "# Sensitivity analysis for pc "
   ]
  },
  {
   "cell_type": "code",
   "execution_count": null,
   "id": "3b1c8a9f-9aca-4dd9-8c18-e7a4192e3810",
   "metadata": {},
   "outputs": [],
   "source": [
    "println(\"Sensitivity analysis for pc ================\")\n",
    "ES_pattern = \"ES_population_size\"\n",
    "summary_info = []\n",
    "for pattern in [\"population_size\", \"airport\", \"mozambique\"]\n",
    "    for pc_sens in [0.01, 0.05, 0.50, 1.0]\n",
    "        rec = run_trans_detection_process(;\n",
    "            pc=pc_sens,\n",
    "            pattern=pattern, ES_pattern=ES_pattern,\n",
    "            base_kwds...\n",
    "        )\n",
    "        push!(summary_info, rec)\n",
    "    end\n",
    "end\n",
    "println(summary_info)"
   ]
  },
  {
   "cell_type": "code",
   "execution_count": null,
   "id": "3dfe9071-5f45-469b-a583-b0d60f98e1c7",
   "metadata": {},
   "outputs": [],
   "source": [
    "println(\"Sensitivity analysis for pc ================\")\n",
    "ES_pattern = \"ES_mozambique_imp_risk\"\n",
    "summary_info = []\n",
    "for pattern in [\"population_size\", \"airport\", \"mozambique\"]\n",
    "    for pc_sens in [0.01, 0.05, 0.50, 1.0]\n",
    "        rec = run_trans_detection_process(;\n",
    "            pc=pc_sens,\n",
    "            pattern=pattern, ES_pattern=ES_pattern,\n",
    "            base_kwds...\n",
    "        )\n",
    "        push!(summary_info, rec)\n",
    "    end\n",
    "end\n",
    "println(summary_info)"
   ]
  },
  {
   "cell_type": "code",
   "execution_count": null,
   "id": "bfbce74f-b477-4a91-9c14-e9292046efa6",
   "metadata": {},
   "outputs": [],
   "source": []
  },
  {
   "cell_type": "code",
   "execution_count": null,
   "id": "3a07818f-8c51-4642-884a-50f9e5738bc6",
   "metadata": {},
   "outputs": [],
   "source": []
  }
 ],
 "metadata": {
  "jupytext": {
   "encoding": "# -*- coding: utf-8 -*-"
  },
  "kernelspec": {
   "display_name": "Julia 1.8.3",
   "language": "julia",
   "name": "julia-1.8"
  },
  "language_info": {
   "file_extension": ".jl",
   "mimetype": "application/julia",
   "name": "julia",
   "version": "1.8.3"
  }
 },
 "nbformat": 4,
 "nbformat_minor": 5
}

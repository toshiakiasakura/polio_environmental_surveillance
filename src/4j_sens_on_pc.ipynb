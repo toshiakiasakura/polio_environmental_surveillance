{
 "cells": [
  {
   "cell_type": "code",
   "execution_count": 11,
   "id": "26b19426",
   "metadata": {},
   "outputs": [
    {
     "data": {
      "text/plain": [
       "run_trans_detection_process"
      ]
     },
     "execution_count": 11,
     "metadata": {},
     "output_type": "execute_result"
    }
   ],
   "source": [
    "include(\"utils.jl\")\n",
    "include(\"geo_ana.jl\")\n",
    "include(\"model_meta_pop.jl\")"
   ]
  },
  {
   "cell_type": "markdown",
   "id": "b0e8fcd3-c78e-4e2f-b400-82d0641c9954",
   "metadata": {},
   "source": [
    "# Run all patterns"
   ]
  },
  {
   "cell_type": "code",
   "execution_count": 12,
   "id": "aeff4b31-968f-489b-a062-ef8226d6b076",
   "metadata": {},
   "outputs": [
    {
     "data": {
      "text/plain": [
       "(n_sim = 10, R0 = 14.0, α = 0.05)"
      ]
     },
     "execution_count": 12,
     "metadata": {},
     "output_type": "execute_result"
    }
   ],
   "source": [
    "base_kwds = (n_sim=10, R0=14.0, α=0.05)"
   ]
  },
  {
   "cell_type": "markdown",
   "id": "d4a5c074-41fe-4a05-8c98-ed6fe20841f8",
   "metadata": {},
   "source": [
    "# Sensitivity analysis for pc "
   ]
  },
  {
   "cell_type": "code",
   "execution_count": 13,
   "id": "3b1c8a9f-9aca-4dd9-8c18-e7a4192e3810",
   "metadata": {},
   "outputs": [
    {
     "name": "stdout",
     "output_type": "stream",
     "text": [
      "Sensitivity analysis for pc ================\n"
     ]
    },
    {
     "name": "stderr",
     "output_type": "stream",
     "text": [
      "\u001b[32mProgress: 100%|█████████████████████████████████████████| Time: 0:00:09\u001b[39m\n",
      "\u001b[32mProgress: 100%|█████████████████████████████████████████| Time: 0:00:03\u001b[39m\n"
     ]
    },
    {
     "name": "stdout",
     "output_type": "stream",
     "text": [
      "../dt_tmp_res/sens_ES_catchment_20240223_161507.jld2\n"
     ]
    },
    {
     "name": "stderr",
     "output_type": "stream",
     "text": [
      "\u001b[32mProgress: 100%|█████████████████████████████████████████| Time: 0:00:23\u001b[39m\n",
      "\u001b[32mProgress: 100%|█████████████████████████████████████████| Time: 0:00:03\u001b[39m\n"
     ]
    },
    {
     "name": "stdout",
     "output_type": "stream",
     "text": [
      "../dt_tmp_res/sens_ES_catchment_20240223_161536.jld2\n"
     ]
    },
    {
     "name": "stderr",
     "output_type": "stream",
     "text": [
      "\u001b[32mProgress: 100%|█████████████████████████████████████████| Time: 0:00:11\u001b[39m\n",
      "\u001b[32mProgress: 100%|█████████████████████████████████████████| Time: 0:00:04\u001b[39m\n"
     ]
    },
    {
     "name": "stdout",
     "output_type": "stream",
     "text": [
      "../dt_tmp_res/sens_ES_catchment_20240223_161552.jld2\n"
     ]
    },
    {
     "name": "stderr",
     "output_type": "stream",
     "text": [
      "\u001b[32mProgress: 100%|█████████████████████████████████████████| Time: 0:00:20\u001b[39m\n",
      "\u001b[32mProgress: 100%|█████████████████████████████████████████| Time: 0:00:03\u001b[39m\n"
     ]
    },
    {
     "name": "stdout",
     "output_type": "stream",
     "text": [
      "../dt_tmp_res/sens_ES_catchment_20240223_161617.jld2\n"
     ]
    },
    {
     "name": "stderr",
     "output_type": "stream",
     "text": [
      "\u001b[32mProgress: 100%|█████████████████████████████████████████| Time: 0:00:03\u001b[39m\n",
      "\u001b[32mProgress: 100%|█████████████████████████████████████████| Time: 0:00:03\u001b[39m\n"
     ]
    },
    {
     "name": "stdout",
     "output_type": "stream",
     "text": [
      "../dt_tmp_res/sens_ES_catchment_20240223_161625.jld2\n"
     ]
    },
    {
     "name": "stderr",
     "output_type": "stream",
     "text": [
      "\u001b[32mProgress: 100%|█████████████████████████████████████████| Time: 0:00:03\u001b[39m\n",
      "\u001b[32mProgress: 100%|█████████████████████████████████████████| Time: 0:00:03\u001b[39m\n"
     ]
    },
    {
     "name": "stdout",
     "output_type": "stream",
     "text": [
      "../dt_tmp_res/sens_ES_catchment_20240223_161633.jld2\n"
     ]
    },
    {
     "name": "stderr",
     "output_type": "stream",
     "text": [
      "\u001b[32mProgress: 100%|█████████████████████████████████████████| Time: 0:00:04\u001b[39m\n",
      "\u001b[32mProgress: 100%|█████████████████████████████████████████| Time: 0:00:04\u001b[39m\n"
     ]
    },
    {
     "name": "stdout",
     "output_type": "stream",
     "text": [
      "../dt_tmp_res/sens_ES_catchment_20240223_161642.jld2\n"
     ]
    },
    {
     "name": "stderr",
     "output_type": "stream",
     "text": [
      "\u001b[32mProgress: 100%|█████████████████████████████████████████| Time: 0:00:04\u001b[39m\n",
      "\u001b[32mProgress: 100%|█████████████████████████████████████████| Time: 0:00:04\u001b[39m\n"
     ]
    },
    {
     "name": "stdout",
     "output_type": "stream",
     "text": [
      "../dt_tmp_res/sens_ES_catchment_20240223_161652.jld2\n"
     ]
    },
    {
     "name": "stderr",
     "output_type": "stream",
     "text": [
      "\u001b[32mProgress: 100%|█████████████████████████████████████████| Time: 0:00:17\u001b[39m\n",
      "\u001b[32mProgress: 100%|█████████████████████████████████████████| Time: 0:00:04\u001b[39m\n"
     ]
    },
    {
     "name": "stdout",
     "output_type": "stream",
     "text": [
      "../dt_tmp_res/sens_ES_catchment_20240223_161715.jld2\n"
     ]
    },
    {
     "name": "stderr",
     "output_type": "stream",
     "text": [
      "\u001b[32mProgress: 100%|█████████████████████████████████████████| Time: 0:00:14\u001b[39m\n",
      "\u001b[32mProgress: 100%|█████████████████████████████████████████| Time: 0:00:04\u001b[39m\n"
     ]
    },
    {
     "name": "stdout",
     "output_type": "stream",
     "text": [
      "../dt_tmp_res/sens_ES_catchment_20240223_161734.jld2\n"
     ]
    },
    {
     "name": "stderr",
     "output_type": "stream",
     "text": [
      "\u001b[32mProgress: 100%|█████████████████████████████████████████| Time: 0:00:28\u001b[39m\n",
      "\u001b[32mProgress: 100%|█████████████████████████████████████████| Time: 0:00:04\u001b[39m\n"
     ]
    },
    {
     "name": "stdout",
     "output_type": "stream",
     "text": [
      "../dt_tmp_res/sens_ES_catchment_20240223_161808.jld2\n"
     ]
    },
    {
     "name": "stderr",
     "output_type": "stream",
     "text": [
      "\u001b[32mProgress: 100%|█████████████████████████████████████████| Time: 0:00:11\u001b[39m\n",
      "\u001b[32mProgress: 100%|█████████████████████████████████████████| Time: 0:00:04\u001b[39m\n"
     ]
    },
    {
     "name": "stdout",
     "output_type": "stream",
     "text": [
      "../dt_tmp_res/sens_ES_catchment_20240223_161824.jld2\n",
      "Any[(R0 = 14.0, α = 0.05, pc = 0.01, n_sim = 10, pattern = \"population_size\", ES_pattern = \"ES_population_size\", path = \"../dt_tmp_res/sens_ES_catchment_20240223_161507.jld2\"), (R0 = 14.0, α = 0.05, pc = 0.05, n_sim = 10, pattern = \"population_size\", ES_pattern = \"ES_population_size\", path = \"../dt_tmp_res/sens_ES_catchment_20240223_161536.jld2\"), (R0 = 14.0, α = 0.05, pc = 0.5, n_sim = 10, pattern = \"population_size\", ES_pattern = \"ES_population_size\", path = \"../dt_tmp_res/sens_ES_catchment_20240223_161552.jld2\"), (R0 = 14.0, α = 0.05, pc = 1.0, n_sim = 10, pattern = \"population_size\", ES_pattern = \"ES_population_size\", path = \"../dt_tmp_res/sens_ES_catchment_20240223_161617.jld2\"), (R0 = 14.0, α = 0.05, pc = 0.01, n_sim = 10, pattern = \"airport\", ES_pattern = \"ES_population_size\", path = \"../dt_tmp_res/sens_ES_catchment_20240223_161625.jld2\"), (R0 = 14.0, α = 0.05, pc = 0.05, n_sim = 10, pattern = \"airport\", ES_pattern = \"ES_population_size\", path = \"../dt_tmp_res/sens_ES_catchment_20240223_161633.jld2\"), (R0 = 14.0, α = 0.05, pc = 0.5, n_sim = 10, pattern = \"airport\", ES_pattern = \"ES_population_size\", path = \"../dt_tmp_res/sens_ES_catchment_20240223_161642.jld2\"), (R0 = 14.0, α = 0.05, pc = 1.0, n_sim = 10, pattern = \"airport\", ES_pattern = \"ES_population_size\", path = \"../dt_tmp_res/sens_ES_catchment_20240223_161652.jld2\"), (R0 = 14.0, α = 0.05, pc = 0.01, n_sim = 10, pattern = \"mozambique\", ES_pattern = \"ES_population_size\", path = \"../dt_tmp_res/sens_ES_catchment_20240223_161715.jld2\"), (R0 = 14.0, α = 0.05, pc = 0.05, n_sim = 10, pattern = \"mozambique\", ES_pattern = \"ES_population_size\", path = \"../dt_tmp_res/sens_ES_catchment_20240223_161734.jld2\"), (R0 = 14.0, α = 0.05, pc = 0.5, n_sim = 10, pattern = \"mozambique\", ES_pattern = \"ES_population_size\", path = \"../dt_tmp_res/sens_ES_catchment_20240223_161808.jld2\"), (R0 = 14.0, α = 0.05, pc = 1.0, n_sim = 10, pattern = \"mozambique\", ES_pattern = \"ES_population_size\", path = \"../dt_tmp_res/sens_ES_catchment_20240223_161824.jld2\")]\n"
     ]
    }
   ],
   "source": [
    "println(\"Sensitivity analysis for pc ================\")\n",
    "ES_pattern = \"ES_population_size\"\n",
    "summary_info = []\n",
    "for pattern in [\"population_size\", \"airport\", \"mozambique\"]\n",
    "    for pc_sens in [0.01, 0.05, 0.50, 1.0]\n",
    "        rec = run_trans_detection_process(;\n",
    "            pc=pc_sens,\n",
    "            pattern=pattern, ES_pattern=ES_pattern,\n",
    "            base_kwds...\n",
    "        )\n",
    "        push!(summary_info, rec)\n",
    "    end\n",
    "end\n",
    "println(summary_info)"
   ]
  },
  {
   "cell_type": "code",
   "execution_count": 17,
   "id": "3dfe9071-5f45-469b-a583-b0d60f98e1c7",
   "metadata": {},
   "outputs": [
    {
     "name": "stdout",
     "output_type": "stream",
     "text": [
      "Sensitivity analysis for pc ================\n"
     ]
    },
    {
     "name": "stderr",
     "output_type": "stream",
     "text": [
      "\u001b[32mProgress: 100%|█████████████████████████████████████████| Time: 0:00:10\u001b[39m\n",
      "\u001b[32mProgress: 100%|█████████████████████████████████████████| Time: 0:00:03\u001b[39m\n"
     ]
    },
    {
     "name": "stdout",
     "output_type": "stream",
     "text": [
      "../dt_tmp_res/sens_ES_catchment_20240223_163907.jld2\n"
     ]
    },
    {
     "name": "stderr",
     "output_type": "stream",
     "text": [
      "\u001b[32mProgress: 100%|█████████████████████████████████████████| Time: 0:00:17\u001b[39m\n",
      "\u001b[32mProgress: 100%|█████████████████████████████████████████| Time: 0:00:03\u001b[39m\n"
     ]
    },
    {
     "name": "stdout",
     "output_type": "stream",
     "text": [
      "../dt_tmp_res/sens_ES_catchment_20240223_163928.jld2\n"
     ]
    },
    {
     "name": "stderr",
     "output_type": "stream",
     "text": [
      "\u001b[32mProgress: 100%|█████████████████████████████████████████| Time: 0:00:16\u001b[39m\n",
      "\u001b[32mProgress: 100%|█████████████████████████████████████████| Time: 0:00:03\u001b[39m\n"
     ]
    },
    {
     "name": "stdout",
     "output_type": "stream",
     "text": [
      "../dt_tmp_res/sens_ES_catchment_20240223_163949.jld2\n"
     ]
    },
    {
     "name": "stderr",
     "output_type": "stream",
     "text": [
      "\u001b[32mProgress: 100%|█████████████████████████████████████████| Time: 0:00:10\u001b[39m\n",
      "\u001b[32mProgress: 100%|█████████████████████████████████████████| Time: 0:00:03\u001b[39m\n"
     ]
    },
    {
     "name": "stdout",
     "output_type": "stream",
     "text": [
      "../dt_tmp_res/sens_ES_catchment_20240223_164004.jld2\n"
     ]
    },
    {
     "name": "stderr",
     "output_type": "stream",
     "text": [
      "\u001b[32mProgress: 100%|█████████████████████████████████████████| Time: 0:00:02\u001b[39m\n",
      "\u001b[32mProgress: 100%|█████████████████████████████████████████| Time: 0:00:04\u001b[39m\n"
     ]
    },
    {
     "name": "stdout",
     "output_type": "stream",
     "text": [
      "../dt_tmp_res/sens_ES_catchment_20240223_164011.jld2\n"
     ]
    },
    {
     "name": "stderr",
     "output_type": "stream",
     "text": [
      "\u001b[32mProgress: 100%|█████████████████████████████████████████| Time: 0:00:02\u001b[39m\n",
      "\u001b[32mProgress: 100%|█████████████████████████████████████████| Time: 0:00:04\u001b[39m\n"
     ]
    },
    {
     "name": "stdout",
     "output_type": "stream",
     "text": [
      "../dt_tmp_res/sens_ES_catchment_20240223_164019.jld2\n"
     ]
    },
    {
     "name": "stderr",
     "output_type": "stream",
     "text": [
      "\u001b[32mProgress: 100%|█████████████████████████████████████████| Time: 0:00:03\u001b[39m\n",
      "\u001b[32mProgress: 100%|█████████████████████████████████████████| Time: 0:00:04\u001b[39m\n"
     ]
    },
    {
     "name": "stdout",
     "output_type": "stream",
     "text": [
      "../dt_tmp_res/sens_ES_catchment_20240223_164027.jld2\n"
     ]
    },
    {
     "name": "stderr",
     "output_type": "stream",
     "text": [
      "\u001b[32mProgress: 100%|█████████████████████████████████████████| Time: 0:00:02\u001b[39m\n",
      "\u001b[32mProgress: 100%|█████████████████████████████████████████| Time: 0:00:04\u001b[39m\n"
     ]
    },
    {
     "name": "stdout",
     "output_type": "stream",
     "text": [
      "../dt_tmp_res/sens_ES_catchment_20240223_164036.jld2\n"
     ]
    },
    {
     "name": "stderr",
     "output_type": "stream",
     "text": [
      "\u001b[32mProgress: 100%|█████████████████████████████████████████| Time: 0:00:27\u001b[39m\n",
      "\u001b[32mProgress: 100%|█████████████████████████████████████████| Time: 0:00:03\u001b[39m\n"
     ]
    },
    {
     "name": "stdout",
     "output_type": "stream",
     "text": [
      "../dt_tmp_res/sens_ES_catchment_20240223_164108.jld2\n"
     ]
    },
    {
     "name": "stderr",
     "output_type": "stream",
     "text": [
      "\u001b[32mProgress: 100%|█████████████████████████████████████████| Time: 0:00:10\u001b[39m\n",
      "\u001b[32mProgress: 100%|█████████████████████████████████████████| Time: 0:00:04\u001b[39m\n"
     ]
    },
    {
     "name": "stdout",
     "output_type": "stream",
     "text": [
      "../dt_tmp_res/sens_ES_catchment_20240223_164123.jld2\n"
     ]
    },
    {
     "name": "stderr",
     "output_type": "stream",
     "text": [
      "\u001b[32mProgress: 100%|█████████████████████████████████████████| Time: 0:00:34\u001b[39m\n",
      "\u001b[32mProgress: 100%|█████████████████████████████████████████| Time: 0:00:03\u001b[39m\n"
     ]
    },
    {
     "name": "stdout",
     "output_type": "stream",
     "text": [
      "../dt_tmp_res/sens_ES_catchment_20240223_164202.jld2\n"
     ]
    },
    {
     "name": "stderr",
     "output_type": "stream",
     "text": [
      "\u001b[32mProgress: 100%|█████████████████████████████████████████| Time: 0:00:21\u001b[39m\n",
      "\u001b[32mProgress: 100%|█████████████████████████████████████████| Time: 0:00:03\u001b[39m\n"
     ]
    },
    {
     "name": "stdout",
     "output_type": "stream",
     "text": [
      "../dt_tmp_res/sens_ES_catchment_20240223_164228.jld2\n",
      "Any[(R0 = 14.0, α = 0.05, pc = 0.01, n_sim = 10, pattern = \"population_size\", ES_pattern = \"ES_mozambique_imp_risk\", path = \"../dt_tmp_res/sens_ES_catchment_20240223_163907.jld2\"), (R0 = 14.0, α = 0.05, pc = 0.05, n_sim = 10, pattern = \"population_size\", ES_pattern = \"ES_mozambique_imp_risk\", path = \"../dt_tmp_res/sens_ES_catchment_20240223_163928.jld2\"), (R0 = 14.0, α = 0.05, pc = 0.5, n_sim = 10, pattern = \"population_size\", ES_pattern = \"ES_mozambique_imp_risk\", path = \"../dt_tmp_res/sens_ES_catchment_20240223_163949.jld2\"), (R0 = 14.0, α = 0.05, pc = 1.0, n_sim = 10, pattern = \"population_size\", ES_pattern = \"ES_mozambique_imp_risk\", path = \"../dt_tmp_res/sens_ES_catchment_20240223_164004.jld2\"), (R0 = 14.0, α = 0.05, pc = 0.01, n_sim = 10, pattern = \"airport\", ES_pattern = \"ES_mozambique_imp_risk\", path = \"../dt_tmp_res/sens_ES_catchment_20240223_164011.jld2\"), (R0 = 14.0, α = 0.05, pc = 0.05, n_sim = 10, pattern = \"airport\", ES_pattern = \"ES_mozambique_imp_risk\", path = \"../dt_tmp_res/sens_ES_catchment_20240223_164019.jld2\"), (R0 = 14.0, α = 0.05, pc = 0.5, n_sim = 10, pattern = \"airport\", ES_pattern = \"ES_mozambique_imp_risk\", path = \"../dt_tmp_res/sens_ES_catchment_20240223_164027.jld2\"), (R0 = 14.0, α = 0.05, pc = 1.0, n_sim = 10, pattern = \"airport\", ES_pattern = \"ES_mozambique_imp_risk\", path = \"../dt_tmp_res/sens_ES_catchment_20240223_164036.jld2\"), (R0 = 14.0, α = 0.05, pc = 0.01, n_sim = 10, pattern = \"mozambique\", ES_pattern = \"ES_mozambique_imp_risk\", path = \"../dt_tmp_res/sens_ES_catchment_20240223_164108.jld2\"), (R0 = 14.0, α = 0.05, pc = 0.05, n_sim = 10, pattern = \"mozambique\", ES_pattern = \"ES_mozambique_imp_risk\", path = \"../dt_tmp_res/sens_ES_catchment_20240223_164123.jld2\"), (R0 = 14.0, α = 0.05, pc = 0.5, n_sim = 10, pattern = \"mozambique\", ES_pattern = \"ES_mozambique_imp_risk\", path = \"../dt_tmp_res/sens_ES_catchment_20240223_164202.jld2\"), (R0 = 14.0, α = 0.05, pc = 1.0, n_sim = 10, pattern = \"mozambique\", ES_pattern = \"ES_mozambique_imp_risk\", path = \"../dt_tmp_res/sens_ES_catchment_20240223_164228.jld2\")]\n"
     ]
    }
   ],
   "source": [
    "println(\"Sensitivity analysis for pc ================\")\n",
    "ES_pattern = \"ES_mozambique_imp_risk\"\n",
    "summary_info = []\n",
    "for pattern in [\"population_size\", \"airport\", \"mozambique\"]\n",
    "    for pc_sens in [0.01, 0.05, 0.50, 1.0]\n",
    "        rec = run_trans_detection_process(;\n",
    "            pc=pc_sens,\n",
    "            pattern=pattern, ES_pattern=ES_pattern,\n",
    "            base_kwds...\n",
    "        )\n",
    "        push!(summary_info, rec)\n",
    "    end\n",
    "end\n",
    "println(summary_info)"
   ]
  },
  {
   "cell_type": "code",
   "execution_count": null,
   "id": "bfbce74f-b477-4a91-9c14-e9292046efa6",
   "metadata": {},
   "outputs": [],
   "source": []
  },
  {
   "cell_type": "code",
   "execution_count": null,
   "id": "3a07818f-8c51-4642-884a-50f9e5738bc6",
   "metadata": {},
   "outputs": [],
   "source": []
  }
 ],
 "metadata": {
  "jupytext": {
   "encoding": "# -*- coding: utf-8 -*-"
  },
  "kernelspec": {
   "display_name": "Julia 1.8.3",
   "language": "julia",
   "name": "julia-1.8"
  },
  "language_info": {
   "file_extension": ".jl",
   "mimetype": "application/julia",
   "name": "julia",
   "version": "1.8.3"
  }
 },
 "nbformat": 4,
 "nbformat_minor": 5
}

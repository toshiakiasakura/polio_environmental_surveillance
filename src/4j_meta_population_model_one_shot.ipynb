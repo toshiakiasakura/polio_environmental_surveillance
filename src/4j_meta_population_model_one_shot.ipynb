{
 "cells": [
  {
   "cell_type": "code",
   "execution_count": 2,
   "id": "97f7c3e3-714f-43ba-8363-c442021f7b5c",
   "metadata": {},
   "outputs": [
    {
     "name": "stderr",
     "output_type": "stream",
     "text": [
      "\u001b[32m\u001b[1m    Updating\u001b[22m\u001b[39m registry at `/opt/julia/registries/General.toml`\n",
      "\u001b[32m\u001b[1m   Installed\u001b[22m\u001b[39m RegistryInstances ─────── v0.1.0\n",
      "\u001b[32m\u001b[1m   Installed\u001b[22m\u001b[39m Debugger ──────────────── v0.7.8\n",
      "\u001b[32m\u001b[1m   Installed\u001b[22m\u001b[39m EpollShim_jll ─────────── v0.0.20230411+0\n",
      "\u001b[32m\u001b[1m   Installed\u001b[22m\u001b[39m CodeTracking ──────────── v1.3.1\n",
      "\u001b[32m\u001b[1m   Installed\u001b[22m\u001b[39m Highlights ────────────── v0.5.2\n",
      "\u001b[32m\u001b[1m   Installed\u001b[22m\u001b[39m xkbcommon_jll ─────────── v1.4.1+1\n",
      "\u001b[32m\u001b[1m   Installed\u001b[22m\u001b[39m GMT_jll ───────────────── v6.4.2+1\n",
      "\u001b[32m\u001b[1m   Installed\u001b[22m\u001b[39m SpecialFunctions ──────── v2.3.1\n",
      "\u001b[32m\u001b[1m   Installed\u001b[22m\u001b[39m libpng_jll ────────────── v1.6.38+1\n",
      "\u001b[32m\u001b[1m   Installed\u001b[22m\u001b[39m ANSIColoredPrinters ───── v0.0.1\n",
      "\u001b[32m\u001b[1m   Installed\u001b[22m\u001b[39m JuliaInterpreter ──────── v0.9.23\n",
      "\u001b[32m\u001b[1m   Installed\u001b[22m\u001b[39m IOCapture ─────────────── v0.2.3\n",
      "\u001b[32m\u001b[1m   Installed\u001b[22m\u001b[39m Wayland_jll ───────────── v1.21.0+1\n",
      "\u001b[32m\u001b[1m   Installed\u001b[22m\u001b[39m MarkdownAST ───────────── v0.1.2\n",
      "\u001b[32m\u001b[1m   Installed\u001b[22m\u001b[39m LazilyInitializedFields ─ v1.2.1\n",
      "\u001b[32m\u001b[1m   Installed\u001b[22m\u001b[39m Documenter ────────────── v1.1.2\n",
      "\u001b[32m\u001b[1mPrecompiling\u001b[22m\u001b[39m project...\n",
      "\u001b[32m  ✓ \u001b[39m\u001b[90mIOCapture\u001b[39m\n",
      "\u001b[32m  ✓ \u001b[39m\u001b[90mLazilyInitializedFields\u001b[39m\n",
      "\u001b[32m  ✓ \u001b[39m\u001b[90mANSIColoredPrinters\u001b[39m\n",
      "\u001b[32m  ✓ \u001b[39mEpollShim_jll\n",
      "\u001b[32m  ✓ \u001b[39m\u001b[90mlibpng_jll\u001b[39m\n",
      "\u001b[32m  ✓ \u001b[39m\u001b[90mCodeTracking\u001b[39m\n",
      "\u001b[32m  ✓ \u001b[39m\u001b[90mMarkdownAST\u001b[39m\n",
      "\u001b[32m  ✓ \u001b[39m\u001b[90mRegistryInstances\u001b[39m\n",
      "\u001b[32m  ✓ \u001b[39m\u001b[90mWayland_jll\u001b[39m\n",
      "\u001b[32m  ✓ \u001b[39m\u001b[90mOpenJpeg_jll\u001b[39m\n",
      "\u001b[32m  ✓ \u001b[39m\u001b[90mCairo_jll\u001b[39m\n",
      "\u001b[32m  ✓ \u001b[39m\u001b[90mxkbcommon_jll\u001b[39m\n",
      "\u001b[32m  ✓ \u001b[39m\u001b[90mHarfBuzz_jll\u001b[39m\n",
      "\u001b[32m  ✓ \u001b[39m\u001b[90mGDAL_jll\u001b[39m\n",
      "\u001b[32m  ✓ \u001b[39m\u001b[90mlibass_jll\u001b[39m\n",
      "\u001b[32m  ✓ \u001b[39m\u001b[90mQt5Base_jll\u001b[39m\n",
      "\u001b[32m  ✓ \u001b[39m\u001b[90mFFMPEG_jll\u001b[39m\n",
      "\u001b[32m  ✓ \u001b[39m\u001b[90mFFMPEG\u001b[39m\n",
      "\u001b[32m  ✓ \u001b[39m\u001b[90mGMT_jll\u001b[39m\n",
      "\u001b[32m  ✓ \u001b[39m\u001b[90mHighlights\u001b[39m\n",
      "\u001b[32m  ✓ \u001b[39m\u001b[90mGR_jll\u001b[39m\n",
      "\u001b[32m  ✓ \u001b[39mSpecialFunctions\n",
      "\u001b[32m  ✓ \u001b[39m\u001b[90mDiffRules\u001b[39m\n",
      "\u001b[32m  ✓ \u001b[39m\u001b[90mDualNumbers\u001b[39m\n",
      "\u001b[32m  ✓ \u001b[39mJuliaInterpreter\n",
      "\u001b[32m  ✓ \u001b[39m\u001b[90mGDAL\u001b[39m\n",
      "\u001b[32m  ✓ \u001b[39m\u001b[90mHypergeometricFunctions\u001b[39m\n",
      "\u001b[32m  ✓ \u001b[39m\u001b[90mColorVectorSpace\u001b[39m\n",
      "\u001b[32m  ✓ \u001b[39mDebugger\n",
      "\u001b[32m  ✓ \u001b[39m\u001b[90mGR\u001b[39m\n",
      "\u001b[32m  ✓ \u001b[39m\u001b[90mStatsFuns\u001b[39m\n",
      "\u001b[32m  ✓ \u001b[39m\u001b[90mForwardDiff\u001b[39m\n",
      "\u001b[32m  ✓ \u001b[39m\u001b[90mNLSolversBase\u001b[39m\n",
      "\u001b[32m  ✓ \u001b[39m\u001b[90mAdvancedHMC\u001b[39m\n",
      "\u001b[32m  ✓ \u001b[39mColorSchemes\n",
      "\u001b[32m  ✓ \u001b[39m\u001b[90mLineSearches\u001b[39m\n",
      "\u001b[32m  ✓ \u001b[39m\u001b[90mTracker\u001b[39m\n",
      "\u001b[32m  ✓ \u001b[39mDistributions\n",
      "\u001b[32m  ✓ \u001b[39mDocumenter\n",
      "\u001b[32m  ✓ \u001b[39m\u001b[90mMCMCDiagnosticTools\u001b[39m\n",
      "\u001b[32m  ✓ \u001b[39mOptim\n",
      "\u001b[32m  ✓ \u001b[39m\u001b[90mEllipticalSliceSampling\u001b[39m\n",
      "\u001b[32m  ✓ \u001b[39m\u001b[90mAdvancedMH\u001b[39m\n",
      "\u001b[32m  ✓ \u001b[39m\u001b[90mAdvancedPS\u001b[39m\n",
      "\u001b[32m  ✓ \u001b[39m\u001b[90mKernelDensity\u001b[39m\n",
      "\u001b[32m  ✓ \u001b[39m\u001b[90mBijectors\u001b[39m\n",
      "\u001b[32m  ✓ \u001b[39m\u001b[90mDistributionsAD\u001b[39m\n",
      "\u001b[32m  ✓ \u001b[39m\u001b[90mPlotUtils\u001b[39m\n",
      "\u001b[32m  ✓ \u001b[39m\u001b[90mAdvancedVI\u001b[39m\n",
      "\u001b[32m  ✓ \u001b[39m\u001b[90mRecipesPipeline\u001b[39m\n",
      "\u001b[32m  ✓ \u001b[39m\u001b[90mPlotThemes\u001b[39m\n",
      "\u001b[32m  ✓ \u001b[39m\u001b[90mMCMCChains\u001b[39m\n",
      "\u001b[32m  ✓ \u001b[39m\u001b[90mDynamicPPL\u001b[39m\n",
      "\u001b[32m  ✓ \u001b[39m\u001b[90mImageCore\u001b[39m\n",
      "\u001b[32m  ✓ \u001b[39mArchGDAL\n",
      "\u001b[32m  ✓ \u001b[39mTuring\n",
      "\u001b[32m  ✓ \u001b[39mGeoDataFrames\n",
      "\u001b[32m  ✓ \u001b[39mPlots\n",
      "\u001b[32m  ✓ \u001b[39mGMT\n",
      "\u001b[32m  ✓ \u001b[39mStatsPlots\n",
      "  60 dependencies successfully precompiled in 81 seconds. 287 already precompiled.\n"
     ]
    }
   ],
   "source": [
    "using Pkg\n",
    "Pkg.instantiate()"
   ]
  },
  {
   "cell_type": "code",
   "execution_count": 3,
   "id": "26b19426",
   "metadata": {},
   "outputs": [
    {
     "data": {
      "text/plain": [
       "validate_meta_population_model"
      ]
     },
     "execution_count": 3,
     "metadata": {},
     "output_type": "execute_result"
    }
   ],
   "source": [
    "using ArchGDAL\n",
    "using FreqTables\n",
    "using LinearAlgebra\n",
    "using DataFrames\n",
    "using Dates\n",
    "using Pipe\n",
    "using Plots\n",
    "using Rasters\n",
    "using Serialization\n",
    "using SparseArrays\n",
    "\n",
    "include(\"util.jl\")\n",
    "include(\"geo_ana.jl\")\n",
    "include(\"model_meta_pop.jl\")\n",
    "include(\"main_model_meta_pop.jl\")"
   ]
  },
  {
   "cell_type": "code",
   "execution_count": 2,
   "id": "60aa701e",
   "metadata": {},
   "outputs": [
    {
     "data": {
      "text/plain": [
       "\"../dt_tmp/spatial_params_agg230.ser\""
      ]
     },
     "execution_count": 2,
     "metadata": {},
     "output_type": "execute_result"
    }
   ],
   "source": [
    "path_spatial = \"../dt_tmp/spatial_params_agg230.ser\""
   ]
  },
  {
   "cell_type": "markdown",
   "id": "ae088f93",
   "metadata": {},
   "source": [
    "## International airport location, index "
   ]
  },
  {
   "cell_type": "code",
   "execution_count": 5,
   "id": "465838cb",
   "metadata": {},
   "outputs": [
    {
     "name": "stdout",
     "output_type": "stream",
     "text": [
      "argmin(dist): 11, dist: 9.631110668981826\n",
      "argmin(dist): 7, dist: 5.508420257007044\n",
      "argmin(dist): 62, dist: 8.80101225388816\n"
     ]
    }
   ],
   "source": [
    "sp_pars = deserialize(path_spatial)\n",
    "df = sp_pars.df\n",
    "# Tambo International\n",
    "lat = -26.12825796201514\n",
    "lon = 28.242074092511\n",
    "dist = harversine_dist.(lat, lon, df[:, :lat], df[:, :lon]) \n",
    "println(\"argmin(dist): $(argmin(dist)), dist: $(dist[argmin(dist)])\")\n",
    "\n",
    "# Cape Town \n",
    "lat =  -33.970502228847884\n",
    "lon = 18.600228711334545\n",
    "dist = harversine_dist.(lat, lon, df[:, :lat], df[:, :lon]) \n",
    "println(\"argmin(dist): $(argmin(dist)), dist: $(dist[argmin(dist)])\")\n",
    "\n",
    "# King Shaka \n",
    "lat =  -29.608764960536764\n",
    "lon = 31.115368797913593\n",
    "dist = harversine_dist.(lat, lon, df[:, :lat], df[:, :lon]) \n",
    "println(\"argmin(dist): $(argmin(dist)), dist: $(dist[argmin(dist)])\")\n",
    "\n"
   ]
  },
  {
   "cell_type": "markdown",
   "id": "cb310219",
   "metadata": {},
   "source": [
    "# Transmission model "
   ]
  },
  {
   "cell_type": "code",
   "execution_count": 6,
   "id": "50501640",
   "metadata": {},
   "outputs": [
    {
     "data": {
      "text/plain": [
       "10000"
      ]
     },
     "execution_count": 6,
     "metadata": {},
     "output_type": "execute_result"
    }
   ],
   "source": [
    "n_sim = 10_000"
   ]
  },
  {
   "cell_type": "code",
   "execution_count": 7,
   "id": "f8c90dd1",
   "metadata": {},
   "outputs": [
    {
     "data": {
      "text/plain": [
       "\"population_size\""
      ]
     },
     "execution_count": 7,
     "metadata": {},
     "output_type": "execute_result"
    }
   ],
   "source": [
    "R0 = 14.0\n",
    "α = 0.05\n",
    "pc = 0.25\n",
    "pattern = \"population_size\""
   ]
  },
  {
   "cell_type": "code",
   "execution_count": 8,
   "id": "f378a1ba",
   "metadata": {},
   "outputs": [],
   "source": [
    "imp_ws_moz = CSV.read(\"../data/imp_ws_moz.csv\", DataFrame, header=false)[:,1]\n",
    "imp_ws_airport = CSV.read(\"../data/imp_ws_airport.csv\", DataFrame, header=false)[:,1]\n",
    "nothing"
   ]
  },
  {
   "cell_type": "code",
   "execution_count": 9,
   "id": "9a90f26f",
   "metadata": {},
   "outputs": [
    {
     "data": {
      "text/plain": [
       "validate_meta_population_model"
      ]
     },
     "execution_count": 9,
     "metadata": {},
     "output_type": "execute_result"
    }
   ],
   "source": [
    "include(\"model_meta_pop.jl\")\n",
    "include(\"main_model_meta_pop.jl\")"
   ]
  },
  {
   "cell_type": "code",
   "execution_count": 10,
   "id": "cec2e5a2",
   "metadata": {},
   "outputs": [
    {
     "data": {
      "text/plain": [
       "run_all_patterns (generic function with 1 method)"
      ]
     },
     "execution_count": 10,
     "metadata": {},
     "output_type": "execute_result"
    }
   ],
   "source": [
    "function post_processing(path_trans, path_spatial, pc)\n",
    "    par_AFP, par_ES = set_par_AFP_ES(path_spatial_params=path_spatial, pc=pc)\n",
    "    path_save = sensitivity_all_summary(par_AFP, par_ES; path_trans=path_trans)\n",
    "    #validate_meta_population_model(path_trans, path_spatial)\n",
    "    remove_all_leaving_one(path_trans)\n",
    "    return path_save\n",
    "end\n",
    "\n",
    "function run_all_patterns(;\n",
    "        R0=1.0, α=0.05, pc=1.0, \n",
    "        imp_ws_moz=[1.0], imp_ws_airport=[1.0],\n",
    "        n_sim=100,\n",
    "        path_spatial=\"\"\n",
    "    )\n",
    "    summary_info = []\n",
    "    for pattern in [\"population_size\", \"airport\", \"mozambique\"]\n",
    "        imp_ws = pattern==\"airport\" ? imp_ws_airport : imp_ws_moz\n",
    "        path_trans = run_transmission_model(;\n",
    "            R0=R0, α=α, pc=pc, imp_ws=imp_ws,\n",
    "            n_sim=n_sim,\n",
    "            path_spatial_params=path_spatial, \n",
    "            pattern=pattern\n",
    "        )\n",
    "        path_save = post_processing(path_trans, path_spatial, pc)\n",
    "        rec = \"R0=$(R0), α=$(α), pc=$(pc), n_sim=$(n_sim), pattern=$(pattern), path: $(path_save)\"\n",
    "        push!(summary_info, rec)\n",
    "    end\n",
    "    println(summary_info)\n",
    "end"
   ]
  },
  {
   "cell_type": "markdown",
   "id": "048fd76d-fcfa-4f6a-9f7a-f0441097cfd0",
   "metadata": {},
   "source": [
    "# Main results "
   ]
  },
  {
   "cell_type": "code",
   "execution_count": 11,
   "id": "0e7da71c",
   "metadata": {},
   "outputs": [
    {
     "name": "stdout",
     "output_type": "stream",
     "text": [
      "Main results==========================\n",
      "# of sites: 1517\n",
      "SEIRMetaModelParams\n",
      "  R0: Float64 14.0\n",
      "  γ1: Float64 0.25\n",
      "  γ2: Float64 0.06657789613848203\n",
      "  σ: Float64 0.3291\n",
      "  P_AFP: Float64 0.005\n",
      "  N_tot: Array{Int64}((1517,)) [176661, 132438, 110952, 102279, 96377, 93257, 81002, 79789, 74368, 71796  …  103, 102, 102, 102, 102, 102, 102, 101, 101, 101]\n",
      "  N_unvac: Array{Int64}((1517,)) [9009, 7004, 10801, 6729, 6341, 22933, 4284, 4219, 4893, 3975  …  4, 7, 7, 19, 19, 12, 12, 6, 7, 4]\n",
      "  I0_init: Int64 1\n",
      "  I0_ind: Int64 1\n",
      "  days: Int64 1095\n",
      "  n_site: Int64 1517\n",
      "  α: Float64 0.05\n",
      "  π_mat: Array{Float64}((1517, 1517)) [0.0 0.0008134913063202908 … 6.780709468953783e-7 4.898477234903362e-6; 0.0034150940977343493 0.0 … 4.753101976878339e-5 4.686095869451221e-6; … ; 1.9892426060623706e-6 0.00011196468975607586 … 0.0 3.3899886725864443e-9; 2.770651210640693e-5 4.626887381318493e-7 … 3.88258866975442e-10 0.0]\n",
      "  μ: Float64 0.000547945205479452\n",
      "  β: Float64 0.9320905459387484\n",
      "  pc: Float64 0.25\n",
      "  imp_ws: Array{Float64}((1517,)) [0.008118865248098144, 0.001308311070857317, 0.005016205811157911, 0.008839855469100674, 0.005715370978607966, 0.005693415280599853, 0.0007746729109454481, 0.0007595878068455701, 0.0048183426616435964, 0.004246523050887251  …  7.087670356928607e-6, 1.0943681387494426e-6, 2.56766706596476e-6, 3.1766535491673982e-6, 3.3599332727479223e-6, 7.378636815646887e-5, 0.00044050249091806385, 1.0646982894584665e-6, 1.1425490077361494e-6, 3.337992838541401e-6]\n",
      "Average vaccination coverage: 0.91933835\n",
      "../dt_tmp/20231216_165108\n"
     ]
    },
    {
     "name": "stderr",
     "output_type": "stream",
     "text": [
      "\u001b[32mProgress: 100%|█████████████████████████████████████████| Time: 3:40:18\u001b[39mm\n"
     ]
    },
    {
     "name": "stdout",
     "output_type": "stream",
     "text": [
      "13218.794741 seconds (114.96 M allocations: 32.793 TiB, 1.71% gc time, 0.00% compilation time)\n",
      "Cum index:34\n",
      "Actual ES coverage: 34.42009\n",
      "AFPSurParams\n",
      "  P_test: Float64 0.97\n",
      "  P_sample: Float64 0.53\n",
      "  P_H: Float64 0.9\n",
      "ESParams\n",
      "  g: Float64 0.23025850929940458\n",
      "  P_test: Float64 0.97\n",
      "  area: Array{Bool}((1517,)) Bool[1, 1, 1, 1, 1, 1, 1, 1, 1, 1  …  0, 0, 0, 0, 0, 0, 0, 0, 0, 0]\n",
      "  n_freq: Int64 30\n"
     ]
    },
    {
     "name": "stderr",
     "output_type": "stream",
     "text": [
      "\u001b[32mProgress: 100%|█████████████████████████████████████████| Time: 0:33:10\u001b[39m\n"
     ]
    },
    {
     "name": "stdout",
     "output_type": "stream",
     "text": [
      "../dt_tmp_res/20231216_210437.ser\n",
      "# of sites: 1517\n",
      "SEIRMetaModelParams\n",
      "  R0: Float64 14.0\n",
      "  γ1: Float64 0.25\n",
      "  γ2: Float64 0.06657789613848203\n",
      "  σ: Float64 0.3291\n",
      "  P_AFP: Float64 0.005\n",
      "  N_tot: Array{Int64}((1517,)) [176661, 132438, 110952, 102279, 96377, 93257, 81002, 79789, 74368, 71796  …  103, 102, 102, 102, 102, 102, 102, 101, 101, 101]\n",
      "  N_unvac: Array{Int64}((1517,)) [9009, 7004, 10801, 6729, 6341, 22933, 4284, 4219, 4893, 3975  …  4, 7, 7, 19, 19, 12, 12, 6, 7, 4]\n",
      "  I0_init: Int64 1\n",
      "  I0_ind: Int64 1\n",
      "  days: Int64 1095\n",
      "  n_site: Int64 1517\n",
      "  α: Float64 0.05\n",
      "  π_mat: Array{Float64}((1517, 1517)) [0.0 0.0008134913063202908 … 6.780709468953783e-7 4.898477234903362e-6; 0.0034150940977343493 0.0 … 4.753101976878339e-5 4.686095869451221e-6; … ; 1.9892426060623706e-6 0.00011196468975607586 … 0.0 3.3899886725864443e-9; 2.770651210640693e-5 4.626887381318493e-7 … 3.88258866975442e-10 0.0]\n",
      "  μ: Float64 0.000547945205479452\n",
      "  β: Float64 0.9320905459387484\n",
      "  pc: Float64 0.25\n",
      "  imp_ws: Array{Float64}((1517,)) [0.030825322306693336, 0.062366029789115235, 0.0025559812560510113, 0.09269268964594678, 0.244487027394833, 0.030911695613152285, 0.03620987406242972, 0.01390388465628853, 0.020654763061548172, 0.002882118301306632  …  2.3549136646666184e-6, 7.480190842367117e-6, 1.5591655598726787e-6, 2.5469574916550207e-6, 2.4097252433886502e-6, 1.619492499909757e-6, 7.859165399764823e-7, 6.916381959261366e-6, 6.6426201245801704e-6, 2.255189133636181e-6]\n",
      "Average vaccination coverage: 0.91933835\n",
      "../dt_tmp/20231216_210541\n"
     ]
    },
    {
     "name": "stderr",
     "output_type": "stream",
     "text": [
      "\u001b[32mProgress: 100%|█████████████████████████████████████████| Time: 1:44:46\u001b[39m\n"
     ]
    },
    {
     "name": "stdout",
     "output_type": "stream",
     "text": [
      "6218.107673 seconds (67.07 M allocations: 15.934 TiB, 0.88% gc time)\n",
      "Cum index:34\n",
      "Actual ES coverage: 34.42009\n",
      "AFPSurParams\n",
      "  P_test: Float64 0.97\n",
      "  P_sample: Float64 0.53\n",
      "  P_H: Float64 0.9\n",
      "ESParams\n",
      "  g: Float64 0.23025850929940458\n",
      "  P_test: Float64 0.97\n",
      "  area: Array{Bool}((1517,)) Bool[1, 1, 1, 1, 1, 1, 1, 1, 1, 1  …  0, 0, 0, 0, 0, 0, 0, 0, 0, 0]\n",
      "  n_freq: Int64 30\n"
     ]
    },
    {
     "name": "stderr",
     "output_type": "stream",
     "text": [
      "\u001b[32mProgress: 100%|█████████████████████████████████████████| Time: 0:32:00\u001b[39m\n"
     ]
    },
    {
     "name": "stdout",
     "output_type": "stream",
     "text": [
      "../dt_tmp_res/20231216_232227.ser\n",
      "# of sites: 1517\n",
      "SEIRMetaModelParams\n",
      "  R0: Float64 14.0\n",
      "  γ1: Float64 0.25\n",
      "  γ2: Float64 0.06657789613848203\n",
      "  σ: Float64 0.3291\n",
      "  P_AFP: Float64 0.005\n",
      "  N_tot: Array{Int64}((1517,)) [176661, 132438, 110952, 102279, 96377, 93257, 81002, 79789, 74368, 71796  …  103, 102, 102, 102, 102, 102, 102, 101, 101, 101]\n",
      "  N_unvac: Array{Int64}((1517,)) [9009, 7004, 10801, 6729, 6341, 22933, 4284, 4219, 4893, 3975  …  4, 7, 7, 19, 19, 12, 12, 6, 7, 4]\n",
      "  I0_init: Int64 1\n",
      "  I0_ind: Int64 1\n",
      "  days: Int64 1095\n",
      "  n_site: Int64 1517\n",
      "  α: Float64 0.05\n",
      "  π_mat: Array{Float64}((1517, 1517)) [0.0 0.0008134913063202908 … 6.780709468953783e-7 4.898477234903362e-6; 0.0034150940977343493 0.0 … 4.753101976878339e-5 4.686095869451221e-6; … ; 1.9892426060623706e-6 0.00011196468975607586 … 0.0 3.3899886725864443e-9; 2.770651210640693e-5 4.626887381318493e-7 … 3.88258866975442e-10 0.0]\n",
      "  μ: Float64 0.000547945205479452\n",
      "  β: Float64 0.9320905459387484\n",
      "  pc: Float64 0.25\n",
      "  imp_ws: Array{Float64}((1517,)) [0.008118865248098144, 0.001308311070857317, 0.005016205811157911, 0.008839855469100674, 0.005715370978607966, 0.005693415280599853, 0.0007746729109454481, 0.0007595878068455701, 0.0048183426616435964, 0.004246523050887251  …  7.087670356928607e-6, 1.0943681387494426e-6, 2.56766706596476e-6, 3.1766535491673982e-6, 3.3599332727479223e-6, 7.378636815646887e-5, 0.00044050249091806385, 1.0646982894584665e-6, 1.1425490077361494e-6, 3.337992838541401e-6]\n",
      "Average vaccination coverage: 0.91933835\n",
      "../dt_tmp/20231216_232322\n"
     ]
    },
    {
     "name": "stderr",
     "output_type": "stream",
     "text": [
      "\u001b[32mProgress: 100%|█████████████████████████████████████████| Time: 4:24:46\u001b[39m\n"
     ]
    },
    {
     "name": "stdout",
     "output_type": "stream",
     "text": [
      "15886.381798 seconds (170.79 M allocations: 53.262 TiB, 0.56% gc time)\n",
      "Cum index:34\n",
      "Actual ES coverage: 34.42009\n",
      "AFPSurParams\n",
      "  P_test: Float64 0.97\n",
      "  P_sample: Float64 0.53\n",
      "  P_H: Float64 0.9\n",
      "ESParams\n",
      "  g: Float64 0.23025850929940458\n",
      "  P_test: Float64 0.97\n",
      "  area: Array{Bool}((1517,)) Bool[1, 1, 1, 1, 1, 1, 1, 1, 1, 1  …  0, 0, 0, 0, 0, 0, 0, 0, 0, 0]\n",
      "  n_freq: Int64 30\n"
     ]
    },
    {
     "name": "stderr",
     "output_type": "stream",
     "text": [
      "\u001b[32mProgress: 100%|█████████████████████████████████████████| Time: 0:31:17\u001b[39m\n"
     ]
    },
    {
     "name": "stdout",
     "output_type": "stream",
     "text": [
      "../dt_tmp_res/20231217_041926.ser\n",
      "Any[\"R0=14.0, α=0.05, pc=0.25, n_sim=10000, pattern=population_size, path: ../dt_tmp_res/20231216_210437.ser\", \"R0=14.0, α=0.05, pc=0.25, n_sim=10000, pattern=airport, path: ../dt_tmp_res/20231216_232227.ser\", \"R0=14.0, α=0.05, pc=0.25, n_sim=10000, pattern=mozambique, path: ../dt_tmp_res/20231217_041926.ser\"]\n"
     ]
    }
   ],
   "source": [
    "println(\"Main results==========================\")\n",
    "run_all_patterns(\n",
    "    R0=R0, α=α, pc=pc, imp_ws_moz=imp_ws_moz, imp_ws_airport=imp_ws_airport, \n",
    "    n_sim=n_sim,\n",
    "    path_spatial=path_spatial,\n",
    "    )"
   ]
  },
  {
   "cell_type": "markdown",
   "id": "6f69d72e",
   "metadata": {},
   "source": [
    "## Sensitivity analysis "
   ]
  },
  {
   "cell_type": "code",
   "execution_count": 12,
   "id": "1fec5959",
   "metadata": {},
   "outputs": [
    {
     "name": "stdout",
     "output_type": "stream",
     "text": [
      "Sensitivity analysis for R0 ==========================\n",
      "# of sites: 1517\n",
      "SEIRMetaModelParams\n",
      "  R0: Float64 10.0\n",
      "  γ1: Float64 0.25\n",
      "  γ2: Float64 0.06657789613848203\n",
      "  σ: Float64 0.3291\n",
      "  P_AFP: Float64 0.005\n",
      "  N_tot: Array{Int64}((1517,)) [176661, 132438, 110952, 102279, 96377, 93257, 81002, 79789, 74368, 71796  …  103, 102, 102, 102, 102, 102, 102, 101, 101, 101]\n",
      "  N_unvac: Array{Int64}((1517,)) [9009, 7004, 10801, 6729, 6341, 22933, 4284, 4219, 4893, 3975  …  4, 7, 7, 19, 19, 12, 12, 6, 7, 4]\n",
      "  I0_init: Int64 1\n",
      "  I0_ind: Int64 1\n",
      "  days: Int64 1095\n",
      "  n_site: Int64 1517\n",
      "  α: Float64 0.05\n",
      "  π_mat: Array{Float64}((1517, 1517)) [0.0 0.0008134913063202908 … 6.780709468953783e-7 4.898477234903362e-6; 0.0034150940977343493 0.0 … 4.753101976878339e-5 4.686095869451221e-6; … ; 1.9892426060623706e-6 0.00011196468975607586 … 0.0 3.3899886725864443e-9; 2.770651210640693e-5 4.626887381318493e-7 … 3.88258866975442e-10 0.0]\n",
      "  μ: Float64 0.000547945205479452\n",
      "  β: Float64 0.6657789613848203\n",
      "  pc: Float64 0.25\n",
      "  imp_ws: Array{Float64}((1,)) [1.0]\n",
      "Average vaccination coverage: 0.91933835\n",
      "../dt_tmp/20231217_042021\n"
     ]
    },
    {
     "name": "stderr",
     "output_type": "stream",
     "text": [
      "\u001b[32mProgress: 100%|█████████████████████████████████████████| Time: 1:33:18\u001b[39mm\n"
     ]
    },
    {
     "name": "stdout",
     "output_type": "stream",
     "text": [
      "5598.260481 seconds (72.02 M allocations: 17.787 TiB, 0.47% gc time)\n",
      "Cum index:34\n",
      "Actual ES coverage: 34.42009\n",
      "AFPSurParams\n",
      "  P_test: Float64 0.97\n",
      "  P_sample: Float64 0.53\n",
      "  P_H: Float64 0.9\n",
      "ESParams\n",
      "  g: Float64 0.23025850929940458\n",
      "  P_test: Float64 0.97\n",
      "  area: Array{Bool}((1517,)) Bool[1, 1, 1, 1, 1, 1, 1, 1, 1, 1  …  0, 0, 0, 0, 0, 0, 0, 0, 0, 0]\n",
      "  n_freq: Int64 30\n"
     ]
    },
    {
     "name": "stderr",
     "output_type": "stream",
     "text": [
      "\u001b[32mProgress: 100%|█████████████████████████████████████████| Time: 0:31:37\u001b[39m\n"
     ]
    },
    {
     "name": "stdout",
     "output_type": "stream",
     "text": [
      "../dt_tmp_res/20231217_062518.ser\n",
      "# of sites: 1517\n",
      "SEIRMetaModelParams\n",
      "  R0: Float64 12.0\n",
      "  γ1: Float64 0.25\n",
      "  γ2: Float64 0.06657789613848203\n",
      "  σ: Float64 0.3291\n",
      "  P_AFP: Float64 0.005\n",
      "  N_tot: Array{Int64}((1517,)) [176661, 132438, 110952, 102279, 96377, 93257, 81002, 79789, 74368, 71796  …  103, 102, 102, 102, 102, 102, 102, 101, 101, 101]\n",
      "  N_unvac: Array{Int64}((1517,)) [9009, 7004, 10801, 6729, 6341, 22933, 4284, 4219, 4893, 3975  …  4, 7, 7, 19, 19, 12, 12, 6, 7, 4]\n",
      "  I0_init: Int64 1\n",
      "  I0_ind: Int64 1\n",
      "  days: Int64 1095\n",
      "  n_site: Int64 1517\n",
      "  α: Float64 0.05\n",
      "  π_mat: Array{Float64}((1517, 1517)) [0.0 0.0008134913063202908 … 6.780709468953783e-7 4.898477234903362e-6; 0.0034150940977343493 0.0 … 4.753101976878339e-5 4.686095869451221e-6; … ; 1.9892426060623706e-6 0.00011196468975607586 … 0.0 3.3899886725864443e-9; 2.770651210640693e-5 4.626887381318493e-7 … 3.88258866975442e-10 0.0]\n",
      "  μ: Float64 0.000547945205479452\n",
      "  β: Float64 0.7989347536617843\n",
      "  pc: Float64 0.25\n",
      "  imp_ws: Array{Float64}((1,)) [1.0]\n",
      "Average vaccination coverage: 0.91933835\n",
      "../dt_tmp/20231217_062614\n"
     ]
    },
    {
     "name": "stderr",
     "output_type": "stream",
     "text": [
      "\u001b[32mProgress: 100%|█████████████████████████████████████████| Time: 2:48:17\u001b[39mm\n"
     ]
    },
    {
     "name": "stdout",
     "output_type": "stream",
     "text": [
      "10097.389307 seconds (91.22 M allocations: 24.636 TiB, 0.44% gc time)\n",
      "Cum index:34\n",
      "Actual ES coverage: 34.42009\n",
      "AFPSurParams\n",
      "  P_test: Float64 0.97\n",
      "  P_sample: Float64 0.53\n",
      "  P_H: Float64 0.9\n",
      "ESParams\n",
      "  g: Float64 0.23025850929940458\n",
      "  P_test: Float64 0.97\n",
      "  area: Array{Bool}((1517,)) Bool[1, 1, 1, 1, 1, 1, 1, 1, 1, 1  …  0, 0, 0, 0, 0, 0, 0, 0, 0, 0]\n",
      "  n_freq: Int64 30\n"
     ]
    },
    {
     "name": "stderr",
     "output_type": "stream",
     "text": [
      "\u001b[32mProgress: 100%|█████████████████████████████████████████| Time: 1:39:00\u001b[39m\n"
     ]
    },
    {
     "name": "stdout",
     "output_type": "stream",
     "text": [
      "../dt_tmp_res/20231217_105333.ser\n",
      "# of sites: 1517\n",
      "SEIRMetaModelParams\n",
      "  R0: Float64 16.0\n",
      "  γ1: Float64 0.25\n",
      "  γ2: Float64 0.06657789613848203\n",
      "  σ: Float64 0.3291\n",
      "  P_AFP: Float64 0.005\n",
      "  N_tot: Array{Int64}((1517,)) [176661, 132438, 110952, 102279, 96377, 93257, 81002, 79789, 74368, 71796  …  103, 102, 102, 102, 102, 102, 102, 101, 101, 101]\n",
      "  N_unvac: Array{Int64}((1517,)) [9009, 7004, 10801, 6729, 6341, 22933, 4284, 4219, 4893, 3975  …  4, 7, 7, 19, 19, 12, 12, 6, 7, 4]\n",
      "  I0_init: Int64 1\n",
      "  I0_ind: Int64 1\n",
      "  days: Int64 1095\n",
      "  n_site: Int64 1517\n",
      "  α: Float64 0.05\n",
      "  π_mat: Array{Float64}((1517, 1517)) [0.0 0.0008134913063202908 … 6.780709468953783e-7 4.898477234903362e-6; 0.0034150940977343493 0.0 … 4.753101976878339e-5 4.686095869451221e-6; … ; 1.9892426060623706e-6 0.00011196468975607586 … 0.0 3.3899886725864443e-9; 2.770651210640693e-5 4.626887381318493e-7 … 3.88258866975442e-10 0.0]\n",
      "  μ: Float64 0.000547945205479452\n",
      "  β: Float64 1.0652463382157125\n",
      "  pc: Float64 0.25\n",
      "  imp_ws: Array{Float64}((1,)) [1.0]\n",
      "Average vaccination coverage: 0.91933835\n",
      "../dt_tmp/20231217_105918\n"
     ]
    },
    {
     "name": "stderr",
     "output_type": "stream",
     "text": [
      "\u001b[32mProgress: 100%|█████████████████████████████████████████| Time: 5:39:08\u001b[39mm40\u001b[39mm\n"
     ]
    },
    {
     "name": "stdout",
     "output_type": "stream",
     "text": [
      "20348.158455 seconds (140.22 M allocations: 42.250 TiB, 0.49% gc time)\n",
      "Cum index:34\n",
      "Actual ES coverage: 34.42009\n",
      "AFPSurParams\n",
      "  P_test: Float64 0.97\n",
      "  P_sample: Float64 0.53\n",
      "  P_H: Float64 0.9\n",
      "ESParams\n",
      "  g: Float64 0.23025850929940458\n",
      "  P_test: Float64 0.97\n",
      "  area: Array{Bool}((1517,)) Bool[1, 1, 1, 1, 1, 1, 1, 1, 1, 1  …  0, 0, 0, 0, 0, 0, 0, 0, 0, 0]\n",
      "  n_freq: Int64 30\n"
     ]
    },
    {
     "name": "stderr",
     "output_type": "stream",
     "text": [
      "\u001b[32mProgress: 100%|█████████████████████████████████████████| Time: 0:32:01\u001b[39m\n"
     ]
    },
    {
     "name": "stdout",
     "output_type": "stream",
     "text": [
      "../dt_tmp_res/20231217_171028.ser\n",
      "Any[\"R0=10, α=0.05, pc=0.25, n_sim=10000, pattern=population_size, path: ../dt_tmp_res/20231217_062518.ser\", \"R0=12, α=0.05, pc=0.25, n_sim=10000, pattern=population_size, path: ../dt_tmp_res/20231217_105333.ser\", \"R0=16, α=0.05, pc=0.25, n_sim=10000, pattern=population_size, path: ../dt_tmp_res/20231217_171028.ser\"]\n"
     ]
    }
   ],
   "source": [
    "println(\"Sensitivity analysis for R0 ==========================\")\n",
    "summary_info = []\n",
    "pattern = \"population_size\"\n",
    "for R0_sens in [10, 12, 16]\n",
    "    path_trans = run_transmission_model(;\n",
    "        R0=R0_sens, α=α, pc=pc, imp_ws=[1.0],\n",
    "        n_sim=n_sim,\n",
    "        path_spatial_params=path_spatial, \n",
    "        pattern=pattern\n",
    "    )\n",
    "    path_save = post_processing(path_trans, path_spatial, pc)\n",
    "    rec = \"R0=$(R0_sens), α=$(α), pc=$(pc), n_sim=$(n_sim), pattern=$(pattern), path: $(path_save)\"\n",
    "    push!(summary_info, rec)\n",
    "end\n",
    "println(summary_info)"
   ]
  },
  {
   "cell_type": "code",
   "execution_count": 13,
   "id": "847c51f8",
   "metadata": {},
   "outputs": [
    {
     "name": "stdout",
     "output_type": "stream",
     "text": [
      "Sensitivity analysis for α ==========================\n",
      "# of sites: 1517\n",
      "SEIRMetaModelParams\n",
      "  R0: Float64 14.0\n",
      "  γ1: Float64 0.25\n",
      "  γ2: Float64 0.06657789613848203\n",
      "  σ: Float64 0.3291\n",
      "  P_AFP: Float64 0.005\n",
      "  N_tot: Array{Int64}((1517,)) [176661, 132438, 110952, 102279, 96377, 93257, 81002, 79789, 74368, 71796  …  103, 102, 102, 102, 102, 102, 102, 101, 101, 101]\n",
      "  N_unvac: Array{Int64}((1517,)) [9009, 7004, 10801, 6729, 6341, 22933, 4284, 4219, 4893, 3975  …  4, 7, 7, 19, 19, 12, 12, 6, 7, 4]\n",
      "  I0_init: Int64 1\n",
      "  I0_ind: Int64 1\n",
      "  days: Int64 1095\n",
      "  n_site: Int64 1517\n",
      "  α: Float64 0.005\n",
      "  π_mat: Array{Float64}((1517, 1517)) [0.0 0.0008134913063202908 … 6.780709468953783e-7 4.898477234903362e-6; 0.0034150940977343493 0.0 … 4.753101976878339e-5 4.686095869451221e-6; … ; 1.9892426060623706e-6 0.00011196468975607586 … 0.0 3.3899886725864443e-9; 2.770651210640693e-5 4.626887381318493e-7 … 3.88258866975442e-10 0.0]\n",
      "  μ: Float64 0.000547945205479452\n",
      "  β: Float64 0.9320905459387484\n",
      "  pc: Float64 0.25\n",
      "  imp_ws: Array{Float64}((1,)) [1.0]\n",
      "Average vaccination coverage: 0.91933835\n",
      "../dt_tmp/20231217_171125\n"
     ]
    },
    {
     "name": "stderr",
     "output_type": "stream",
     "text": [
      "\u001b[32mProgress: 100%|█████████████████████████████████████████| Time: 2:20:24\u001b[39mm09\u001b[39m\n"
     ]
    },
    {
     "name": "stdout",
     "output_type": "stream",
     "text": [
      "8424.623021 seconds (97.77 M allocations: 27.031 TiB, 0.34% gc time)\n",
      "Cum index:34\n",
      "Actual ES coverage: 34.42009\n",
      "AFPSurParams\n",
      "  P_test: Float64 0.97\n",
      "  P_sample: Float64 0.53\n",
      "  P_H: Float64 0.9\n",
      "ESParams\n",
      "  g: Float64 0.23025850929940458\n",
      "  P_test: Float64 0.97\n",
      "  area: Array{Bool}((1517,)) Bool[1, 1, 1, 1, 1, 1, 1, 1, 1, 1  …  0, 0, 0, 0, 0, 0, 0, 0, 0, 0]\n",
      "  n_freq: Int64 30\n"
     ]
    },
    {
     "name": "stderr",
     "output_type": "stream",
     "text": [
      "\u001b[32mProgress: 100%|█████████████████████████████████████████| Time: 0:33:25\u001b[39m\n"
     ]
    },
    {
     "name": "stdout",
     "output_type": "stream",
     "text": [
      "../dt_tmp_res/20231217_200516.ser\n",
      "# of sites: 1517\n",
      "SEIRMetaModelParams\n",
      "  R0: Float64 14.0\n",
      "  γ1: Float64 0.25\n",
      "  γ2: Float64 0.06657789613848203\n",
      "  σ: Float64 0.3291\n",
      "  P_AFP: Float64 0.005\n",
      "  N_tot: Array{Int64}((1517,)) [176661, 132438, 110952, 102279, 96377, 93257, 81002, 79789, 74368, 71796  …  103, 102, 102, 102, 102, 102, 102, 101, 101, 101]\n",
      "  N_unvac: Array{Int64}((1517,)) [9009, 7004, 10801, 6729, 6341, 22933, 4284, 4219, 4893, 3975  …  4, 7, 7, 19, 19, 12, 12, 6, 7, 4]\n",
      "  I0_init: Int64 1\n",
      "  I0_ind: Int64 1\n",
      "  days: Int64 1095\n",
      "  n_site: Int64 1517\n",
      "  α: Float64 0.01\n",
      "  π_mat: Array{Float64}((1517, 1517)) [0.0 0.0008134913063202908 … 6.780709468953783e-7 4.898477234903362e-6; 0.0034150940977343493 0.0 … 4.753101976878339e-5 4.686095869451221e-6; … ; 1.9892426060623706e-6 0.00011196468975607586 … 0.0 3.3899886725864443e-9; 2.770651210640693e-5 4.626887381318493e-7 … 3.88258866975442e-10 0.0]\n",
      "  μ: Float64 0.000547945205479452\n",
      "  β: Float64 0.9320905459387484\n",
      "  pc: Float64 0.25\n",
      "  imp_ws: Array{Float64}((1,)) [1.0]\n",
      "Average vaccination coverage: 0.91933835\n",
      "../dt_tmp/20231217_200613\n"
     ]
    },
    {
     "name": "stderr",
     "output_type": "stream",
     "text": [
      "\u001b[32mProgress: 100%|█████████████████████████████████████████| Time: 2:57:47\u001b[39m\n"
     ]
    },
    {
     "name": "stdout",
     "output_type": "stream",
     "text": [
      "10668.017740 seconds (102.71 M allocations: 28.755 TiB, 0.45% gc time)\n",
      "Cum index:34\n",
      "Actual ES coverage: 34.42009\n",
      "AFPSurParams\n",
      "  P_test: Float64 0.97\n",
      "  P_sample: Float64 0.53\n",
      "  P_H: Float64 0.9\n",
      "ESParams\n",
      "  g: Float64 0.23025850929940458\n",
      "  P_test: Float64 0.97\n",
      "  area: Array{Bool}((1517,)) Bool[1, 1, 1, 1, 1, 1, 1, 1, 1, 1  …  0, 0, 0, 0, 0, 0, 0, 0, 0, 0]\n",
      "  n_freq: Int64 30\n"
     ]
    },
    {
     "name": "stderr",
     "output_type": "stream",
     "text": [
      "\u001b[32mProgress: 100%|█████████████████████████████████████████| Time: 0:33:51\u001b[39m\n"
     ]
    },
    {
     "name": "stdout",
     "output_type": "stream",
     "text": [
      "../dt_tmp_res/20231217_233753.ser\n",
      "# of sites: 1517\n",
      "SEIRMetaModelParams\n",
      "  R0: Float64 14.0\n",
      "  γ1: Float64 0.25\n",
      "  γ2: Float64 0.06657789613848203\n",
      "  σ: Float64 0.3291\n",
      "  P_AFP: Float64 0.005\n",
      "  N_tot: Array{Int64}((1517,)) [176661, 132438, 110952, 102279, 96377, 93257, 81002, 79789, 74368, 71796  …  103, 102, 102, 102, 102, 102, 102, 101, 101, 101]\n",
      "  N_unvac: Array{Int64}((1517,)) [9009, 7004, 10801, 6729, 6341, 22933, 4284, 4219, 4893, 3975  …  4, 7, 7, 19, 19, 12, 12, 6, 7, 4]\n",
      "  I0_init: Int64 1\n",
      "  I0_ind: Int64 1\n",
      "  days: Int64 1095\n",
      "  n_site: Int64 1517\n",
      "  α: Float64 0.1\n",
      "  π_mat: Array{Float64}((1517, 1517)) [0.0 0.0008134913063202908 … 6.780709468953783e-7 4.898477234903362e-6; 0.0034150940977343493 0.0 … 4.753101976878339e-5 4.686095869451221e-6; … ; 1.9892426060623706e-6 0.00011196468975607586 … 0.0 3.3899886725864443e-9; 2.770651210640693e-5 4.626887381318493e-7 … 3.88258866975442e-10 0.0]\n",
      "  μ: Float64 0.000547945205479452\n",
      "  β: Float64 0.9320905459387484\n",
      "  pc: Float64 0.25\n",
      "  imp_ws: Array{Float64}((1,)) [1.0]\n",
      "Average vaccination coverage: 0.91933835\n",
      "../dt_tmp/20231217_233856\n"
     ]
    },
    {
     "name": "stderr",
     "output_type": "stream",
     "text": [
      "\u001b[32mProgress: 100%|█████████████████████████████████████████| Time: 2:58:36\u001b[39mm\n"
     ]
    },
    {
     "name": "stdout",
     "output_type": "stream",
     "text": [
      "10716.743202 seconds (120.10 M allocations: 35.054 TiB, 0.31% gc time)\n",
      "Cum index:34\n",
      "Actual ES coverage: 34.42009\n",
      "AFPSurParams\n",
      "  P_test: Float64 0.97\n",
      "  P_sample: Float64 0.53\n",
      "  P_H: Float64 0.9\n",
      "ESParams\n",
      "  g: Float64 0.23025850929940458\n",
      "  P_test: Float64 0.97\n",
      "  area: Array{Bool}((1517,)) Bool[1, 1, 1, 1, 1, 1, 1, 1, 1, 1  …  0, 0, 0, 0, 0, 0, 0, 0, 0, 0]\n",
      "  n_freq: Int64 30\n"
     ]
    },
    {
     "name": "stderr",
     "output_type": "stream",
     "text": [
      "\u001b[32mProgress: 100%|█████████████████████████████████████████| Time: 0:33:54\u001b[39m\n"
     ]
    },
    {
     "name": "stdout",
     "output_type": "stream",
     "text": [
      "../dt_tmp_res/20231218_031127.ser\n",
      "# of sites: 1517\n",
      "SEIRMetaModelParams\n",
      "  R0: Float64 14.0\n",
      "  γ1: Float64 0.25\n",
      "  γ2: Float64 0.06657789613848203\n",
      "  σ: Float64 0.3291\n",
      "  P_AFP: Float64 0.005\n",
      "  N_tot: Array{Int64}((1517,)) [176661, 132438, 110952, 102279, 96377, 93257, 81002, 79789, 74368, 71796  …  103, 102, 102, 102, 102, 102, 102, 101, 101, 101]\n",
      "  N_unvac: Array{Int64}((1517,)) [9009, 7004, 10801, 6729, 6341, 22933, 4284, 4219, 4893, 3975  …  4, 7, 7, 19, 19, 12, 12, 6, 7, 4]\n",
      "  I0_init: Int64 1\n",
      "  I0_ind: Int64 1\n",
      "  days: Int64 1095\n",
      "  n_site: Int64 1517\n",
      "  α: Float64 0.5\n",
      "  π_mat: Array{Float64}((1517, 1517)) [0.0 0.0008134913063202908 … 6.780709468953783e-7 4.898477234903362e-6; 0.0034150940977343493 0.0 … 4.753101976878339e-5 4.686095869451221e-6; … ; 1.9892426060623706e-6 0.00011196468975607586 … 0.0 3.3899886725864443e-9; 2.770651210640693e-5 4.626887381318493e-7 … 3.88258866975442e-10 0.0]\n",
      "  μ: Float64 0.000547945205479452\n",
      "  β: Float64 0.9320905459387484\n",
      "  pc: Float64 0.25\n",
      "  imp_ws: Array{Float64}((1,)) [1.0]\n",
      "Average vaccination coverage: 0.91933835\n",
      "../dt_tmp/20231218_031222\n"
     ]
    },
    {
     "name": "stderr",
     "output_type": "stream",
     "text": [
      "\u001b[32mProgress: 100%|█████████████████████████████████████████| Time: 3:05:05\u001b[39mm\n"
     ]
    },
    {
     "name": "stdout",
     "output_type": "stream",
     "text": [
      "11105.075088 seconds (123.48 M allocations: 36.267 TiB, 0.28% gc time)\n",
      "Cum index:34\n",
      "Actual ES coverage: 34.42009\n",
      "AFPSurParams\n",
      "  P_test: Float64 0.97\n",
      "  P_sample: Float64 0.53\n",
      "  P_H: Float64 0.9\n",
      "ESParams\n",
      "  g: Float64 0.23025850929940458\n",
      "  P_test: Float64 0.97\n",
      "  area: Array{Bool}((1517,)) Bool[1, 1, 1, 1, 1, 1, 1, 1, 1, 1  …  0, 0, 0, 0, 0, 0, 0, 0, 0, 0]\n",
      "  n_freq: Int64 30\n"
     ]
    },
    {
     "name": "stderr",
     "output_type": "stream",
     "text": [
      "\u001b[32mProgress: 100%|█████████████████████████████████████████| Time: 0:33:05\u001b[39m\n"
     ]
    },
    {
     "name": "stdout",
     "output_type": "stream",
     "text": [
      "../dt_tmp_res/20231218_065033.ser\n",
      "Any[\"R0=14.0, α=0.005, pc=0.25, n_sim=10000, pattern=population_size, path: ../dt_tmp_res/20231217_200516.ser\", \"R0=14.0, α=0.01, pc=0.25, n_sim=10000, pattern=population_size, path: ../dt_tmp_res/20231217_233753.ser\", \"R0=14.0, α=0.1, pc=0.25, n_sim=10000, pattern=population_size, path: ../dt_tmp_res/20231218_031127.ser\", \"R0=14.0, α=0.5, pc=0.25, n_sim=10000, pattern=population_size, path: ../dt_tmp_res/20231218_065033.ser\"]\n"
     ]
    }
   ],
   "source": [
    "println(\"Sensitivity analysis for α ==========================\")\n",
    "summary_info = []\n",
    "for α_sens in [0.005, 0.010, 0.100, 0.500]\n",
    "    path_trans = run_transmission_model(;\n",
    "        R0=R0, α=α_sens, pc=pc, imp_ws=[1.0],\n",
    "        n_sim=n_sim,\n",
    "        path_spatial_params=path_spatial, \n",
    "        pattern=pattern,\n",
    "    )\n",
    "    path_save = post_processing(path_trans, path_spatial, pc)\n",
    "    rec = \"R0=$(R0), α=$(α_sens), pc=$(pc), n_sim=$(n_sim), pattern=$(pattern), path: $(path_save)\"\n",
    "    push!(summary_info, rec)\n",
    "end\n",
    "println(summary_info)"
   ]
  },
  {
   "cell_type": "code",
   "execution_count": 14,
   "id": "7c28670d-07bf-4083-8ccd-9425578b087f",
   "metadata": {},
   "outputs": [
    {
     "name": "stdout",
     "output_type": "stream",
     "text": [
      "Sensitivity analysis for pc ==========================\n",
      "# of sites: 1517\n",
      "SEIRMetaModelParams\n",
      "  R0: Float64 14.0\n",
      "  γ1: Float64 0.25\n",
      "  γ2: Float64 0.06657789613848203\n",
      "  σ: Float64 0.3291\n",
      "  P_AFP: Float64 0.005\n",
      "  N_tot: Array{Int64}((1517,)) [176661, 132438, 110952, 102279, 96377, 93257, 81002, 79789, 74368, 71796  …  103, 102, 102, 102, 102, 102, 102, 101, 101, 101]\n",
      "  N_unvac: Array{Int64}((1517,)) [9009, 7004, 10801, 6729, 6341, 22933, 4284, 4219, 4893, 3975  …  4, 7, 7, 19, 19, 12, 12, 6, 7, 4]\n",
      "  I0_init: Int64 1\n",
      "  I0_ind: Int64 1\n",
      "  days: Int64 1095\n",
      "  n_site: Int64 1517\n",
      "  α: Float64 0.05\n",
      "  π_mat: Array{Float64}((1517, 1517)) [0.0 0.0008134913063202908 … 6.780709468953783e-7 4.898477234903362e-6; 0.0034150940977343493 0.0 … 4.753101976878339e-5 4.686095869451221e-6; … ; 1.9892426060623706e-6 0.00011196468975607586 … 0.0 3.3899886725864443e-9; 2.770651210640693e-5 4.626887381318493e-7 … 3.88258866975442e-10 0.0]\n",
      "  μ: Float64 0.000547945205479452\n",
      "  β: Float64 0.9320905459387484\n",
      "  pc: Float64 0.01\n",
      "  imp_ws: Array{Float64}((1,)) [1.0]\n",
      "Average vaccination coverage: 0.91933835\n",
      "../dt_tmp/20231218_065130\n"
     ]
    },
    {
     "name": "stderr",
     "output_type": "stream",
     "text": [
      "\u001b[32mProgress: 100%|█████████████████████████████████████████| Time: 2:57:07\u001b[39mm\n"
     ]
    },
    {
     "name": "stdout",
     "output_type": "stream",
     "text": [
      "10627.177128 seconds (116.46 M allocations: 33.738 TiB, 0.34% gc time)\n",
      "Cum index:1517\n",
      "Actual ES coverage: 100.0\n",
      "AFPSurParams\n",
      "  P_test: Float64 0.97\n",
      "  P_sample: Float64 0.53\n",
      "  P_H: Float64 0.9\n",
      "ESParams\n",
      "  g: Float64 0.23025850929940458\n",
      "  P_test: Float64 0.97\n",
      "  area: Array{Bool}((1517,)) Bool[1, 1, 1, 1, 1, 1, 1, 1, 1, 1  …  1, 1, 1, 1, 1, 1, 1, 1, 1, 1]\n",
      "  n_freq: Int64 30\n"
     ]
    },
    {
     "name": "stderr",
     "output_type": "stream",
     "text": [
      "\u001b[32mProgress: 100%|█████████████████████████████████████████| Time: 0:41:34\u001b[39m\n"
     ]
    },
    {
     "name": "stdout",
     "output_type": "stream",
     "text": [
      "../dt_tmp_res/20231218_103012.ser\n",
      "# of sites: 1517\n",
      "SEIRMetaModelParams\n",
      "  R0: Float64 14.0\n",
      "  γ1: Float64 0.25\n",
      "  γ2: Float64 0.06657789613848203\n",
      "  σ: Float64 0.3291\n",
      "  P_AFP: Float64 0.005\n",
      "  N_tot: Array{Int64}((1517,)) [176661, 132438, 110952, 102279, 96377, 93257, 81002, 79789, 74368, 71796  …  103, 102, 102, 102, 102, 102, 102, 101, 101, 101]\n",
      "  N_unvac: Array{Int64}((1517,)) [9009, 7004, 10801, 6729, 6341, 22933, 4284, 4219, 4893, 3975  …  4, 7, 7, 19, 19, 12, 12, 6, 7, 4]\n",
      "  I0_init: Int64 1\n",
      "  I0_ind: Int64 1\n",
      "  days: Int64 1095\n",
      "  n_site: Int64 1517\n",
      "  α: Float64 0.05\n",
      "  π_mat: Array{Float64}((1517, 1517)) [0.0 0.0008134913063202908 … 6.780709468953783e-7 4.898477234903362e-6; 0.0034150940977343493 0.0 … 4.753101976878339e-5 4.686095869451221e-6; … ; 1.9892426060623706e-6 0.00011196468975607586 … 0.0 3.3899886725864443e-9; 2.770651210640693e-5 4.626887381318493e-7 … 3.88258866975442e-10 0.0]\n",
      "  μ: Float64 0.000547945205479452\n",
      "  β: Float64 0.9320905459387484\n",
      "  pc: Float64 0.05\n",
      "  imp_ws: Array{Float64}((1,)) [1.0]\n",
      "Average vaccination coverage: 0.91933835\n",
      "../dt_tmp/20231218_103128\n"
     ]
    },
    {
     "name": "stderr",
     "output_type": "stream",
     "text": [
      "\u001b[32mProgress: 100%|█████████████████████████████████████████| Time: 2:58:56\u001b[39mm\n"
     ]
    },
    {
     "name": "stdout",
     "output_type": "stream",
     "text": [
      "10736.295097 seconds (111.86 M allocations: 32.072 TiB, 0.30% gc time)\n",
      "Cum index:1517\n",
      "Actual ES coverage: 100.0\n",
      "AFPSurParams\n",
      "  P_test: Float64 0.97\n",
      "  P_sample: Float64 0.53\n",
      "  P_H: Float64 0.9\n",
      "ESParams\n",
      "  g: Float64 0.23025850929940458\n",
      "  P_test: Float64 0.97\n",
      "  area: Array{Bool}((1517,)) Bool[1, 1, 1, 1, 1, 1, 1, 1, 1, 1  …  1, 1, 1, 1, 1, 1, 1, 1, 1, 1]\n",
      "  n_freq: Int64 30\n"
     ]
    },
    {
     "name": "stderr",
     "output_type": "stream",
     "text": [
      "\u001b[32mProgress: 100%|█████████████████████████████████████████| Time: 0:36:56\u001b[39m\n"
     ]
    },
    {
     "name": "stdout",
     "output_type": "stream",
     "text": [
      "../dt_tmp_res/20231218_140721.ser\n",
      "# of sites: 1517\n",
      "SEIRMetaModelParams\n",
      "  R0: Float64 14.0\n",
      "  γ1: Float64 0.25\n",
      "  γ2: Float64 0.06657789613848203\n",
      "  σ: Float64 0.3291\n",
      "  P_AFP: Float64 0.005\n",
      "  N_tot: Array{Int64}((1517,)) [176661, 132438, 110952, 102279, 96377, 93257, 81002, 79789, 74368, 71796  …  103, 102, 102, 102, 102, 102, 102, 101, 101, 101]\n",
      "  N_unvac: Array{Int64}((1517,)) [9009, 7004, 10801, 6729, 6341, 22933, 4284, 4219, 4893, 3975  …  4, 7, 7, 19, 19, 12, 12, 6, 7, 4]\n",
      "  I0_init: Int64 1\n",
      "  I0_ind: Int64 1\n",
      "  days: Int64 1095\n",
      "  n_site: Int64 1517\n",
      "  α: Float64 0.05\n",
      "  π_mat: Array{Float64}((1517, 1517)) [0.0 0.0008134913063202908 … 6.780709468953783e-7 4.898477234903362e-6; 0.0034150940977343493 0.0 … 4.753101976878339e-5 4.686095869451221e-6; … ; 1.9892426060623706e-6 0.00011196468975607586 … 0.0 3.3899886725864443e-9; 2.770651210640693e-5 4.626887381318493e-7 … 3.88258866975442e-10 0.0]\n",
      "  μ: Float64 0.000547945205479452\n",
      "  β: Float64 0.9320905459387484\n",
      "  pc: Float64 0.25\n",
      "  imp_ws: Array{Float64}((1,)) [1.0]\n",
      "Average vaccination coverage: 0.91933835\n",
      "../dt_tmp/20231218_140818\n"
     ]
    },
    {
     "name": "stderr",
     "output_type": "stream",
     "text": [
      "\u001b[32mProgress: 100%|█████████████████████████████████████████| Time: 3:26:19\u001b[39m\n"
     ]
    },
    {
     "name": "stdout",
     "output_type": "stream",
     "text": [
      "12379.612867 seconds (113.96 M allocations: 32.793 TiB, 0.33% gc time)\n",
      "Cum index:34\n",
      "Actual ES coverage: 34.42009\n",
      "AFPSurParams\n",
      "  P_test: Float64 0.97\n",
      "  P_sample: Float64 0.53\n",
      "  P_H: Float64 0.9\n",
      "ESParams\n",
      "  g: Float64 0.23025850929940458\n",
      "  P_test: Float64 0.97\n",
      "  area: Array{Bool}((1517,)) Bool[1, 1, 1, 1, 1, 1, 1, 1, 1, 1  …  0, 0, 0, 0, 0, 0, 0, 0, 0, 0]\n",
      "  n_freq: Int64 30\n"
     ]
    },
    {
     "name": "stderr",
     "output_type": "stream",
     "text": [
      "\u001b[32mProgress: 100%|█████████████████████████████████████████| Time: 0:31:35\u001b[39m\n"
     ]
    },
    {
     "name": "stdout",
     "output_type": "stream",
     "text": [
      "../dt_tmp_res/20231218_180614.ser\n",
      "# of sites: 1517\n",
      "SEIRMetaModelParams\n",
      "  R0: Float64 14.0\n",
      "  γ1: Float64 0.25\n",
      "  γ2: Float64 0.06657789613848203\n",
      "  σ: Float64 0.3291\n",
      "  P_AFP: Float64 0.005\n",
      "  N_tot: Array{Int64}((1517,)) [176661, 132438, 110952, 102279, 96377, 93257, 81002, 79789, 74368, 71796  …  103, 102, 102, 102, 102, 102, 102, 101, 101, 101]\n",
      "  N_unvac: Array{Int64}((1517,)) [9009, 7004, 10801, 6729, 6341, 22933, 4284, 4219, 4893, 3975  …  4, 7, 7, 19, 19, 12, 12, 6, 7, 4]\n",
      "  I0_init: Int64 1\n",
      "  I0_ind: Int64 1\n",
      "  days: Int64 1095\n",
      "  n_site: Int64 1517\n",
      "  α: Float64 0.05\n",
      "  π_mat: Array{Float64}((1517, 1517)) [0.0 0.0008134913063202908 … 6.780709468953783e-7 4.898477234903362e-6; 0.0034150940977343493 0.0 … 4.753101976878339e-5 4.686095869451221e-6; … ; 1.9892426060623706e-6 0.00011196468975607586 … 0.0 3.3899886725864443e-9; 2.770651210640693e-5 4.626887381318493e-7 … 3.88258866975442e-10 0.0]\n",
      "  μ: Float64 0.000547945205479452\n",
      "  β: Float64 0.9320905459387484\n",
      "  pc: Float64 0.5\n",
      "  imp_ws: Array{Float64}((1,)) [1.0]\n",
      "Average vaccination coverage: 0.91933835\n",
      "../dt_tmp/20231218_180712\n"
     ]
    },
    {
     "name": "stderr",
     "output_type": "stream",
     "text": [
      "\u001b[32mProgress: 100%|█████████████████████████████████████████| Time: 3:41:56\u001b[39mm\n"
     ]
    },
    {
     "name": "stdout",
     "output_type": "stream",
     "text": [
      "13316.588521 seconds (114.99 M allocations: 33.147 TiB, 0.30% gc time)\n",
      "Cum index:9\n",
      "Actual ES coverage: 16.731243\n",
      "AFPSurParams\n",
      "  P_test: Float64 0.97\n",
      "  P_sample: Float64 0.53\n",
      "  P_H: Float64 0.9\n",
      "ESParams\n",
      "  g: Float64 0.23025850929940458\n",
      "  P_test: Float64 0.97\n",
      "  area: Array{Bool}((1517,)) Bool[1, 1, 1, 1, 1, 1, 1, 1, 1, 0  …  0, 0, 0, 0, 0, 0, 0, 0, 0, 0]\n",
      "  n_freq: Int64 30\n"
     ]
    },
    {
     "name": "stderr",
     "output_type": "stream",
     "text": [
      "\u001b[32mProgress: 100%|█████████████████████████████████████████| Time: 0:52:00\u001b[39m\n"
     ]
    },
    {
     "name": "stdout",
     "output_type": "stream",
     "text": [
      "../dt_tmp_res/20231218_224110.ser\n",
      "Any[\"R0=14.0, α=0.05, pc=0.01, n_sim=10000, pattern=population_size, path: ../dt_tmp_res/20231218_103012.ser\", \"R0=14.0, α=0.05, pc=0.05, n_sim=10000, pattern=population_size, path: ../dt_tmp_res/20231218_140721.ser\", \"R0=14.0, α=0.05, pc=0.25, n_sim=10000, pattern=population_size, path: ../dt_tmp_res/20231218_180614.ser\", \"R0=14.0, α=0.05, pc=0.5, n_sim=10000, pattern=population_size, path: ../dt_tmp_res/20231218_224110.ser\"]\n"
     ]
    }
   ],
   "source": [
    "println(\"Sensitivity analysis for pc ==========================\")\n",
    "summary_info = []\n",
    "for pc_sens in [0.01, 0.05, 0.25, 0.50]\n",
    "    path_trans = run_transmission_model(;\n",
    "        R0=R0, α=α, pc=pc_sens, imp_ws=[1.0],\n",
    "        n_sim=n_sim,\n",
    "        path_spatial_params=path_spatial, \n",
    "        pattern=pattern,\n",
    "    )\n",
    "    path_save = post_processing(path_trans, path_spatial, pc_sens)\n",
    "    rec = \"R0=$(R0), α=$(α), pc=$(pc_sens), n_sim=$(n_sim), pattern=$(pattern), path: $(path_save)\"\n",
    "    push!(summary_info, rec)\n",
    "end\n",
    "println(summary_info)"
   ]
  },
  {
   "cell_type": "markdown",
   "id": "bb3aaa58",
   "metadata": {},
   "source": [
    "## Mozambique risk ordered ES. "
   ]
  },
  {
   "cell_type": "code",
   "execution_count": 15,
   "id": "c1ad857f",
   "metadata": {},
   "outputs": [
    {
     "data": {
      "text/plain": [
       "\"../dt_tmp/spatial_params_agg230_moz_sorted.ser\""
      ]
     },
     "execution_count": 15,
     "metadata": {},
     "output_type": "execute_result"
    }
   ],
   "source": [
    "imp_ws_moz_sorted = CSV.read(\"../data/imp_ws_moz_sorted.csv\", DataFrame, header=false)[:,1]\n",
    "imp_ws_airport_sorted = CSV.read(\"../data/imp_ws_airport_sorted.csv\", DataFrame, header=false)[:,1]\n",
    "path_spatial_sorted = \"../dt_tmp/spatial_params_agg230_moz_sorted.ser\"\n"
   ]
  },
  {
   "cell_type": "code",
   "execution_count": 16,
   "id": "5ce90040",
   "metadata": {},
   "outputs": [
    {
     "name": "stdout",
     "output_type": "stream",
     "text": [
      "Sensitivity analysis for Mozambique risk ordered ES ==========================\n",
      "# of sites: 1517\n",
      "SEIRMetaModelParams\n",
      "  R0: Float64 14.0\n",
      "  γ1: Float64 0.25\n",
      "  γ2: Float64 0.06657789613848203\n",
      "  σ: Float64 0.3291\n",
      "  P_AFP: Float64 0.005\n",
      "  N_tot: Array{Int64}((1517,)) [16942, 6206, 11638, 17796, 9978, 18076, 14578, 18809, 13780, 6951  …  115, 107, 107, 110, 101, 105, 102, 105, 101, 103]\n",
      "  N_unvac: Array{Int64}((1517,)) [2049, 750, 1407, 2152, 1206, 2186, 1763, 2274, 1666, 840  …  7, 2, 6, 6, 7, 6, 7, 6, 6, 6]\n",
      "  I0_init: Int64 1\n",
      "  I0_ind: Int64 1\n",
      "  days: Int64 1095\n",
      "  n_site: Int64 1517\n",
      "  α: Float64 0.05\n",
      "  π_mat: Array{Float64}((1517, 1517)) [0.0 0.09700668215283446 … 6.40008051061156e-8 6.351348570063297e-8; 0.40108404561682365 0.0 … 2.3434779415237e-8 2.3265534898956926e-8; … ; 5.945035894425645e-8 2.2301115523520442e-8 … 0.0 3.73407299880895e-8; 6.393101238222124e-8 2.4169055529270278e-8 … 3.661928733425369e-8 0.0]\n",
      "  μ: Float64 0.000547945205479452\n",
      "  β: Float64 0.9320905459387484\n",
      "  pc: Float64 0.25\n",
      "  imp_ws: Array{Float64}((1517,)) [0.06333313266942489, 0.039949000007802146, 0.033154863029281736, 0.027592904777850223, 0.025342893589634027, 0.023763127643199294, 0.017621545806210476, 0.015599926875164418, 0.015053408281864933, 0.014233936235674623  …  1.2043414564526757e-6, 1.1531947363766916e-6, 1.1521165640227425e-6, 1.1440071228265216e-6, 1.1425490077361494e-6, 1.1363254887229796e-6, 1.0943681387494426e-6, 1.0941673571630876e-6, 1.0646982894584665e-6, 1.0415682336528267e-6]\n",
      "Average vaccination coverage: 0.9193383273227042\n",
      "../dt_tmp/20231218_224340\n"
     ]
    },
    {
     "name": "stderr",
     "output_type": "stream",
     "text": [
      "\u001b[32mProgress: 100%|█████████████████████████████████████████| Time: 2:54:28\u001b[39mm11\u001b[39mm\n"
     ]
    },
    {
     "name": "stdout",
     "output_type": "stream",
     "text": [
      "10469.794992 seconds (113.71 M allocations: 32.749 TiB, 0.33% gc time)\n",
      "Cum index:107\n",
      "Actual ES coverage: 34.291977907735735\n",
      "AFPSurParams\n",
      "  P_test: Float64 0.97\n",
      "  P_sample: Float64 0.53\n",
      "  P_H: Float64 0.9\n",
      "ESParams\n",
      "  g: Float64 0.23025850929940458\n",
      "  P_test: Float64 0.97\n",
      "  area: Array{Bool}((1517,)) Bool[1, 1, 1, 1, 1, 1, 1, 1, 1, 1  …  0, 0, 0, 0, 0, 0, 0, 0, 0, 0]\n",
      "  n_freq: Int64 30\n"
     ]
    },
    {
     "name": "stderr",
     "output_type": "stream",
     "text": [
      "\u001b[32mProgress: 100%|█████████████████████████████████████████| Time: 0:32:07\u001b[39m\n"
     ]
    },
    {
     "name": "stdout",
     "output_type": "stream",
     "text": [
      "../dt_tmp_res/20231219_021018.ser\n",
      "# of sites: 1517\n",
      "SEIRMetaModelParams\n",
      "  R0: Float64 14.0\n",
      "  γ1: Float64 0.25\n",
      "  γ2: Float64 0.06657789613848203\n",
      "  σ: Float64 0.3291\n",
      "  P_AFP: Float64 0.005\n",
      "  N_tot: Array{Int64}((1517,)) [16942, 6206, 11638, 17796, 9978, 18076, 14578, 18809, 13780, 6951  …  115, 107, 107, 110, 101, 105, 102, 105, 101, 103]\n",
      "  N_unvac: Array{Int64}((1517,)) [2049, 750, 1407, 2152, 1206, 2186, 1763, 2274, 1666, 840  …  7, 2, 6, 6, 7, 6, 7, 6, 6, 6]\n",
      "  I0_init: Int64 1\n",
      "  I0_ind: Int64 1\n",
      "  days: Int64 1095\n",
      "  n_site: Int64 1517\n",
      "  α: Float64 0.05\n",
      "  π_mat: Array{Float64}((1517, 1517)) [0.0 0.09700668215283446 … 6.40008051061156e-8 6.351348570063297e-8; 0.40108404561682365 0.0 … 2.3434779415237e-8 2.3265534898956926e-8; … ; 5.945035894425645e-8 2.2301115523520442e-8 … 0.0 3.73407299880895e-8; 6.393101238222124e-8 2.4169055529270278e-8 … 3.661928733425369e-8 0.0]\n",
      "  μ: Float64 0.000547945205479452\n",
      "  β: Float64 0.9320905459387484\n",
      "  pc: Float64 0.25\n",
      "  imp_ws: Array{Float64}((1517,)) [0.00012641610860554433, 4.704355134494807e-5, 9.380218964050939e-5, 0.0001927582601116437, 8.9700302166026e-5, 0.00018432552299067398, 0.00012214354904313137, 0.00016190750263286375, 0.00013338309078914212, 6.602971442353684e-5  …  7.761628527495726e-6, 5.542866846538132e-6, 7.307354709303179e-6, 9.080704473026063e-6, 6.6426201245801704e-6, 7.2024380973380935e-6, 7.480190842367117e-6, 7.180382685908659e-6, 6.916381959261366e-6, 8.436821214658133e-6]\n",
      "Average vaccination coverage: 0.9193383273227042\n",
      "../dt_tmp/20231219_021113\n"
     ]
    },
    {
     "name": "stderr",
     "output_type": "stream",
     "text": [
      "\u001b[32mProgress: 100%|█████████████████████████████████████████| Time: 1:34:37\u001b[39m\n"
     ]
    },
    {
     "name": "stdout",
     "output_type": "stream",
     "text": [
      "5677.807278 seconds (69.37 M allocations: 16.807 TiB, 0.52% gc time)\n",
      "Cum index:107\n",
      "Actual ES coverage: 34.291977907735735\n",
      "AFPSurParams\n",
      "  P_test: Float64 0.97\n",
      "  P_sample: Float64 0.53\n",
      "  P_H: Float64 0.9\n",
      "ESParams\n",
      "  g: Float64 0.23025850929940458\n",
      "  P_test: Float64 0.97\n",
      "  area: Array{Bool}((1517,)) Bool[1, 1, 1, 1, 1, 1, 1, 1, 1, 1  …  0, 0, 0, 0, 0, 0, 0, 0, 0, 0]\n",
      "  n_freq: Int64 30\n"
     ]
    },
    {
     "name": "stderr",
     "output_type": "stream",
     "text": [
      "\u001b[32mProgress: 100%|█████████████████████████████████████████| Time: 0:33:19\u001b[39m\n"
     ]
    },
    {
     "name": "stdout",
     "output_type": "stream",
     "text": [
      "../dt_tmp_res/20231219_041910.ser\n",
      "# of sites: 1517\n",
      "SEIRMetaModelParams\n",
      "  R0: Float64 14.0\n",
      "  γ1: Float64 0.25\n",
      "  γ2: Float64 0.06657789613848203\n",
      "  σ: Float64 0.3291\n",
      "  P_AFP: Float64 0.005\n",
      "  N_tot: Array{Int64}((1517,)) [16942, 6206, 11638, 17796, 9978, 18076, 14578, 18809, 13780, 6951  …  115, 107, 107, 110, 101, 105, 102, 105, 101, 103]\n",
      "  N_unvac: Array{Int64}((1517,)) [2049, 750, 1407, 2152, 1206, 2186, 1763, 2274, 1666, 840  …  7, 2, 6, 6, 7, 6, 7, 6, 6, 6]\n",
      "  I0_init: Int64 1\n",
      "  I0_ind: Int64 1\n",
      "  days: Int64 1095\n",
      "  n_site: Int64 1517\n",
      "  α: Float64 0.05\n",
      "  π_mat: Array{Float64}((1517, 1517)) [0.0 0.09700668215283446 … 6.40008051061156e-8 6.351348570063297e-8; 0.40108404561682365 0.0 … 2.3434779415237e-8 2.3265534898956926e-8; … ; 5.945035894425645e-8 2.2301115523520442e-8 … 0.0 3.73407299880895e-8; 6.393101238222124e-8 2.4169055529270278e-8 … 3.661928733425369e-8 0.0]\n",
      "  μ: Float64 0.000547945205479452\n",
      "  β: Float64 0.9320905459387484\n",
      "  pc: Float64 0.25\n",
      "  imp_ws: Array{Float64}((1517,)) [0.06333313266942489, 0.039949000007802146, 0.033154863029281736, 0.027592904777850223, 0.025342893589634027, 0.023763127643199294, 0.017621545806210476, 0.015599926875164418, 0.015053408281864933, 0.014233936235674623  …  1.2043414564526757e-6, 1.1531947363766916e-6, 1.1521165640227425e-6, 1.1440071228265216e-6, 1.1425490077361494e-6, 1.1363254887229796e-6, 1.0943681387494426e-6, 1.0941673571630876e-6, 1.0646982894584665e-6, 1.0415682336528267e-6]\n",
      "Average vaccination coverage: 0.9193383273227042\n",
      "../dt_tmp/20231219_042004\n"
     ]
    },
    {
     "name": "stderr",
     "output_type": "stream",
     "text": [
      "\u001b[32mProgress: 100%|█████████████████████████████████████████| Time: 4:38:43\u001b[39mm\n"
     ]
    },
    {
     "name": "stdout",
     "output_type": "stream",
     "text": [
      "16723.175386 seconds (167.74 M allocations: 52.143 TiB, 0.21% gc time)\n",
      "Cum index:107\n",
      "Actual ES coverage: 34.291977907735735\n",
      "AFPSurParams\n",
      "  P_test: Float64 0.97\n",
      "  P_sample: Float64 0.53\n",
      "  P_H: Float64 0.9\n",
      "ESParams\n",
      "  g: Float64 0.23025850929940458\n",
      "  P_test: Float64 0.97\n",
      "  area: Array{Bool}((1517,)) Bool[1, 1, 1, 1, 1, 1, 1, 1, 1, 1  …  0, 0, 0, 0, 0, 0, 0, 0, 0, 0]\n",
      "  n_freq: Int64 30\n"
     ]
    },
    {
     "name": "stderr",
     "output_type": "stream",
     "text": [
      "\u001b[32mProgress: 100%|█████████████████████████████████████████| Time: 0:36:05\u001b[39m\n"
     ]
    },
    {
     "name": "stdout",
     "output_type": "stream",
     "text": [
      "../dt_tmp_res/20231219_093454.ser\n",
      "Any[\"R0=14.0, α=0.05, pc=0.25, n_sim=10000, pattern=population_size, path: ../dt_tmp_res/20231219_021018.ser\", \"R0=14.0, α=0.05, pc=0.25, n_sim=10000, pattern=airport, path: ../dt_tmp_res/20231219_041910.ser\", \"R0=14.0, α=0.05, pc=0.25, n_sim=10000, pattern=mozambique, path: ../dt_tmp_res/20231219_093454.ser\"]\n"
     ]
    }
   ],
   "source": [
    "println(\"Sensitivity analysis for Mozambique risk ordered ES ==========================\")\n",
    "run_all_patterns(\n",
    "    R0=R0, α=α, pc=pc, \n",
    "    imp_ws_moz=imp_ws_moz_sorted, \n",
    "    imp_ws_airport=imp_ws_airport_sorted,\n",
    "    n_sim=n_sim,\n",
    "    path_spatial=path_spatial_sorted,\n",
    "    )"
   ]
  },
  {
   "cell_type": "markdown",
   "id": "3fcca91f-9b21-415f-8db3-c51d98ffc9a3",
   "metadata": {},
   "source": [
    "# Detection sensitivity, sensitivity analysis"
   ]
  },
  {
   "cell_type": "code",
   "execution_count": null,
   "id": "e4296b39-554e-4a23-abed-d16cb6ed6d83",
   "metadata": {},
   "outputs": [
    {
     "name": "stdout",
     "output_type": "stream",
     "text": [
      "Sensitivity analysis for pop90 ==========================\n",
      "# of sites: 1517\n",
      "SEIRMetaModelParams\n",
      "  R0: Float64 14.0\n",
      "  γ1: Float64 0.25\n",
      "  γ2: Float64 0.06657789613848203\n",
      "  σ: Float64 0.3291\n",
      "  P_AFP: Float64 0.005\n",
      "  N_tot: Array{Int64}((1517,)) [176661, 132438, 110952, 102279, 96377, 93257, 81002, 79789, 74368, 71796  …  103, 102, 102, 102, 102, 102, 102, 101, 101, 101]\n",
      "  N_unvac: Array{Int64}((1517,)) [9009, 7004, 10801, 6729, 6341, 22933, 4284, 4219, 4893, 3975  …  4, 7, 7, 19, 19, 12, 12, 6, 7, 4]\n",
      "  I0_init: Int64 1\n",
      "  I0_ind: Int64 1\n",
      "  days: Int64 1095\n",
      "  n_site: Int64 1517\n",
      "  α: Float64 0.05\n",
      "  π_mat: Array{Float64}((1517, 1517)) [0.0 0.0008134913063202908 … 6.780709468953783e-7 4.898477234903362e-6; 0.0034150940977343493 0.0 … 4.753101976878339e-5 4.686095869451221e-6; … ; 1.9892426060623706e-6 0.00011196468975607586 … 0.0 3.3899886725864443e-9; 2.770651210640693e-5 4.626887381318493e-7 … 3.88258866975442e-10 0.0]\n",
      "  μ: Float64 0.000547945205479452\n",
      "  β: Float64 0.9320905459387484\n",
      "  pc: Float64 0.25\n",
      "  imp_ws: Array{Float64}((1,)) [1.0]\n",
      "Average vaccination coverage: 0.91933835\n",
      "../dt_tmp/20231219_093606\n"
     ]
    },
    {
     "name": "stderr",
     "output_type": "stream",
     "text": [
      "\u001b[32mProgress: 100%|█████████████████████████████████████████| Time: 3:27:37\u001b[39mm\n"
     ]
    },
    {
     "name": "stdout",
     "output_type": "stream",
     "text": [
      "12411.368750 seconds (113.94 M allocations: 32.793 TiB, 0.42% gc time)\n",
      "Cum index:34\n",
      "Actual ES coverage: 34.42009\n",
      "AFPSurParams\n",
      "  P_test: Float64 0.97\n",
      "  P_sample: Float64 0.53\n",
      "  P_H: Float64 0.9\n",
      "ESParams\n",
      "  g: Float64 2.302585092994046\n",
      "  P_test: Float64 0.97\n",
      "  area: Array{Bool}((1517,)) Bool[1, 1, 1, 1, 1, 1, 1, 1, 1, 1  …  0, 0, 0, 0, 0, 0, 0, 0, 0, 0]\n",
      "  n_freq: Int64 30\n"
     ]
    },
    {
     "name": "stderr",
     "output_type": "stream",
     "text": [
      "\u001b[32mProgress: 100%|█████████████████████████████████████████| Time: 0:48:51\u001b[39m\n"
     ]
    },
    {
     "name": "stdout",
     "output_type": "stream",
     "text": [
      "../dt_tmp_res/20231219_135242.ser\n",
      "Cum index:34\n",
      "Actual ES coverage: 34.42009\n",
      "AFPSurParams\n",
      "  P_test: Float64 0.97\n",
      "  P_sample: Float64 0.53\n",
      "  P_H: Float64 0.9\n",
      "ESParams\n",
      "  g: Float64 0.07675283643313487\n",
      "  P_test: Float64 0.97\n",
      "  area: Array{Bool}((1517,)) Bool[1, 1, 1, 1, 1, 1, 1, 1, 1, 1  …  0, 0, 0, 0, 0, 0, 0, 0, 0, 0]\n",
      "  n_freq: Int64 30\n"
     ]
    },
    {
     "name": "stderr",
     "output_type": "stream",
     "text": [
      "\u001b[32mProgress: 100%|█████████████████████████████████████████| Time: 0:41:34\u001b[39m\n"
     ]
    },
    {
     "name": "stdout",
     "output_type": "stream",
     "text": [
      "../dt_tmp_res/20231219_143417.ser\n",
      "Cum index:34\n",
      "Actual ES coverage: 34.42009\n",
      "AFPSurParams\n",
      "  P_test: Float64 0.97\n",
      "  P_sample: Float64 0.53\n",
      "  P_H: Float64 0.9\n",
      "ESParams\n",
      "  g: Float64 0.02302585092994046\n",
      "  P_test: Float64 0.97\n",
      "  area: Array{Bool}((1517,)) Bool[1, 1, 1, 1, 1, 1, 1, 1, 1, 1  …  0, 0, 0, 0, 0, 0, 0, 0, 0, 0]\n",
      "  n_freq: Int64 30\n"
     ]
    },
    {
     "name": "stderr",
     "output_type": "stream",
     "text": [
      "\u001b[32mProgress: 100%|█████████████████████████████████████████| Time: 0:40:51\u001b[39m\n"
     ]
    },
    {
     "name": "stdout",
     "output_type": "stream",
     "text": [
      "../dt_tmp_res/20231219_151509.ser\n",
      "Cum index:34\n",
      "Actual ES coverage: 34.42009\n",
      "AFPSurParams\n",
      "  P_test: Float64 0.97\n",
      "  P_sample: Float64 0.53\n",
      "  P_H: Float64 0.9\n",
      "ESParams\n",
      "  g: Float64 0.0076752836433134864\n",
      "  P_test: Float64 0.97\n",
      "  area: Array{Bool}((1517,)) Bool[1, 1, 1, 1, 1, 1, 1, 1, 1, 1  …  0, 0, 0, 0, 0, 0, 0, 0, 0, 0]\n",
      "  n_freq: Int64 30\n"
     ]
    },
    {
     "name": "stderr",
     "output_type": "stream",
     "text": [
      "\u001b[32mProgress: 100%|█████████████████████████████████████████| Time: 0:37:38\u001b[39m\n"
     ]
    },
    {
     "name": "stdout",
     "output_type": "stream",
     "text": [
      "../dt_tmp_res/20231219_155248.ser\n",
      "Any[\"R0=14.0, α=0.05, pc=0.25, n_sim=10000, pattern=population_size, pop90=1, path: ../dt_tmp_res/20231219_135242.ser\", \"R0=14.0, α=0.05, pc=0.25, n_sim=10000, pattern=population_size, pop90=30, path: ../dt_tmp_res/20231219_143417.ser\", \"R0=14.0, α=0.05, pc=0.25, n_sim=10000, pattern=population_size, pop90=100, path: ../dt_tmp_res/20231219_151509.ser\", \"R0=14.0, α=0.05, pc=0.25, n_sim=10000, pattern=population_size, pop90=300, path: ../dt_tmp_res/20231219_155248.ser\"]"
     ]
    }
   ],
   "source": [
    "println(\"Sensitivity analysis for pop90 ==========================\")\n",
    "summary_info = []\n",
    "path_trans = run_transmission_model(;\n",
    "    R0=R0, α=α, pc=pc, imp_ws=[1.0],\n",
    "    n_sim=n_sim,\n",
    "    path_spatial_params=path_spatial, \n",
    "    pattern=pattern\n",
    ")\n",
    "for pop90 in [1, 30, 100, 300]\n",
    "    g = - log(1-0.9)/pop90\n",
    "    par_AFP, par_ES = set_par_AFP_ES(path_spatial_params=path_spatial, pc=pc, g=g)\n",
    "\n",
    "    path_save = sensitivity_all_summary(par_AFP, par_ES; path_trans=path_trans)\n",
    "    rec = \"R0=$(R0), α=$(α), pc=$(pc), n_sim=$(n_sim), pattern=$(pattern), pop90=$(pop90), path: $(path_save)\"\n",
    "    push!(summary_info, rec)\n",
    "end\n",
    "remove_all_leaving_one(path_trans)\n",
    "print(summary_info)"
   ]
  },
  {
   "cell_type": "markdown",
   "id": "2872ab6a-f5ce-459c-89ff-6a0fcd4274e2",
   "metadata": {},
   "source": [
    "# Sampling frequency sensitivity"
   ]
  },
  {
   "cell_type": "code",
   "execution_count": null,
   "id": "a7de02dd-96e2-471a-976d-b55ca2374ad9",
   "metadata": {},
   "outputs": [
    {
     "name": "stdout",
     "output_type": "stream",
     "text": [
      "Sensitivity analysis for sampling frequency ==========================\n",
      "# of sites: 1517\n",
      "SEIRMetaModelParams\n",
      "  R0: Float64 14.0\n",
      "  γ1: Float64 0.25\n",
      "  γ2: Float64 0.06657789613848203\n",
      "  σ: Float64 0.3291\n",
      "  P_AFP: Float64 0.005\n",
      "  N_tot: Array{Int64}((1517,)) [176661, 132438, 110952, 102279, 96377, 93257, 81002, 79789, 74368, 71796  …  103, 102, 102, 102, 102, 102, 102, 101, 101, 101]\n",
      "  N_unvac: Array{Int64}((1517,)) [9009, 7004, 10801, 6729, 6341, 22933, 4284, 4219, 4893, 3975  …  4, 7, 7, 19, 19, 12, 12, 6, 7, 4]\n",
      "  I0_init: Int64 1\n",
      "  I0_ind: Int64 1\n",
      "  days: Int64 1095\n",
      "  n_site: Int64 1517\n",
      "  α: Float64 0.05\n",
      "  π_mat: Array{Float64}((1517, 1517)) [0.0 0.0008134913063202908 … 6.780709468953783e-7 4.898477234903362e-6; 0.0034150940977343493 0.0 … 4.753101976878339e-5 4.686095869451221e-6; … ; 1.9892426060623706e-6 0.00011196468975607586 … 0.0 3.3899886725864443e-9; 2.770651210640693e-5 4.626887381318493e-7 … 3.88258866975442e-10 0.0]\n",
      "  μ: Float64 0.000547945205479452\n",
      "  β: Float64 0.9320905459387484\n",
      "  pc: Float64 0.25\n",
      "  imp_ws: Array{Float64}((1,)) [1.0]\n",
      "Average vaccination coverage: 0.91933835\n",
      "../dt_tmp/20231219_155357\n"
     ]
    },
    {
     "name": "stderr",
     "output_type": "stream",
     "text": [
      "\u001b[32mProgress: 100%|█████████████████████████████████████████| Time: 3:08:29\u001b[39mm\n"
     ]
    },
    {
     "name": "stdout",
     "output_type": "stream",
     "text": [
      "11309.776701 seconds (113.89 M allocations: 32.793 TiB, 0.43% gc time)\n",
      "Cum index:34\n",
      "Actual ES coverage: 34.42009\n",
      "AFPSurParams\n",
      "  P_test: Float64 0.97\n",
      "  P_sample: Float64 0.53\n",
      "  P_H: Float64 0.9\n",
      "ESParams\n",
      "  g: Float64 0.23025850929940458\n",
      "  P_test: Float64 0.97\n",
      "  area: Array{Bool}((1517,)) Bool[1, 1, 1, 1, 1, 1, 1, 1, 1, 1  …  0, 0, 0, 0, 0, 0, 0, 0, 0, 0]\n",
      "  n_freq: Int64 1\n"
     ]
    },
    {
     "name": "stderr",
     "output_type": "stream",
     "text": [
      "\u001b[32mProgress: 100%|█████████████████████████████████████████| Time: 2:26:59\u001b[39mm\n"
     ]
    },
    {
     "name": "stdout",
     "output_type": "stream",
     "text": [
      "../dt_tmp_res/20231219_212930.ser\n",
      "Cum index:34\n",
      "Actual ES coverage: 34.42009\n",
      "AFPSurParams\n",
      "  P_test: Float64 0.97\n",
      "  P_sample: Float64 0.53\n",
      "  P_H: Float64 0.9\n",
      "ESParams\n",
      "  g: Float64 0.23025850929940458\n",
      "  P_test: Float64 0.97\n",
      "  area: Array{Bool}((1517,)) Bool[1, 1, 1, 1, 1, 1, 1, 1, 1, 1  …  0, 0, 0, 0, 0, 0, 0, 0, 0, 0]\n",
      "  n_freq: Int64 7\n"
     ]
    },
    {
     "name": "stderr",
     "output_type": "stream",
     "text": [
      "\u001b[32mProgress: 100%|█████████████████████████████████████████| Time: 0:47:24\u001b[39m\n"
     ]
    },
    {
     "name": "stdout",
     "output_type": "stream",
     "text": [
      "../dt_tmp_res/20231219_221654.ser\n",
      "Cum index:34\n",
      "Actual ES coverage: 34.42009\n",
      "AFPSurParams\n",
      "  P_test: Float64 0.97\n",
      "  P_sample: Float64 0.53\n",
      "  P_H: Float64 0.9\n",
      "ESParams\n",
      "  g: Float64 0.23025850929940458\n",
      "  P_test: Float64 0.97\n",
      "  area: Array{Bool}((1517,)) Bool[1, 1, 1, 1, 1, 1, 1, 1, 1, 1  …  0, 0, 0, 0, 0, 0, 0, 0, 0, 0]\n",
      "  n_freq: Int64 14\n"
     ]
    },
    {
     "name": "stderr",
     "output_type": "stream",
     "text": [
      "\u001b[32mProgress: 100%|█████████████████████████████████████████| Time: 0:38:43\u001b[39m\n"
     ]
    },
    {
     "name": "stdout",
     "output_type": "stream",
     "text": [
      "../dt_tmp_res/20231219_225537.ser\n",
      "Cum index:34\n",
      "Actual ES coverage: 34.42009\n",
      "AFPSurParams\n",
      "  P_test: Float64 0.97\n",
      "  P_sample: Float64 0.53\n",
      "  P_H: Float64 0.9\n",
      "ESParams\n",
      "  g: Float64 0.23025850929940458\n",
      "  P_test: Float64 0.97\n",
      "  area: Array{Bool}((1517,)) Bool[1, 1, 1, 1, 1, 1, 1, 1, 1, 1  …  0, 0, 0, 0, 0, 0, 0, 0, 0, 0]\n",
      "  n_freq: Int64 60\n"
     ]
    },
    {
     "name": "stderr",
     "output_type": "stream",
     "text": [
      "\u001b[32mProgress: 100%|█████████████████████████████████████████| Time: 0:36:08\u001b[39m\n"
     ]
    },
    {
     "name": "stdout",
     "output_type": "stream",
     "text": [
      "../dt_tmp_res/20231219_233146.ser\n",
      "Any[\"R0=14.0, α=0.05, pc=0.25, n_sim=10000, pattern=population_size, n_freq=1, path: ../dt_tmp_res/20231219_212930.ser\", \"R0=14.0, α=0.05, pc=0.25, n_sim=10000, pattern=population_size, n_freq=7, path: ../dt_tmp_res/20231219_221654.ser\", \"R0=14.0, α=0.05, pc=0.25, n_sim=10000, pattern=population_size, n_freq=14, path: ../dt_tmp_res/20231219_225537.ser\", \"R0=14.0, α=0.05, pc=0.25, n_sim=10000, pattern=population_size, n_freq=60, path: ../dt_tmp_res/20231219_233146.ser\"]"
     ]
    }
   ],
   "source": [
    "println(\"Sensitivity analysis for sampling frequency ==========================\")\n",
    "summary_info = []\n",
    "path_trans = run_transmission_model(;\n",
    "    R0=R0, α=α, pc=pc, imp_ws=[1.0],\n",
    "    n_sim=n_sim,\n",
    "    path_spatial_params=path_spatial, \n",
    "    pattern=pattern\n",
    ")\n",
    "for n_freq in [1, 7, 14, 60]\n",
    "    par_AFP, par_ES = set_par_AFP_ES(path_spatial_params=path_spatial, pc=pc, n_freq=n_freq)\n",
    "    path_save = sensitivity_all_summary(par_AFP, par_ES; path_trans=path_trans)\n",
    "    rec = \"R0=$(R0), α=$(α), pc=$(pc), n_sim=$(n_sim), pattern=$(pattern), n_freq=$(n_freq), path: $(path_save)\"\n",
    "    push!(summary_info, rec)\n",
    "end\n",
    "remove_all_leaving_one(path_trans)\n",
    "print(summary_info)"
   ]
  },
  {
   "cell_type": "code",
   "execution_count": null,
   "id": "a1173419-6a21-4a08-a4b1-6499d2d3d1dd",
   "metadata": {},
   "outputs": [],
   "source": []
  },
  {
   "cell_type": "code",
   "execution_count": null,
   "id": "7c9e7db0",
   "metadata": {},
   "outputs": [],
   "source": []
  },
  {
   "cell_type": "code",
   "execution_count": null,
   "id": "c6212c73",
   "metadata": {},
   "outputs": [],
   "source": []
  },
  {
   "cell_type": "code",
   "execution_count": null,
   "id": "8fad86d9",
   "metadata": {},
   "outputs": [],
   "source": []
  },
  {
   "cell_type": "code",
   "execution_count": null,
   "id": "f5253f44",
   "metadata": {},
   "outputs": [],
   "source": []
  },
  {
   "cell_type": "code",
   "execution_count": null,
   "id": "db3b31ef",
   "metadata": {},
   "outputs": [],
   "source": []
  },
  {
   "cell_type": "code",
   "execution_count": null,
   "id": "88611452",
   "metadata": {},
   "outputs": [],
   "source": []
  },
  {
   "cell_type": "code",
   "execution_count": null,
   "id": "350257bd",
   "metadata": {
    "lines_to_next_cell": 2
   },
   "outputs": [],
   "source": []
  }
 ],
 "metadata": {
  "jupytext": {
   "encoding": "# -*- coding: utf-8 -*-"
  },
  "kernelspec": {
   "display_name": "Julia 1.8.3",
   "language": "julia",
   "name": "julia-1.8"
  },
  "language_info": {
   "file_extension": ".jl",
   "mimetype": "application/julia",
   "name": "julia",
   "version": "1.8.3"
  }
 },
 "nbformat": 4,
 "nbformat_minor": 5
}

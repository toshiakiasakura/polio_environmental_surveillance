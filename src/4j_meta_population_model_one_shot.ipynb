{
 "cells": [
  {
   "cell_type": "code",
   "execution_count": 1,
   "id": "26b19426",
   "metadata": {},
   "outputs": [
    {
     "data": {
      "text/plain": [
       "validate_meta_population_model"
      ]
     },
     "execution_count": 1,
     "metadata": {},
     "output_type": "execute_result"
    }
   ],
   "source": [
    "using ArchGDAL\n",
    "using FreqTables\n",
    "using LinearAlgebra\n",
    "using DataFrames\n",
    "using Dates\n",
    "using Pipe\n",
    "using Plots\n",
    "using Rasters\n",
    "using Serialization\n",
    "using SparseArrays\n",
    "\n",
    "include(\"util.jl\")\n",
    "include(\"geo_ana.jl\")\n",
    "include(\"model_meta_pop.jl\")\n",
    "include(\"main_model_meta_pop.jl\")"
   ]
  },
  {
   "cell_type": "code",
   "execution_count": 2,
   "id": "60aa701e",
   "metadata": {},
   "outputs": [
    {
     "data": {
      "text/plain": [
       "\"../dt_tmp/spatial_params_agg230.ser\""
      ]
     },
     "execution_count": 2,
     "metadata": {},
     "output_type": "execute_result"
    }
   ],
   "source": [
    "path_spatial = \"../dt_tmp/spatial_params_agg230.ser\""
   ]
  },
  {
   "cell_type": "markdown",
   "id": "ae088f93",
   "metadata": {},
   "source": [
    "## International airport location, index "
   ]
  },
  {
   "cell_type": "code",
   "execution_count": 3,
   "id": "465838cb",
   "metadata": {},
   "outputs": [
    {
     "name": "stdout",
     "output_type": "stream",
     "text": [
      "argmin(dist): 11, dist: 9.631110668981826\n",
      "argmin(dist): 7, dist: 5.508420257007044\n",
      "argmin(dist): 62, dist: 8.80101225388816\n"
     ]
    }
   ],
   "source": [
    "sp_pars = deserialize(path_spatial)\n",
    "df = sp_pars.df\n",
    "# Tambo International\n",
    "lat = -26.12825796201514\n",
    "lon = 28.242074092511\n",
    "dist = harversine_dist.(lat, lon, df[:, :lat], df[:, :lon]) \n",
    "println(\"argmin(dist): $(argmin(dist)), dist: $(dist[argmin(dist)])\")\n",
    "\n",
    "# Cape Town \n",
    "lat =  -33.970502228847884\n",
    "lon = 18.600228711334545\n",
    "dist = harversine_dist.(lat, lon, df[:, :lat], df[:, :lon]) \n",
    "println(\"argmin(dist): $(argmin(dist)), dist: $(dist[argmin(dist)])\")\n",
    "\n",
    "# King Shaka \n",
    "lat =  -29.608764960536764\n",
    "lon = 31.115368797913593\n",
    "dist = harversine_dist.(lat, lon, df[:, :lat], df[:, :lon]) \n",
    "println(\"argmin(dist): $(argmin(dist)), dist: $(dist[argmin(dist)])\")\n",
    "\n"
   ]
  },
  {
   "cell_type": "markdown",
   "id": "cb310219",
   "metadata": {},
   "source": [
    "# Transmission model "
   ]
  },
  {
   "cell_type": "code",
   "execution_count": 4,
   "id": "50501640",
   "metadata": {},
   "outputs": [
    {
     "data": {
      "text/plain": [
       "5000"
      ]
     },
     "execution_count": 4,
     "metadata": {},
     "output_type": "execute_result"
    }
   ],
   "source": [
    "n_sim = 5000"
   ]
  },
  {
   "cell_type": "code",
   "execution_count": 5,
   "id": "f8c90dd1",
   "metadata": {},
   "outputs": [
    {
     "data": {
      "text/plain": [
       "1.0"
      ]
     },
     "execution_count": 5,
     "metadata": {},
     "output_type": "execute_result"
    }
   ],
   "source": [
    "R0 = 14.0\n",
    "α = 0.05\n",
    "#pc = 0.25\n",
    "pc = 1.0"
   ]
  },
  {
   "cell_type": "code",
   "execution_count": 6,
   "id": "f378a1ba",
   "metadata": {},
   "outputs": [],
   "source": [
    "imp_ws_moz = CSV.read(\"../data/imp_ws_moz.csv\", DataFrame, header=false)[:,1]\n",
    "imp_ws_airport = CSV.read(\"../data/imp_ws_airport.csv\", DataFrame, header=false)[:,1]\n",
    "nothing"
   ]
  },
  {
   "cell_type": "code",
   "execution_count": 7,
   "id": "9a90f26f",
   "metadata": {},
   "outputs": [
    {
     "data": {
      "text/plain": [
       "validate_meta_population_model"
      ]
     },
     "execution_count": 7,
     "metadata": {},
     "output_type": "execute_result"
    }
   ],
   "source": [
    "include(\"model_meta_pop.jl\")\n",
    "include(\"main_model_meta_pop.jl\")"
   ]
  },
  {
   "cell_type": "code",
   "execution_count": 8,
   "id": "cec2e5a2",
   "metadata": {},
   "outputs": [
    {
     "data": {
      "text/plain": [
       "run_all_patterns (generic function with 1 method)"
      ]
     },
     "execution_count": 8,
     "metadata": {},
     "output_type": "execute_result"
    }
   ],
   "source": [
    "function post_processing(path_trans, path_spatial, pc)\n",
    "    par_AFP, par_ES = set_par_AFP_ES(path_spatial_params=path_spatial, pc=pc)\n",
    "    path_save = sensitivity_all_summary(par_AFP, par_ES; path_trans=path_trans)\n",
    "    validate_meta_population_model(path_trans, path_spatial)\n",
    "    remove_all_leaving_one(path_trans)\n",
    "    return path_save\n",
    "end\n",
    "\n",
    "function run_all_patterns(;\n",
    "        R0=1.0, α=0.05, pc=1.0, \n",
    "        imp_ws_moz=[1.0], imp_ws_airport=[1.0],\n",
    "        n_sim=100,\n",
    "        path_spatial=\"\"\n",
    "    )\n",
    "    summary_info = []\n",
    "    for pattern in [\"population_size\", \"airport\", \"mozambique\"]\n",
    "        imp_ws = pattern==\"airport\" ? imp_ws_airport : imp_ws_moz\n",
    "        path_trans = run_transmission_model(;\n",
    "            R0=R0, α=α, pc=pc, imp_ws=imp_ws,\n",
    "            n_sim=n_sim,\n",
    "            path_spatial_params=path_spatial, \n",
    "            pattern=pattern\n",
    "        )\n",
    "        path_save = post_processing(path_trans, path_spatial, pc)\n",
    "        rec = \"R0=$(R0), α=$(α), pc=$(pc), n_sim=$(n_sim), pattern=$(pattern), path: $(path_save)\"\n",
    "        push!(summary_info, rec)\n",
    "    end\n",
    "    println(summary_info)\n",
    "end"
   ]
  },
  {
   "cell_type": "code",
   "execution_count": 9,
   "id": "0e7da71c",
   "metadata": {},
   "outputs": [
    {
     "name": "stdout",
     "output_type": "stream",
     "text": [
      "# of sites: 1517\n",
      "SEIRMetaModelParams\n",
      "  R0: Float64 14.0\n",
      "  γ1: Float64 0.25\n",
      "  γ2: Float64 0.06657789613848203\n",
      "  σ: Float64 0.3291\n",
      "  P_AFP: Float64 0.005\n",
      "  N_tot: Array{Int64}((1517,)) [176661, 132438, 110952, 102279, 96377, 93257, 81002, 79789, 74368, 71796  …  103, 102, 102, 102, 102, 102, 102, 101, 101, 101]\n",
      "  N_unvac: Array{Int64}((1517,)) [9009, 7004, 10801, 6729, 6341, 22933, 4284, 4219, 4893, 3975  …  4, 7, 7, 19, 19, 12, 12, 6, 7, 4]\n",
      "  I0_init: Int64 1\n",
      "  I0_ind: Int64 1\n",
      "  days: Int64 1095\n",
      "  n_site: Int64 1517\n",
      "  α: Float64 0.05\n",
      "  π_mat: Array{Float64}((1517, 1517)) [0.0 0.0008134913063202908 … 6.780709468953783e-7 4.898477234903362e-6; 0.0034150940977343493 0.0 … 4.753101976878339e-5 4.686095869451221e-6; … ; 1.9892426060623706e-6 0.00011196468975607586 … 0.0 3.3899886725864443e-9; 2.770651210640693e-5 4.626887381318493e-7 … 3.88258866975442e-10 0.0]\n",
      "  μ: Float64 0.000547945205479452\n",
      "  β: Float64 0.9320905459387484\n",
      "  pc: Float64 1.0\n",
      "  imp_ws: Array{Float64}((1517,)) [0.008118865248098144, 0.001308311070857317, 0.005016205811157911, 0.008839855469100674, 0.005715370978607966, 0.005693415280599853, 0.0007746729109454481, 0.0007595878068455701, 0.0048183426616435964, 0.004246523050887251  …  7.087670356928607e-6, 1.0943681387494426e-6, 2.56766706596476e-6, 3.1766535491673982e-6, 3.3599332727479223e-6, 7.378636815646887e-5, 0.00044050249091806385, 1.0646982894584665e-6, 1.1425490077361494e-6, 3.337992838541401e-6]\n",
      "Average vaccination coverage: 0.91933835\n",
      "../dt_tmp/20231121_212652\n"
     ]
    },
    {
     "name": "stderr",
     "output_type": "stream",
     "text": [
      "\u001b[32mProgress: 100%|█████████████████████████████████████████| Time: 1:39:21\u001b[39m\n"
     ]
    },
    {
     "name": "stdout",
     "output_type": "stream",
     "text": [
      "5961.869641 seconds (57.23 M allocations: 16.024 TiB, 2.08% gc time, 0.01% compilation time)\n",
      "Cum index:4\n",
      "Actual ES coverage: 9.227133\n",
      "AFPSurParams\n",
      "  P_test: Float64 0.97\n",
      "  P_sample: Float64 0.53\n",
      "  P_H: Float64 0.9\n",
      "ESParams\n",
      "  g: Float64 0.23025850929940458\n",
      "  P_test: Float64 0.97\n",
      "  area: Array{Bool}((1517,)) Bool[1, 1, 1, 1, 0, 0, 0, 0, 0, 0  …  0, 0, 0, 0, 0, 0, 0, 0, 0, 0]\n",
      "  n_freq: Int64 30\n"
     ]
    },
    {
     "name": "stderr",
     "output_type": "stream",
     "text": [
      "\u001b[32mProgress: 100%|█████████████████████████████████████████| Time: 0:18:17\u001b[39m\n"
     ]
    },
    {
     "name": "stdout",
     "output_type": "stream",
     "text": [
      "../dt_tmp_res/20231121_232432.ser\n"
     ]
    },
    {
     "name": "stderr",
     "output_type": "stream",
     "text": [
      "\u001b[32mProgress: 100%|█████████████████████████████████████████| Time: 0:02:59\u001b[39m\n"
     ]
    },
    {
     "name": "stdout",
     "output_type": "stream",
     "text": [
      "# of sites: 1517\n",
      "SEIRMetaModelParams\n",
      "  R0: Float64 14.0\n",
      "  γ1: Float64 0.25\n",
      "  γ2: Float64 0.06657789613848203\n",
      "  σ: Float64 0.3291\n",
      "  P_AFP: Float64 0.005\n",
      "  N_tot: Array{Int64}((1517,)) [176661, 132438, 110952, 102279, 96377, 93257, 81002, 79789, 74368, 71796  …  103, 102, 102, 102, 102, 102, 102, 101, 101, 101]\n",
      "  N_unvac: Array{Int64}((1517,)) [9009, 7004, 10801, 6729, 6341, 22933, 4284, 4219, 4893, 3975  …  4, 7, 7, 19, 19, 12, 12, 6, 7, 4]\n",
      "  I0_init: Int64 1\n",
      "  I0_ind: Int64 1\n",
      "  days: Int64 1095\n",
      "  n_site: Int64 1517\n",
      "  α: Float64 0.05\n",
      "  π_mat: Array{Float64}((1517, 1517)) [0.0 0.0008134913063202908 … 6.780709468953783e-7 4.898477234903362e-6; 0.0034150940977343493 0.0 … 4.753101976878339e-5 4.686095869451221e-6; … ; 1.9892426060623706e-6 0.00011196468975607586 … 0.0 3.3899886725864443e-9; 2.770651210640693e-5 4.626887381318493e-7 … 3.88258866975442e-10 0.0]\n",
      "  μ: Float64 0.000547945205479452\n",
      "  β: Float64 0.9320905459387484\n",
      "  pc: Float64 1.0\n",
      "  imp_ws: Array{Float64}((1517,)) [0.030825322306693336, 0.062366029789115235, 0.0025559812560510113, 0.09269268964594678, 0.244487027394833, 0.030911695613152285, 0.03620987406242972, 0.01390388465628853, 0.020654763061548172, 0.002882118301306632  …  2.3549136646666184e-6, 7.480190842367117e-6, 1.5591655598726787e-6, 2.5469574916550207e-6, 2.4097252433886502e-6, 1.619492499909757e-6, 7.859165399764823e-7, 6.916381959261366e-6, 6.6426201245801704e-6, 2.255189133636181e-6]\n",
      "Average vaccination coverage: 0.91933835\n",
      "../dt_tmp/20231121_232812\n"
     ]
    },
    {
     "name": "stderr",
     "output_type": "stream",
     "text": [
      "\u001b[32mProgress: 100%|█████████████████████████████████████████| Time: 0:45:10\u001b[39m\n"
     ]
    },
    {
     "name": "stdout",
     "output_type": "stream",
     "text": [
      "2712.545426 seconds (34.42 M allocations: 8.283 TiB, 1.29% gc time)\n",
      "Cum index:4\n",
      "Actual ES coverage: 9.227133\n",
      "AFPSurParams\n",
      "  P_test: Float64 0.97\n",
      "  P_sample: Float64 0.53\n",
      "  P_H: Float64 0.9\n",
      "ESParams\n",
      "  g: Float64 0.23025850929940458\n",
      "  P_test: Float64 0.97\n",
      "  area: Array{Bool}((1517,)) Bool[1, 1, 1, 1, 0, 0, 0, 0, 0, 0  …  0, 0, 0, 0, 0, 0, 0, 0, 0, 0]\n",
      "  n_freq: Int64 30\n"
     ]
    },
    {
     "name": "stderr",
     "output_type": "stream",
     "text": [
      "\u001b[32mProgress: 100%|█████████████████████████████████████████| Time: 0:17:06\u001b[39m\n"
     ]
    },
    {
     "name": "stdout",
     "output_type": "stream",
     "text": [
      "../dt_tmp_res/20231122_003029.ser\n"
     ]
    },
    {
     "name": "stderr",
     "output_type": "stream",
     "text": [
      "\u001b[32mProgress: 100%|█████████████████████████████████████████| Time: 0:02:47\u001b[39m\n"
     ]
    },
    {
     "name": "stdout",
     "output_type": "stream",
     "text": [
      "# of sites: 1517\n",
      "SEIRMetaModelParams\n",
      "  R0: Float64 14.0\n",
      "  γ1: Float64 0.25\n",
      "  γ2: Float64 0.06657789613848203\n",
      "  σ: Float64 0.3291\n",
      "  P_AFP: Float64 0.005\n",
      "  N_tot: Array{Int64}((1517,)) [176661, 132438, 110952, 102279, 96377, 93257, 81002, 79789, 74368, 71796  …  103, 102, 102, 102, 102, 102, 102, 101, 101, 101]\n",
      "  N_unvac: Array{Int64}((1517,)) [9009, 7004, 10801, 6729, 6341, 22933, 4284, 4219, 4893, 3975  …  4, 7, 7, 19, 19, 12, 12, 6, 7, 4]\n",
      "  I0_init: Int64 1\n",
      "  I0_ind: Int64 1\n",
      "  days: Int64 1095\n",
      "  n_site: Int64 1517\n",
      "  α: Float64 0.05\n",
      "  π_mat: Array{Float64}((1517, 1517)) [0.0 0.0008134913063202908 … 6.780709468953783e-7 4.898477234903362e-6; 0.0034150940977343493 0.0 … 4.753101976878339e-5 4.686095869451221e-6; … ; 1.9892426060623706e-6 0.00011196468975607586 … 0.0 3.3899886725864443e-9; 2.770651210640693e-5 4.626887381318493e-7 … 3.88258866975442e-10 0.0]\n",
      "  μ: Float64 0.000547945205479452\n",
      "  β: Float64 0.9320905459387484\n",
      "  pc: Float64 1.0\n",
      "  imp_ws: Array{Float64}((1517,)) [0.008118865248098144, 0.001308311070857317, 0.005016205811157911, 0.008839855469100674, 0.005715370978607966, 0.005693415280599853, 0.0007746729109454481, 0.0007595878068455701, 0.0048183426616435964, 0.004246523050887251  …  7.087670356928607e-6, 1.0943681387494426e-6, 2.56766706596476e-6, 3.1766535491673982e-6, 3.3599332727479223e-6, 7.378636815646887e-5, 0.00044050249091806385, 1.0646982894584665e-6, 1.1425490077361494e-6, 3.337992838541401e-6]\n",
      "Average vaccination coverage: 0.91933835\n",
      "../dt_tmp/20231122_003350\n"
     ]
    },
    {
     "name": "stderr",
     "output_type": "stream",
     "text": [
      "\u001b[32mProgress: 100%|█████████████████████████████████████████| Time: 2:11:23\u001b[39m\n"
     ]
    },
    {
     "name": "stdout",
     "output_type": "stream",
     "text": [
      "7883.475204 seconds (84.04 M allocations: 26.112 TiB, 0.94% gc time)\n",
      "Cum index:4\n",
      "Actual ES coverage: 9.227133\n",
      "AFPSurParams\n",
      "  P_test: Float64 0.97\n",
      "  P_sample: Float64 0.53\n",
      "  P_H: Float64 0.9\n",
      "ESParams\n",
      "  g: Float64 0.23025850929940458\n",
      "  P_test: Float64 0.97\n",
      "  area: Array{Bool}((1517,)) Bool[1, 1, 1, 1, 0, 0, 0, 0, 0, 0  …  0, 0, 0, 0, 0, 0, 0, 0, 0, 0]\n",
      "  n_freq: Int64 30\n"
     ]
    },
    {
     "name": "stderr",
     "output_type": "stream",
     "text": [
      "\u001b[32mProgress: 100%|█████████████████████████████████████████| Time: 0:16:19\u001b[39m\n"
     ]
    },
    {
     "name": "stdout",
     "output_type": "stream",
     "text": [
      "../dt_tmp_res/20231122_030134.ser\n"
     ]
    },
    {
     "name": "stderr",
     "output_type": "stream",
     "text": [
      "\u001b[32mProgress: 100%|█████████████████████████████████████████| Time: 0:02:55\u001b[39m\n"
     ]
    },
    {
     "name": "stdout",
     "output_type": "stream",
     "text": [
      "Any[\"R0=14.0, α=0.05, pc=1.0, n_sim=5000, pattern=population_size, path: ../dt_tmp_res/20231121_232432.ser\", \"R0=14.0, α=0.05, pc=1.0, n_sim=5000, pattern=airport, path: ../dt_tmp_res/20231122_003029.ser\", \"R0=14.0, α=0.05, pc=1.0, n_sim=5000, pattern=mozambique, path: ../dt_tmp_res/20231122_030134.ser\"]\n"
     ]
    }
   ],
   "source": [
    "run_all_patterns(\n",
    "    R0=R0, α=α, pc=pc, imp_ws_moz=imp_ws_moz, imp_ws_airport=imp_ws_airport, \n",
    "    n_sim=n_sim,\n",
    "    path_spatial=path_spatial,\n",
    "    )"
   ]
  },
  {
   "cell_type": "markdown",
   "id": "6f69d72e",
   "metadata": {},
   "source": [
    "## Sensitivity analysis "
   ]
  },
  {
   "cell_type": "code",
   "execution_count": 9,
   "id": "1fec5959",
   "metadata": {},
   "outputs": [
    {
     "name": "stdout",
     "output_type": "stream",
     "text": [
      "# of sites: 1517\n",
      "SEIRMetaModelParams\n",
      "  R0: Float64 10.0\n",
      "  γ1: Float64 0.25\n",
      "  γ2: Float64 0.06657789613848203\n",
      "  σ: Float64 0.3291\n",
      "  P_AFP: Float64 0.005\n",
      "  N_tot: Array{Int64}((1517,)) [176661, 132438, 110952, 102279, 96377, 93257, 81002, 79789, 74368, 71796  …  103, 102, 102, 102, 102, 102, 102, 101, 101, 101]\n",
      "  N_unvac: Array{Int64}((1517,)) [9009, 7004, 10801, 6729, 6341, 22933, 4284, 4219, 4893, 3975  …  4, 7, 7, 19, 19, 12, 12, 6, 7, 4]\n",
      "  I0_init: Int64 1\n",
      "  I0_ind: Int64 1\n",
      "  days: Int64 1095\n",
      "  n_site: Int64 1517\n",
      "  α: Float64 0.05\n",
      "  π_mat: Array{Float64}((1517, 1517)) [0.0 0.0008134913063202908 … 6.780709468953783e-7 4.898477234903362e-6; 0.0034150940977343493 0.0 … 4.753101976878339e-5 4.686095869451221e-6; … ; 1.9892426060623706e-6 0.00011196468975607586 … 0.0 3.3899886725864443e-9; 2.770651210640693e-5 4.626887381318493e-7 … 3.88258866975442e-10 0.0]\n",
      "  μ: Float64 0.000547945205479452\n",
      "  β: Float64 0.6657789613848203\n",
      "  pc: Float64 0.25\n",
      "  imp_ws: Array{Float64}((1,)) [1.0]\n",
      "Average vaccination coverage: 0.91933835\n",
      "../dt_tmp/20231117_081943\n"
     ]
    },
    {
     "name": "stderr",
     "output_type": "stream",
     "text": [
      "\u001b[32mProgress: 100%|█████████████████████████████████████████| Time: 1:29:01\u001b[39m\n"
     ]
    },
    {
     "name": "stdout",
     "output_type": "stream",
     "text": [
      "3896.873467 seconds (37.18 M allocations: 8.799 TiB, 2.31% gc time, 0.01% compilation time)\n",
      "Cum index:34\n",
      "Actual ES coverage: 34.42009\n",
      "AFPSurParams\n",
      "  P_test: Float64 0.97\n",
      "  P_sample: Float64 0.53\n",
      "  P_H: Float64 0.9\n",
      "ESParams\n",
      "  g: Float64 0.23025850929940458\n",
      "  P_test: Float64 0.97\n",
      "  area: Array{Bool}((1517,)) Bool[1, 1, 1, 1, 1, 1, 1, 1, 1, 1  …  0, 0, 0, 0, 0, 0, 0, 0, 0, 0]\n",
      "  n_freq: Int64 30\n"
     ]
    },
    {
     "name": "stderr",
     "output_type": "stream",
     "text": [
      "\u001b[32mProgress: 100%|█████████████████████████████████████████| Time: 0:23:25\u001b[39m\n"
     ]
    },
    {
     "name": "stdout",
     "output_type": "stream",
     "text": [
      "../dt_tmp_res/20231117_101212.ser\n"
     ]
    },
    {
     "name": "stderr",
     "output_type": "stream",
     "text": [
      "\u001b[32mProgress: 100%|█████████████████████████████████████████| Time: 0:14:58\u001b[39m\n"
     ]
    },
    {
     "name": "stdout",
     "output_type": "stream",
     "text": [
      "# of sites: 1517\n",
      "SEIRMetaModelParams\n",
      "  R0: Float64 12.0\n",
      "  γ1: Float64 0.25\n",
      "  γ2: Float64 0.06657789613848203\n",
      "  σ: Float64 0.3291\n",
      "  P_AFP: Float64 0.005\n",
      "  N_tot: Array{Int64}((1517,)) [176661, 132438, 110952, 102279, 96377, 93257, 81002, 79789, 74368, 71796  …  103, 102, 102, 102, 102, 102, 102, 101, 101, 101]\n",
      "  N_unvac: Array{Int64}((1517,)) [9009, 7004, 10801, 6729, 6341, 22933, 4284, 4219, 4893, 3975  …  4, 7, 7, 19, 19, 12, 12, 6, 7, 4]\n",
      "  I0_init: Int64 1\n",
      "  I0_ind: Int64 1\n",
      "  days: Int64 1095\n",
      "  n_site: Int64 1517\n",
      "  α: Float64 0.05\n",
      "  π_mat: Array{Float64}((1517, 1517)) [0.0 0.0008134913063202908 … 6.780709468953783e-7 4.898477234903362e-6; 0.0034150940977343493 0.0 … 4.753101976878339e-5 4.686095869451221e-6; … ; 1.9892426060623706e-6 0.00011196468975607586 … 0.0 3.3899886725864443e-9; 2.770651210640693e-5 4.626887381318493e-7 … 3.88258866975442e-10 0.0]\n",
      "  μ: Float64 0.000547945205479452\n",
      "  β: Float64 0.7989347536617843\n",
      "  pc: Float64 0.25\n",
      "  imp_ws: Array{Float64}((1,)) [1.0]\n",
      "Average vaccination coverage: 0.91933835\n",
      "../dt_tmp/20231117_102811\n"
     ]
    },
    {
     "name": "stderr",
     "output_type": "stream",
     "text": [
      "\u001b[32mProgress: 100%|█████████████████████████████████████████| Time: 1:30:49\u001b[39m\n"
     ]
    },
    {
     "name": "stdout",
     "output_type": "stream",
     "text": [
      "5449.647962 seconds (46.19 M allocations: 12.508 TiB, 1.43% gc time)\n",
      "Cum index:34\n",
      "Actual ES coverage: 34.42009\n",
      "AFPSurParams\n",
      "  P_test: Float64 0.97\n",
      "  P_sample: Float64 0.53\n",
      "  P_H: Float64 0.9\n",
      "ESParams\n",
      "  g: Float64 0.23025850929940458\n",
      "  P_test: Float64 0.97\n",
      "  area: Array{Bool}((1517,)) Bool[1, 1, 1, 1, 1, 1, 1, 1, 1, 1  …  0, 0, 0, 0, 0, 0, 0, 0, 0, 0]\n",
      "  n_freq: Int64 30\n"
     ]
    },
    {
     "name": "stderr",
     "output_type": "stream",
     "text": [
      "\u001b[32mProgress: 100%|█████████████████████████████████████████| Time: 0:23:52\u001b[39m\n"
     ]
    },
    {
     "name": "stdout",
     "output_type": "stream",
     "text": [
      "../dt_tmp_res/20231117_122254.ser\n"
     ]
    },
    {
     "name": "stderr",
     "output_type": "stream",
     "text": [
      "\u001b[32mProgress: 100%|█████████████████████████████████████████| Time: 0:05:46\u001b[39m\n"
     ]
    },
    {
     "name": "stdout",
     "output_type": "stream",
     "text": [
      "# of sites: 1517\n",
      "SEIRMetaModelParams\n",
      "  R0: Float64 16.0\n",
      "  γ1: Float64 0.25\n",
      "  γ2: Float64 0.06657789613848203\n",
      "  σ: Float64 0.3291\n",
      "  P_AFP: Float64 0.005\n",
      "  N_tot: Array{Int64}((1517,)) [176661, 132438, 110952, 102279, 96377, 93257, 81002, 79789, 74368, 71796  …  103, 102, 102, 102, 102, 102, 102, 101, 101, 101]\n",
      "  N_unvac: Array{Int64}((1517,)) [9009, 7004, 10801, 6729, 6341, 22933, 4284, 4219, 4893, 3975  …  4, 7, 7, 19, 19, 12, 12, 6, 7, 4]\n",
      "  I0_init: Int64 1\n",
      "  I0_ind: Int64 1\n",
      "  days: Int64 1095\n",
      "  n_site: Int64 1517\n",
      "  α: Float64 0.05\n",
      "  π_mat: Array{Float64}((1517, 1517)) [0.0 0.0008134913063202908 … 6.780709468953783e-7 4.898477234903362e-6; 0.0034150940977343493 0.0 … 4.753101976878339e-5 4.686095869451221e-6; … ; 1.9892426060623706e-6 0.00011196468975607586 … 0.0 3.3899886725864443e-9; 2.770651210640693e-5 4.626887381318493e-7 … 3.88258866975442e-10 0.0]\n",
      "  μ: Float64 0.000547945205479452\n",
      "  β: Float64 1.0652463382157125\n",
      "  pc: Float64 0.25\n",
      "  imp_ws: Array{Float64}((1,)) [1.0]\n",
      "Average vaccination coverage: 0.91933835\n",
      "../dt_tmp/20231117_122930\n"
     ]
    },
    {
     "name": "stderr",
     "output_type": "stream",
     "text": [
      "\u001b[32mProgress: 100%|█████████████████████████████████████████| Time: 2:39:02\u001b[39mm\n"
     ]
    },
    {
     "name": "stdout",
     "output_type": "stream",
     "text": [
      "9499.328785 seconds (72.45 M allocations: 21.943 TiB, 1.02% gc time)\n",
      "Cum index:34\n",
      "Actual ES coverage: 34.42009\n",
      "AFPSurParams\n",
      "  P_test: Float64 0.97\n",
      "  P_sample: Float64 0.53\n",
      "  P_H: Float64 0.9\n",
      "ESParams\n",
      "  g: Float64 0.23025850929940458\n",
      "  P_test: Float64 0.97\n",
      "  area: Array{Bool}((1517,)) Bool[1, 1, 1, 1, 1, 1, 1, 1, 1, 1  …  0, 0, 0, 0, 0, 0, 0, 0, 0, 0]\n",
      "  n_freq: Int64 30\n"
     ]
    },
    {
     "name": "stderr",
     "output_type": "stream",
     "text": [
      "\u001b[32mProgress: 100%|█████████████████████████████████████████| Time: 0:21:07\u001b[39m\n"
     ]
    },
    {
     "name": "stdout",
     "output_type": "stream",
     "text": [
      "../dt_tmp_res/20231117_152940.ser\n"
     ]
    },
    {
     "name": "stderr",
     "output_type": "stream",
     "text": [
      "\u001b[32mProgress: 100%|█████████████████████████████████████████| Time: 0:05:50\u001b[39m\n"
     ]
    },
    {
     "name": "stdout",
     "output_type": "stream",
     "text": [
      "Any[\"R0=14.0, α=0.05, pc=0.25, n_sim=5000, pattern=population_size, path: ../dt_tmp_res/20231117_101212.ser\", \"R0=14.0, α=0.05, pc=0.25, n_sim=5000, pattern=population_size, path: ../dt_tmp_res/20231117_122254.ser\", \"R0=14.0, α=0.05, pc=0.25, n_sim=5000, pattern=population_size, path: ../dt_tmp_res/20231117_152940.ser\"]\n"
     ]
    }
   ],
   "source": [
    "summary_info = []\n",
    "pattern = \"population_size\"\n",
    "for R0_sens in [10, 12, 16]\n",
    "    path_trans = run_transmission_model(;\n",
    "        R0=R0_sens, α=α, pc=pc, imp_ws=[1.0],\n",
    "        n_sim=n_sim,\n",
    "        path_spatial_params=path_spatial, \n",
    "        pattern=pattern\n",
    "    )\n",
    "    path_save = post_processing(path_trans, path_spatial, pc)\n",
    "    rec = \"R0=$(R0_sens), α=$(α), pc=$(pc), n_sim=$(n_sim), pattern=$(pattern), path: $(path_save)\"\n",
    "    push!(summary_info, rec)\n",
    "end\n",
    "println(summary_info)"
   ]
  },
  {
   "cell_type": "code",
   "execution_count": 10,
   "id": "847c51f8",
   "metadata": {},
   "outputs": [
    {
     "name": "stdout",
     "output_type": "stream",
     "text": [
      "# of sites: 1517\n",
      "SEIRMetaModelParams\n",
      "  R0: Float64 14.0\n",
      "  γ1: Float64 0.25\n",
      "  γ2: Float64 0.06657789613848203\n",
      "  σ: Float64 0.3291\n",
      "  P_AFP: Float64 0.005\n",
      "  N_tot: Array{Int64}((1517,)) [176661, 132438, 110952, 102279, 96377, 93257, 81002, 79789, 74368, 71796  …  103, 102, 102, 102, 102, 102, 102, 101, 101, 101]\n",
      "  N_unvac: Array{Int64}((1517,)) [9009, 7004, 10801, 6729, 6341, 22933, 4284, 4219, 4893, 3975  …  4, 7, 7, 19, 19, 12, 12, 6, 7, 4]\n",
      "  I0_init: Int64 1\n",
      "  I0_ind: Int64 1\n",
      "  days: Int64 1095\n",
      "  n_site: Int64 1517\n",
      "  α: Float64 0.005\n",
      "  π_mat: Array{Float64}((1517, 1517)) [0.0 0.0008134913063202908 … 6.780709468953783e-7 4.898477234903362e-6; 0.0034150940977343493 0.0 … 4.753101976878339e-5 4.686095869451221e-6; … ; 1.9892426060623706e-6 0.00011196468975607586 … 0.0 3.3899886725864443e-9; 2.770651210640693e-5 4.626887381318493e-7 … 3.88258866975442e-10 0.0]\n",
      "  μ: Float64 0.000547945205479452\n",
      "  β: Float64 0.9320905459387484\n",
      "  pc: Float64 0.25\n",
      "  imp_ws: Array{Float64}((1,)) [1.0]\n",
      "Average vaccination coverage: 0.91933835\n",
      "../dt_tmp/20231117_153625\n"
     ]
    },
    {
     "name": "stderr",
     "output_type": "stream",
     "text": [
      "\u001b[32mProgress: 100%|█████████████████████████████████████████| Time: 1:31:16\u001b[39m\n"
     ]
    },
    {
     "name": "stdout",
     "output_type": "stream",
     "text": [
      "5476.525449 seconds (48.54 M allocations: 13.345 TiB, 0.96% gc time)\n",
      "Cum index:34\n",
      "Actual ES coverage: 34.42009\n",
      "AFPSurParams\n",
      "  P_test: Float64 0.97\n",
      "  P_sample: Float64 0.53\n",
      "  P_H: Float64 0.9\n",
      "ESParams\n",
      "  g: Float64 0.23025850929940458\n",
      "  P_test: Float64 0.97\n",
      "  area: Array{Bool}((1517,)) Bool[1, 1, 1, 1, 1, 1, 1, 1, 1, 1  …  0, 0, 0, 0, 0, 0, 0, 0, 0, 0]\n",
      "  n_freq: Int64 30\n"
     ]
    },
    {
     "name": "stderr",
     "output_type": "stream",
     "text": [
      "\u001b[32mProgress: 100%|█████████████████████████████████████████| Time: 0:20:13\u001b[39m\n"
     ]
    },
    {
     "name": "stdout",
     "output_type": "stream",
     "text": [
      "../dt_tmp_res/20231117_172755.ser\n"
     ]
    },
    {
     "name": "stderr",
     "output_type": "stream",
     "text": [
      "\u001b[32mProgress: 100%|█████████████████████████████████████████| Time: 0:03:33\u001b[39m\n"
     ]
    },
    {
     "name": "stdout",
     "output_type": "stream",
     "text": [
      "# of sites: 1517\n",
      "SEIRMetaModelParams\n",
      "  R0: Float64 14.0\n",
      "  γ1: Float64 0.25\n",
      "  γ2: Float64 0.06657789613848203\n",
      "  σ: Float64 0.3291\n",
      "  P_AFP: Float64 0.005\n",
      "  N_tot: Array{Int64}((1517,)) [176661, 132438, 110952, 102279, 96377, 93257, 81002, 79789, 74368, 71796  …  103, 102, 102, 102, 102, 102, 102, 101, 101, 101]\n",
      "  N_unvac: Array{Int64}((1517,)) [9009, 7004, 10801, 6729, 6341, 22933, 4284, 4219, 4893, 3975  …  4, 7, 7, 19, 19, 12, 12, 6, 7, 4]\n",
      "  I0_init: Int64 1\n",
      "  I0_ind: Int64 1\n",
      "  days: Int64 1095\n",
      "  n_site: Int64 1517\n",
      "  α: Float64 0.01\n",
      "  π_mat: Array{Float64}((1517, 1517)) [0.0 0.0008134913063202908 … 6.780709468953783e-7 4.898477234903362e-6; 0.0034150940977343493 0.0 … 4.753101976878339e-5 4.686095869451221e-6; … ; 1.9892426060623706e-6 0.00011196468975607586 … 0.0 3.3899886725864443e-9; 2.770651210640693e-5 4.626887381318493e-7 … 3.88258866975442e-10 0.0]\n",
      "  μ: Float64 0.000547945205479452\n",
      "  β: Float64 0.9320905459387484\n",
      "  pc: Float64 0.25\n",
      "  imp_ws: Array{Float64}((1,)) [1.0]\n",
      "Average vaccination coverage: 0.91933835\n",
      "../dt_tmp/20231117_173214\n"
     ]
    },
    {
     "name": "stderr",
     "output_type": "stream",
     "text": [
      "\u001b[32mProgress: 100%|█████████████████████████████████████████| Time: 1:26:45\u001b[39m\n"
     ]
    },
    {
     "name": "stdout",
     "output_type": "stream",
     "text": [
      "5205.332637 seconds (50.90 M allocations: 14.195 TiB, 1.00% gc time)\n",
      "Cum index:34\n",
      "Actual ES coverage: 34.42009\n",
      "AFPSurParams\n",
      "  P_test: Float64 0.97\n",
      "  P_sample: Float64 0.53\n",
      "  P_H: Float64 0.9\n",
      "ESParams\n",
      "  g: Float64 0.23025850929940458\n",
      "  P_test: Float64 0.97\n",
      "  area: Array{Bool}((1517,)) Bool[1, 1, 1, 1, 1, 1, 1, 1, 1, 1  …  0, 0, 0, 0, 0, 0, 0, 0, 0, 0]\n",
      "  n_freq: Int64 30\n"
     ]
    },
    {
     "name": "stderr",
     "output_type": "stream",
     "text": [
      "\u001b[32mProgress: 100%|█████████████████████████████████████████| Time: 0:18:59\u001b[39m\n"
     ]
    },
    {
     "name": "stdout",
     "output_type": "stream",
     "text": [
      "../dt_tmp_res/20231117_191759.ser\n"
     ]
    },
    {
     "name": "stderr",
     "output_type": "stream",
     "text": [
      "\u001b[32mProgress: 100%|█████████████████████████████████████████| Time: 0:03:20\u001b[39m\n"
     ]
    },
    {
     "name": "stdout",
     "output_type": "stream",
     "text": [
      "# of sites: 1517\n",
      "SEIRMetaModelParams\n",
      "  R0: Float64 14.0\n",
      "  γ1: Float64 0.25\n",
      "  γ2: Float64 0.06657789613848203\n",
      "  σ: Float64 0.3291\n",
      "  P_AFP: Float64 0.005\n",
      "  N_tot: Array{Int64}((1517,)) [176661, 132438, 110952, 102279, 96377, 93257, 81002, 79789, 74368, 71796  …  103, 102, 102, 102, 102, 102, 102, 101, 101, 101]\n",
      "  N_unvac: Array{Int64}((1517,)) [9009, 7004, 10801, 6729, 6341, 22933, 4284, 4219, 4893, 3975  …  4, 7, 7, 19, 19, 12, 12, 6, 7, 4]\n",
      "  I0_init: Int64 1\n",
      "  I0_ind: Int64 1\n",
      "  days: Int64 1095\n",
      "  n_site: Int64 1517\n",
      "  α: Float64 0.1\n",
      "  π_mat: Array{Float64}((1517, 1517)) [0.0 0.0008134913063202908 … 6.780709468953783e-7 4.898477234903362e-6; 0.0034150940977343493 0.0 … 4.753101976878339e-5 4.686095869451221e-6; … ; 1.9892426060623706e-6 0.00011196468975607586 … 0.0 3.3899886725864443e-9; 2.770651210640693e-5 4.626887381318493e-7 … 3.88258866975442e-10 0.0]\n",
      "  μ: Float64 0.000547945205479452\n",
      "  β: Float64 0.9320905459387484\n",
      "  pc: Float64 0.25\n",
      "  imp_ws: Array{Float64}((1,)) [1.0]\n",
      "Average vaccination coverage: 0.91933835\n",
      "../dt_tmp/20231117_192200\n"
     ]
    },
    {
     "name": "stderr",
     "output_type": "stream",
     "text": [
      "\u001b[32mProgress: 100%|█████████████████████████████████████████| Time: 1:57:12\u001b[39m\n"
     ]
    },
    {
     "name": "stdout",
     "output_type": "stream",
     "text": [
      "6777.180566 seconds (59.03 M allocations: 17.113 TiB, 7.23% gc time)\n",
      "Cum index:34\n",
      "Actual ES coverage: 34.42009\n",
      "AFPSurParams\n",
      "  P_test: Float64 0.97\n",
      "  P_sample: Float64 0.53\n",
      "  P_H: Float64 0.9\n",
      "ESParams\n",
      "  g: Float64 0.23025850929940458\n",
      "  P_test: Float64 0.97\n",
      "  area: Array{Bool}((1517,)) Bool[1, 1, 1, 1, 1, 1, 1, 1, 1, 1  …  0, 0, 0, 0, 0, 0, 0, 0, 0, 0]\n",
      "  n_freq: Int64 30\n"
     ]
    },
    {
     "name": "stderr",
     "output_type": "stream",
     "text": [
      "\u001b[32mProgress: 100%|█████████████████████████████████████████| Time: 0:33:14\u001b[39m\n"
     ]
    },
    {
     "name": "stdout",
     "output_type": "stream",
     "text": [
      "../dt_tmp_res/20231117_215227.ser\n"
     ]
    },
    {
     "name": "stderr",
     "output_type": "stream",
     "text": [
      "\u001b[32mProgress: 100%|█████████████████████████████████████████| Time: 0:04:31\u001b[39m\n"
     ]
    },
    {
     "name": "stdout",
     "output_type": "stream",
     "text": [
      "# of sites: 1517\n",
      "SEIRMetaModelParams\n",
      "  R0: Float64 14.0\n",
      "  γ1: Float64 0.25\n",
      "  γ2: Float64 0.06657789613848203\n",
      "  σ: Float64 0.3291\n",
      "  P_AFP: Float64 0.005\n",
      "  N_tot: Array{Int64}((1517,)) [176661, 132438, 110952, 102279, 96377, 93257, 81002, 79789, 74368, 71796  …  103, 102, 102, 102, 102, 102, 102, 101, 101, 101]\n",
      "  N_unvac: Array{Int64}((1517,)) [9009, 7004, 10801, 6729, 6341, 22933, 4284, 4219, 4893, 3975  …  4, 7, 7, 19, 19, 12, 12, 6, 7, 4]\n",
      "  I0_init: Int64 1\n",
      "  I0_ind: Int64 1\n",
      "  days: Int64 1095\n",
      "  n_site: Int64 1517\n",
      "  α: Float64 0.5\n",
      "  π_mat: Array{Float64}((1517, 1517)) [0.0 0.0008134913063202908 … 6.780709468953783e-7 4.898477234903362e-6; 0.0034150940977343493 0.0 … 4.753101976878339e-5 4.686095869451221e-6; … ; 1.9892426060623706e-6 0.00011196468975607586 … 0.0 3.3899886725864443e-9; 2.770651210640693e-5 4.626887381318493e-7 … 3.88258866975442e-10 0.0]\n",
      "  μ: Float64 0.000547945205479452\n",
      "  β: Float64 0.9320905459387484\n",
      "  pc: Float64 0.25\n",
      "  imp_ws: Array{Float64}((1,)) [1.0]\n",
      "Average vaccination coverage: 0.91933835\n",
      "../dt_tmp/20231117_215741\n"
     ]
    },
    {
     "name": "stderr",
     "output_type": "stream",
     "text": [
      "\u001b[32mProgress: 100%|█████████████████████████████████████████| Time: 1:55:39\u001b[39m\n"
     ]
    },
    {
     "name": "stdout",
     "output_type": "stream",
     "text": [
      "6939.712071 seconds (61.31 M allocations: 17.931 TiB, 12.85% gc time)\n",
      "Cum index:34\n",
      "Actual ES coverage: 34.42009\n",
      "AFPSurParams\n",
      "  P_test: Float64 0.97\n",
      "  P_sample: Float64 0.53\n",
      "  P_H: Float64 0.9\n",
      "ESParams\n",
      "  g: Float64 0.23025850929940458\n",
      "  P_test: Float64 0.97\n",
      "  area: Array{Bool}((1517,)) Bool[1, 1, 1, 1, 1, 1, 1, 1, 1, 1  …  0, 0, 0, 0, 0, 0, 0, 0, 0, 0]\n",
      "  n_freq: Int64 30\n"
     ]
    },
    {
     "name": "stderr",
     "output_type": "stream",
     "text": [
      "\u001b[32mProgress: 100%|█████████████████████████████████████████| Time: 1:37:26\u001b[39m\n"
     ]
    },
    {
     "name": "stdout",
     "output_type": "stream",
     "text": [
      "../dt_tmp_res/20231118_013048.ser\n"
     ]
    },
    {
     "name": "stderr",
     "output_type": "stream",
     "text": [
      "\u001b[32mProgress: 100%|█████████████████████████████████████████| Time: 0:04:07\u001b[39m\n"
     ]
    },
    {
     "name": "stdout",
     "output_type": "stream",
     "text": [
      "Any[\"R0=14.0, α=0.05, pc=0.25, n_sim=5000, pattern=population_size, path: ../dt_tmp_res/20231117_172755.ser\", \"R0=14.0, α=0.05, pc=0.25, n_sim=5000, pattern=population_size, path: ../dt_tmp_res/20231117_191759.ser\", \"R0=14.0, α=0.05, pc=0.25, n_sim=5000, pattern=population_size, path: ../dt_tmp_res/20231117_215227.ser\", \"R0=14.0, α=0.05, pc=0.25, n_sim=5000, pattern=population_size, path: ../dt_tmp_res/20231118_013048.ser\"]\n"
     ]
    }
   ],
   "source": [
    "summary_info = []\n",
    "for α_sens in [0.005, 0.010, 0.100, 0.500]\n",
    "    path_trans = run_transmission_model(;\n",
    "        R0=R0, α=α_sens, pc=pc, imp_ws=[1.0],\n",
    "        n_sim=n_sim,\n",
    "        path_spatial_params=path_spatial, \n",
    "        pattern=pattern,\n",
    "    )\n",
    "    path_save = post_processing(path_trans, path_spatial, pc)\n",
    "    rec = \"R0=$(R0), α=$(α_sens), pc=$(pc), n_sim=$(n_sim), pattern=$(pattern), path: $(path_save)\"\n",
    "    push!(summary_info, rec)\n",
    "end\n",
    "println(summary_info)"
   ]
  },
  {
   "cell_type": "markdown",
   "id": "bb3aaa58",
   "metadata": {},
   "source": [
    "## Mozambique risk ordered ES. "
   ]
  },
  {
   "cell_type": "code",
   "execution_count": null,
   "id": "c1ad857f",
   "metadata": {},
   "outputs": [],
   "source": [
    "imp_ws_moz_sorted = CSV.read(\"../data/imp_ws_moz_sorted.csv\", DataFrame, header=false)[:,1]\n",
    "imp_ws_airport_sorted = CSV.read(\"../data/imp_ws_airport_sorted.csv\", DataFrame, header=false)[:,1]\n",
    "path_spatial_sorted = \"../dt_tmp/spatial_params_agg230_moz_sorted.ser\""
   ]
  },
  {
   "cell_type": "code",
   "execution_count": null,
   "id": "5ce90040",
   "metadata": {},
   "outputs": [],
   "source": [
    "run_all_patterns(\n",
    "    R0=R0, α=α, pc=pc, \n",
    "    imp_ws_moz=imp_ws_moz_sorted, \n",
    "    imp_ws_airport=imp_ws_airport_sorted,\n",
    "    n_sim=n_sim,\n",
    "    path_spatial=path_spatial_sorted,\n",
    "    )"
   ]
  },
  {
   "cell_type": "code",
   "execution_count": null,
   "id": "010375d3",
   "metadata": {},
   "outputs": [],
   "source": []
  },
  {
   "cell_type": "markdown",
   "id": "a948f4d3",
   "metadata": {},
   "source": [
    "## Debug field"
   ]
  },
  {
   "cell_type": "code",
   "execution_count": null,
   "id": "37c57e82",
   "metadata": {},
   "outputs": [],
   "source": [
    "path_trans = run_transmission_model(;\n",
    "    R0=R0, α=α, pc=pc, imp_ws=imp_ws,\n",
    "    n_sim=n_sim,\n",
    "    path_spatial_params=path_spatial, \n",
    "    pattern=\"population_size\"\n",
    ")\n",
    "par_AFP, par_ES = set_par_AFP_ES(path_spatial_params=path_spatial, pc=pc)\n",
    "#baseline_results(par_AFP, par_ES; \n",
    "#    path_trans=path_trans\n",
    "#)\n",
    "\n",
    "sensitivity_all_summary(par_AFP, par_ES; path_trans=path_trans)\n",
    "validate_meta_population_model(path_trans, path_spatial)\n",
    "remove_all_leaving_one(path_trans)"
   ]
  },
  {
   "cell_type": "code",
   "execution_count": null,
   "id": "667f791c",
   "metadata": {},
   "outputs": [],
   "source": [
    "path_trans = run_transmission_model(;\n",
    "    R0=R0, α=α, pc=pc, n_sim=n_sim,\n",
    "    path_spatial_params=path_spatial, \n",
    "    pattern=\"airport\"\n",
    ")\n",
    "par_AFP, par_ES = set_par_AFP_ES(path_spatial_params=path_spatial)\n",
    "sensitivity_all_summary(par_AFP, par_ES; path_trans=path_trans)\n",
    "validate_meta_population_model(path_trans, path_spatial)\n",
    "remove_all_leaving_one(path_trans)"
   ]
  },
  {
   "cell_type": "code",
   "execution_count": null,
   "id": "f2b7907e",
   "metadata": {},
   "outputs": [],
   "source": [
    "path_trans = run_transmission_model(;\n",
    "    R0=R0, α=α, pc=pc, imp_ws=imp_ws,\n",
    "    n_sim=n_sim,\n",
    "    path_spatial_params=path_spatial, \n",
    "    pattern=\"mozambique\"\n",
    ")\n",
    "par_AFP, par_ES = set_par_AFP_ES(path_spatial_params=path_spatial)\n",
    "sensitivity_all_summary(par_AFP, par_ES; path_trans=path_trans)\n",
    "validate_meta_population_model(path_trans, path_spatial)\n",
    "remove_all_leaving_one(path_trans)"
   ]
  },
  {
   "cell_type": "code",
   "execution_count": null,
   "id": "7c9e7db0",
   "metadata": {},
   "outputs": [],
   "source": []
  },
  {
   "cell_type": "code",
   "execution_count": null,
   "id": "c6212c73",
   "metadata": {},
   "outputs": [],
   "source": []
  },
  {
   "cell_type": "code",
   "execution_count": null,
   "id": "8fad86d9",
   "metadata": {},
   "outputs": [],
   "source": []
  },
  {
   "cell_type": "code",
   "execution_count": null,
   "id": "f5253f44",
   "metadata": {},
   "outputs": [],
   "source": []
  },
  {
   "cell_type": "code",
   "execution_count": null,
   "id": "db3b31ef",
   "metadata": {},
   "outputs": [],
   "source": []
  },
  {
   "cell_type": "code",
   "execution_count": null,
   "id": "88611452",
   "metadata": {},
   "outputs": [],
   "source": []
  },
  {
   "cell_type": "code",
   "execution_count": null,
   "id": "350257bd",
   "metadata": {
    "lines_to_next_cell": 2
   },
   "outputs": [],
   "source": []
  }
 ],
 "metadata": {
  "jupytext": {
   "encoding": "# -*- coding: utf-8 -*-"
  },
  "kernelspec": {
   "display_name": "Julia 1.8.3",
   "language": "julia",
   "name": "julia-1.8"
  },
  "language_info": {
   "file_extension": ".jl",
   "mimetype": "application/julia",
   "name": "julia",
   "version": "1.8.3"
  }
 },
 "nbformat": 4,
 "nbformat_minor": 5
}

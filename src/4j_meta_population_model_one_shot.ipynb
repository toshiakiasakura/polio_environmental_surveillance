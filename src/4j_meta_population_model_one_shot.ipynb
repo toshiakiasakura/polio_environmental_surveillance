{
 "cells": [
  {
   "cell_type": "code",
   "execution_count": 11,
   "id": "26b19426",
   "metadata": {},
   "outputs": [
    {
     "data": {
      "text/plain": [
       "validate_meta_population_model"
      ]
     },
     "execution_count": 11,
     "metadata": {},
     "output_type": "execute_result"
    }
   ],
   "source": [
    "using ArchGDAL\n",
    "using FreqTables\n",
    "using LinearAlgebra\n",
    "using DataFrames\n",
    "using Dates\n",
    "using Pipe\n",
    "using Plots\n",
    "using Rasters\n",
    "using Serialization\n",
    "using SparseArrays\n",
    "\n",
    "include(\"util.jl\")\n",
    "include(\"geo_ana.jl\")\n",
    "include(\"model_meta_pop.jl\")\n",
    "include(\"main_model_meta_pop.jl\")"
   ]
  },
  {
   "cell_type": "code",
   "execution_count": 12,
   "id": "60aa701e",
   "metadata": {},
   "outputs": [
    {
     "data": {
      "text/plain": [
       "\"../dt_tmp/spatial_params_agg230.ser\""
      ]
     },
     "execution_count": 12,
     "metadata": {},
     "output_type": "execute_result"
    }
   ],
   "source": [
    "path_spatial = \"../dt_tmp/spatial_params_agg230.ser\""
   ]
  },
  {
   "cell_type": "markdown",
   "id": "ae088f93",
   "metadata": {},
   "source": [
    "## International airport location, index "
   ]
  },
  {
   "cell_type": "code",
   "execution_count": 14,
   "id": "465838cb",
   "metadata": {},
   "outputs": [
    {
     "name": "stdout",
     "output_type": "stream",
     "text": [
      "argmin(dist): 11, dist: 9.631110668981826\n",
      "argmin(dist): 7, dist: 5.508420257007044\n",
      "argmin(dist): 62, dist: 8.80101225388816\n"
     ]
    }
   ],
   "source": [
    "sp_pars = deserialize(path_spatial)\n",
    "df = sp_pars.df\n",
    "# Tambo International\n",
    "lat = -26.12825796201514\n",
    "lon = 28.242074092511\n",
    "dist = harversine_dist.(lat, lon, df[:, :lat], df[:, :lon]) \n",
    "println(\"argmin(dist): $(argmin(dist)), dist: $(dist[argmin(dist)])\")\n",
    "\n",
    "# Cape Town \n",
    "lat =  -33.970502228847884\n",
    "lon = 18.600228711334545\n",
    "dist = harversine_dist.(lat, lon, df[:, :lat], df[:, :lon]) \n",
    "println(\"argmin(dist): $(argmin(dist)), dist: $(dist[argmin(dist)])\")\n",
    "\n",
    "# King Shaka \n",
    "lat =  -29.608764960536764\n",
    "lon = 31.115368797913593\n",
    "dist = harversine_dist.(lat, lon, df[:, :lat], df[:, :lon]) \n",
    "println(\"argmin(dist): $(argmin(dist)), dist: $(dist[argmin(dist)])\")\n",
    "\n"
   ]
  },
  {
   "cell_type": "markdown",
   "id": "cb310219",
   "metadata": {},
   "source": [
    "# Transmission model "
   ]
  },
  {
   "cell_type": "code",
   "execution_count": 15,
   "id": "50501640",
   "metadata": {},
   "outputs": [
    {
     "data": {
      "text/plain": [
       "5000"
      ]
     },
     "execution_count": 15,
     "metadata": {},
     "output_type": "execute_result"
    }
   ],
   "source": [
    "n_sim = 5000"
   ]
  },
  {
   "cell_type": "code",
   "execution_count": 16,
   "id": "f8c90dd1",
   "metadata": {},
   "outputs": [
    {
     "data": {
      "text/plain": [
       "\"population_size\""
      ]
     },
     "execution_count": 16,
     "metadata": {},
     "output_type": "execute_result"
    }
   ],
   "source": [
    "R0 = 14.0\n",
    "α = 0.05\n",
    "pc = 0.25\n",
    "pattern = \"population_size\""
   ]
  },
  {
   "cell_type": "code",
   "execution_count": 8,
   "id": "f378a1ba",
   "metadata": {},
   "outputs": [],
   "source": [
    "imp_ws_moz = CSV.read(\"../data/imp_ws_moz.csv\", DataFrame, header=false)[:,1]\n",
    "imp_ws_airport = CSV.read(\"../data/imp_ws_airport.csv\", DataFrame, header=false)[:,1]\n",
    "nothing"
   ]
  },
  {
   "cell_type": "code",
   "execution_count": 9,
   "id": "9a90f26f",
   "metadata": {},
   "outputs": [
    {
     "data": {
      "text/plain": [
       "validate_meta_population_model"
      ]
     },
     "execution_count": 9,
     "metadata": {},
     "output_type": "execute_result"
    }
   ],
   "source": [
    "include(\"model_meta_pop.jl\")\n",
    "include(\"main_model_meta_pop.jl\")"
   ]
  },
  {
   "cell_type": "code",
   "execution_count": 10,
   "id": "cec2e5a2",
   "metadata": {},
   "outputs": [
    {
     "data": {
      "text/plain": [
       "run_all_patterns (generic function with 1 method)"
      ]
     },
     "execution_count": 10,
     "metadata": {},
     "output_type": "execute_result"
    }
   ],
   "source": [
    "function post_processing(path_trans, path_spatial, pc)\n",
    "    par_AFP, par_ES = set_par_AFP_ES(path_spatial_params=path_spatial, pc=pc)\n",
    "    path_save = sensitivity_all_summary(par_AFP, par_ES; path_trans=path_trans)\n",
    "    #validate_meta_population_model(path_trans, path_spatial)\n",
    "    remove_all_leaving_one(path_trans)\n",
    "    return path_save\n",
    "end\n",
    "\n",
    "function run_all_patterns(;\n",
    "        R0=1.0, α=0.05, pc=1.0, \n",
    "        imp_ws_moz=[1.0], imp_ws_airport=[1.0],\n",
    "        n_sim=100,\n",
    "        path_spatial=\"\"\n",
    "    )\n",
    "    summary_info = []\n",
    "    for pattern in [\"population_size\", \"airport\", \"mozambique\"]\n",
    "        imp_ws = pattern==\"airport\" ? imp_ws_airport : imp_ws_moz\n",
    "        path_trans = run_transmission_model(;\n",
    "            R0=R0, α=α, pc=pc, imp_ws=imp_ws,\n",
    "            n_sim=n_sim,\n",
    "            path_spatial_params=path_spatial, \n",
    "            pattern=pattern\n",
    "        )\n",
    "        path_save = post_processing(path_trans, path_spatial, pc)\n",
    "        rec = \"R0=$(R0), α=$(α), pc=$(pc), n_sim=$(n_sim), pattern=$(pattern), path: $(path_save)\"\n",
    "        push!(summary_info, rec)\n",
    "    end\n",
    "    println(summary_info)\n",
    "end"
   ]
  },
  {
   "cell_type": "markdown",
   "id": "048fd76d-fcfa-4f6a-9f7a-f0441097cfd0",
   "metadata": {},
   "source": [
    "# Main results "
   ]
  },
  {
   "cell_type": "code",
   "execution_count": null,
   "id": "0e7da71c",
   "metadata": {},
   "outputs": [],
   "source": [
    "println(\"Main results==========================\")\n",
    "run_all_patterns(\n",
    "    R0=R0, α=α, pc=pc, imp_ws_moz=imp_ws_moz, imp_ws_airport=imp_ws_airport, \n",
    "    n_sim=n_sim,\n",
    "    path_spatial=path_spatial,\n",
    "    )"
   ]
  },
  {
   "cell_type": "markdown",
   "id": "6f69d72e",
   "metadata": {},
   "source": [
    "## Sensitivity analysis "
   ]
  },
  {
   "cell_type": "code",
   "execution_count": null,
   "id": "1fec5959",
   "metadata": {},
   "outputs": [],
   "source": [
    "println(\"Sensitivity analysis for R0 ==========================\")\n",
    "summary_info = []\n",
    "pattern = \"population_size\"\n",
    "for R0_sens in [10, 12, 16]\n",
    "    path_trans = run_transmission_model(;\n",
    "        R0=R0_sens, α=α, pc=pc, imp_ws=[1.0],\n",
    "        n_sim=n_sim,\n",
    "        path_spatial_params=path_spatial, \n",
    "        pattern=pattern\n",
    "    )\n",
    "    path_save = post_processing(path_trans, path_spatial, pc)\n",
    "    rec = \"R0=$(R0_sens), α=$(α), pc=$(pc), n_sim=$(n_sim), pattern=$(pattern), path: $(path_save)\"\n",
    "    push!(summary_info, rec)\n",
    "end\n",
    "println(summary_info)"
   ]
  },
  {
   "cell_type": "code",
   "execution_count": null,
   "id": "847c51f8",
   "metadata": {},
   "outputs": [],
   "source": [
    "println(\"Sensitivity analysis for α ==========================\")\n",
    "summary_info = []\n",
    "for α_sens in [0.005, 0.010, 0.100, 0.500]\n",
    "    path_trans = run_transmission_model(;\n",
    "        R0=R0, α=α_sens, pc=pc, imp_ws=[1.0],\n",
    "        n_sim=n_sim,\n",
    "        path_spatial_params=path_spatial, \n",
    "        pattern=pattern,\n",
    "    )\n",
    "    path_save = post_processing(path_trans, path_spatial, pc)\n",
    "    rec = \"R0=$(R0), α=$(α_sens), pc=$(pc), n_sim=$(n_sim), pattern=$(pattern), path: $(path_save)\"\n",
    "    push!(summary_info, rec)\n",
    "end\n",
    "println(summary_info)"
   ]
  },
  {
   "cell_type": "code",
   "execution_count": 11,
   "id": "7c28670d-07bf-4083-8ccd-9425578b087f",
   "metadata": {},
   "outputs": [
    {
     "name": "stdout",
     "output_type": "stream",
     "text": [
      "# of sites: 1517\n",
      "SEIRMetaModelParams\n",
      "  R0: Float64 14.0\n",
      "  γ1: Float64 0.25\n",
      "  γ2: Float64 0.06657789613848203\n",
      "  σ: Float64 0.3291\n",
      "  P_AFP: Float64 0.005\n",
      "  N_tot: Array{Int64}((1517,)) [176661, 132438, 110952, 102279, 96377, 93257, 81002, 79789, 74368, 71796  …  103, 102, 102, 102, 102, 102, 102, 101, 101, 101]\n",
      "  N_unvac: Array{Int64}((1517,)) [9009, 7004, 10801, 6729, 6341, 22933, 4284, 4219, 4893, 3975  …  4, 7, 7, 19, 19, 12, 12, 6, 7, 4]\n",
      "  I0_init: Int64 1\n",
      "  I0_ind: Int64 1\n",
      "  days: Int64 1095\n",
      "  n_site: Int64 1517\n",
      "  α: Float64 0.05\n",
      "  π_mat: Array{Float64}((1517, 1517)) [0.0 0.0008134913063202908 … 6.780709468953783e-7 4.898477234903362e-6; 0.0034150940977343493 0.0 … 4.753101976878339e-5 4.686095869451221e-6; … ; 1.9892426060623706e-6 0.00011196468975607586 … 0.0 3.3899886725864443e-9; 2.770651210640693e-5 4.626887381318493e-7 … 3.88258866975442e-10 0.0]\n",
      "  μ: Float64 0.000547945205479452\n",
      "  β: Float64 0.9320905459387484\n",
      "  pc: Float64 0.01\n",
      "  imp_ws: Array{Float64}((1,)) [1.0]\n",
      "Average vaccination coverage: 0.91933835\n",
      "../dt_tmp/20231126_023929\n"
     ]
    },
    {
     "name": "stderr",
     "output_type": "stream",
     "text": [
      "\u001b[32mProgress: 100%|█████████████████████████████████████████| Time: 1:27:46\u001b[39m\n"
     ]
    },
    {
     "name": "stdout",
     "output_type": "stream",
     "text": [
      "5266.548859 seconds (58.96 M allocations: 17.135 TiB, 0.83% gc time)\n",
      "Cum index:1517\n",
      "Actual ES coverage: 100.0\n",
      "AFPSurParams\n",
      "  P_test: Float64 0.97\n",
      "  P_sample: Float64 0.53\n",
      "  P_H: Float64 0.9\n",
      "ESParams\n",
      "  g: Float64 0.23025850929940458\n",
      "  P_test: Float64 0.97\n",
      "  area: Array{Bool}((1517,)) Bool[1, 1, 1, 1, 1, 1, 1, 1, 1, 1  …  1, 1, 1, 1, 1, 1, 1, 1, 1, 1]\n",
      "  n_freq: Int64 30\n"
     ]
    },
    {
     "name": "stderr",
     "output_type": "stream",
     "text": [
      "\u001b[32mProgress: 100%|█████████████████████████████████████████| Time: 0:17:39\u001b[39m\n"
     ]
    },
    {
     "name": "stdout",
     "output_type": "stream",
     "text": [
      "../dt_tmp_res/20231126_042455.ser\n",
      "# of sites: 1517\n",
      "SEIRMetaModelParams\n",
      "  R0: Float64 14.0\n",
      "  γ1: Float64 0.25\n",
      "  γ2: Float64 0.06657789613848203\n",
      "  σ: Float64 0.3291\n",
      "  P_AFP: Float64 0.005\n",
      "  N_tot: Array{Int64}((1517,)) [176661, 132438, 110952, 102279, 96377, 93257, 81002, 79789, 74368, 71796  …  103, 102, 102, 102, 102, 102, 102, 101, 101, 101]\n",
      "  N_unvac: Array{Int64}((1517,)) [9009, 7004, 10801, 6729, 6341, 22933, 4284, 4219, 4893, 3975  …  4, 7, 7, 19, 19, 12, 12, 6, 7, 4]\n",
      "  I0_init: Int64 1\n",
      "  I0_ind: Int64 1\n",
      "  days: Int64 1095\n",
      "  n_site: Int64 1517\n",
      "  α: Float64 0.05\n",
      "  π_mat: Array{Float64}((1517, 1517)) [0.0 0.0008134913063202908 … 6.780709468953783e-7 4.898477234903362e-6; 0.0034150940977343493 0.0 … 4.753101976878339e-5 4.686095869451221e-6; … ; 1.9892426060623706e-6 0.00011196468975607586 … 0.0 3.3899886725864443e-9; 2.770651210640693e-5 4.626887381318493e-7 … 3.88258866975442e-10 0.0]\n",
      "  μ: Float64 0.000547945205479452\n",
      "  β: Float64 0.9320905459387484\n",
      "  pc: Float64 0.05\n",
      "  imp_ws: Array{Float64}((1,)) [1.0]\n",
      "Average vaccination coverage: 0.91933835\n",
      "../dt_tmp/20231126_042526\n"
     ]
    },
    {
     "name": "stderr",
     "output_type": "stream",
     "text": [
      "\u001b[32mProgress: 100%|█████████████████████████████████████████| Time: 1:22:03\u001b[39m\n"
     ]
    },
    {
     "name": "stdout",
     "output_type": "stream",
     "text": [
      "4923.700832 seconds (56.61 M allocations: 16.292 TiB, 0.74% gc time)\n",
      "Cum index:1517\n",
      "Actual ES coverage: 100.0\n",
      "AFPSurParams\n",
      "  P_test: Float64 0.97\n",
      "  P_sample: Float64 0.53\n",
      "  P_H: Float64 0.9\n",
      "ESParams\n",
      "  g: Float64 0.23025850929940458\n",
      "  P_test: Float64 0.97\n",
      "  area: Array{Bool}((1517,)) Bool[1, 1, 1, 1, 1, 1, 1, 1, 1, 1  …  1, 1, 1, 1, 1, 1, 1, 1, 1, 1]\n",
      "  n_freq: Int64 30\n"
     ]
    },
    {
     "name": "stderr",
     "output_type": "stream",
     "text": [
      "\u001b[32mProgress: 100%|█████████████████████████████████████████| Time: 0:17:24\u001b[39m\n"
     ]
    },
    {
     "name": "stdout",
     "output_type": "stream",
     "text": [
      "../dt_tmp_res/20231126_060455.ser\n",
      "# of sites: 1517\n",
      "SEIRMetaModelParams\n",
      "  R0: Float64 14.0\n",
      "  γ1: Float64 0.25\n",
      "  γ2: Float64 0.06657789613848203\n",
      "  σ: Float64 0.3291\n",
      "  P_AFP: Float64 0.005\n",
      "  N_tot: Array{Int64}((1517,)) [176661, 132438, 110952, 102279, 96377, 93257, 81002, 79789, 74368, 71796  …  103, 102, 102, 102, 102, 102, 102, 101, 101, 101]\n",
      "  N_unvac: Array{Int64}((1517,)) [9009, 7004, 10801, 6729, 6341, 22933, 4284, 4219, 4893, 3975  …  4, 7, 7, 19, 19, 12, 12, 6, 7, 4]\n",
      "  I0_init: Int64 1\n",
      "  I0_ind: Int64 1\n",
      "  days: Int64 1095\n",
      "  n_site: Int64 1517\n",
      "  α: Float64 0.05\n",
      "  π_mat: Array{Float64}((1517, 1517)) [0.0 0.0008134913063202908 … 6.780709468953783e-7 4.898477234903362e-6; 0.0034150940977343493 0.0 … 4.753101976878339e-5 4.686095869451221e-6; … ; 1.9892426060623706e-6 0.00011196468975607586 … 0.0 3.3899886725864443e-9; 2.770651210640693e-5 4.626887381318493e-7 … 3.88258866975442e-10 0.0]\n",
      "  μ: Float64 0.000547945205479452\n",
      "  β: Float64 0.9320905459387484\n",
      "  pc: Float64 0.25\n",
      "  imp_ws: Array{Float64}((1,)) [1.0]\n",
      "Average vaccination coverage: 0.91933835\n",
      "../dt_tmp/20231126_060525\n"
     ]
    },
    {
     "name": "stderr",
     "output_type": "stream",
     "text": [
      "\u001b[32mProgress: 100%|█████████████████████████████████████████| Time: 1:21:09\u001b[39m\n"
     ]
    },
    {
     "name": "stdout",
     "output_type": "stream",
     "text": [
      "4869.516868 seconds (56.37 M allocations: 16.211 TiB, 0.89% gc time)\n",
      "Cum index:34\n",
      "Actual ES coverage: 34.42009\n",
      "AFPSurParams\n",
      "  P_test: Float64 0.97\n",
      "  P_sample: Float64 0.53\n",
      "  P_H: Float64 0.9\n",
      "ESParams\n",
      "  g: Float64 0.23025850929940458\n",
      "  P_test: Float64 0.97\n",
      "  area: Array{Bool}((1517,)) Bool[1, 1, 1, 1, 1, 1, 1, 1, 1, 1  …  0, 0, 0, 0, 0, 0, 0, 0, 0, 0]\n",
      "  n_freq: Int64 30\n"
     ]
    },
    {
     "name": "stderr",
     "output_type": "stream",
     "text": [
      "\u001b[32mProgress: 100%|█████████████████████████████████████████| Time: 0:18:22\u001b[39m\n"
     ]
    },
    {
     "name": "stdout",
     "output_type": "stream",
     "text": [
      "../dt_tmp_res/20231126_074457.ser\n",
      "# of sites: 1517\n",
      "SEIRMetaModelParams\n",
      "  R0: Float64 14.0\n",
      "  γ1: Float64 0.25\n",
      "  γ2: Float64 0.06657789613848203\n",
      "  σ: Float64 0.3291\n",
      "  P_AFP: Float64 0.005\n",
      "  N_tot: Array{Int64}((1517,)) [176661, 132438, 110952, 102279, 96377, 93257, 81002, 79789, 74368, 71796  …  103, 102, 102, 102, 102, 102, 102, 101, 101, 101]\n",
      "  N_unvac: Array{Int64}((1517,)) [9009, 7004, 10801, 6729, 6341, 22933, 4284, 4219, 4893, 3975  …  4, 7, 7, 19, 19, 12, 12, 6, 7, 4]\n",
      "  I0_init: Int64 1\n",
      "  I0_ind: Int64 1\n",
      "  days: Int64 1095\n",
      "  n_site: Int64 1517\n",
      "  α: Float64 0.05\n",
      "  π_mat: Array{Float64}((1517, 1517)) [0.0 0.0008134913063202908 … 6.780709468953783e-7 4.898477234903362e-6; 0.0034150940977343493 0.0 … 4.753101976878339e-5 4.686095869451221e-6; … ; 1.9892426060623706e-6 0.00011196468975607586 … 0.0 3.3899886725864443e-9; 2.770651210640693e-5 4.626887381318493e-7 … 3.88258866975442e-10 0.0]\n",
      "  μ: Float64 0.000547945205479452\n",
      "  β: Float64 0.9320905459387484\n",
      "  pc: Float64 0.5\n",
      "  imp_ws: Array{Float64}((1,)) [1.0]\n",
      "Average vaccination coverage: 0.91933835\n",
      "../dt_tmp/20231126_074533\n"
     ]
    },
    {
     "name": "stderr",
     "output_type": "stream",
     "text": [
      "\u001b[32mProgress: 100%|█████████████████████████████████████████| Time: 1:48:55\u001b[39m\n"
     ]
    },
    {
     "name": "stdout",
     "output_type": "stream",
     "text": [
      "6535.231728 seconds (58.19 M allocations: 16.835 TiB, 11.91% gc time)\n",
      "Cum index:9\n",
      "Actual ES coverage: 16.731243\n",
      "AFPSurParams\n",
      "  P_test: Float64 0.97\n",
      "  P_sample: Float64 0.53\n",
      "  P_H: Float64 0.9\n",
      "ESParams\n",
      "  g: Float64 0.23025850929940458\n",
      "  P_test: Float64 0.97\n",
      "  area: Array{Bool}((1517,)) Bool[1, 1, 1, 1, 1, 1, 1, 1, 1, 0  …  0, 0, 0, 0, 0, 0, 0, 0, 0, 0]\n",
      "  n_freq: Int64 30\n"
     ]
    },
    {
     "name": "stderr",
     "output_type": "stream",
     "text": [
      "\u001b[32mProgress: 100%|█████████████████████████████████████████| Time: 0:27:21\u001b[39m\n"
     ]
    },
    {
     "name": "stdout",
     "output_type": "stream",
     "text": [
      "../dt_tmp_res/20231126_100150.ser\n",
      "Any[\"R0=14.0, α=0.05, pc=0.01, n_sim=5000, pattern=population_size, path: ../dt_tmp_res/20231126_042455.ser\", \"R0=14.0, α=0.05, pc=0.05, n_sim=5000, pattern=population_size, path: ../dt_tmp_res/20231126_060455.ser\", \"R0=14.0, α=0.05, pc=0.25, n_sim=5000, pattern=population_size, path: ../dt_tmp_res/20231126_074457.ser\", \"R0=14.0, α=0.05, pc=0.5, n_sim=5000, pattern=population_size, path: ../dt_tmp_res/20231126_100150.ser\"]\n"
     ]
    }
   ],
   "source": [
    "println(\"Sensitivity analysis for pc ==========================\")\n",
    "summary_info = []\n",
    "for pc_sens in [0.01, 0.05, 0.25, 0.50]\n",
    "    path_trans = run_transmission_model(;\n",
    "        R0=R0, α=α, pc=pc_sens, imp_ws=[1.0],\n",
    "        n_sim=n_sim,\n",
    "        path_spatial_params=path_spatial, \n",
    "        pattern=pattern,\n",
    "    )\n",
    "    path_save = post_processing(path_trans, path_spatial, pc_sens)\n",
    "    rec = \"R0=$(R0), α=$(α), pc=$(pc_sens), n_sim=$(n_sim), pattern=$(pattern), path: $(path_save)\"\n",
    "    push!(summary_info, rec)\n",
    "end\n",
    "println(summary_info)"
   ]
  },
  {
   "cell_type": "markdown",
   "id": "bb3aaa58",
   "metadata": {},
   "source": [
    "## Mozambique risk ordered ES. "
   ]
  },
  {
   "cell_type": "code",
   "execution_count": 17,
   "id": "c1ad857f",
   "metadata": {},
   "outputs": [
    {
     "data": {
      "text/plain": [
       "\"../dt_tmp/spatial_params_agg230_moz_sorted.ser\""
      ]
     },
     "execution_count": 17,
     "metadata": {},
     "output_type": "execute_result"
    }
   ],
   "source": [
    "imp_ws_moz_sorted = CSV.read(\"../data/imp_ws_moz_sorted.csv\", DataFrame, header=false)[:,1]\n",
    "imp_ws_airport_sorted = CSV.read(\"../data/imp_ws_airport_sorted.csv\", DataFrame, header=false)[:,1]\n",
    "path_spatial_sorted = \"../dt_tmp/spatial_params_agg230_moz_sorted.ser\""
   ]
  },
  {
   "cell_type": "code",
   "execution_count": null,
   "id": "5ce90040",
   "metadata": {},
   "outputs": [],
   "source": [
    "println(\"Sensitivity analysis for Mozambique risk ordered ES ==========================\")\n",
    "run_all_patterns(\n",
    "    R0=R0, α=α, pc=pc, \n",
    "    imp_ws_moz=imp_ws_moz_sorted, \n",
    "    imp_ws_airport=imp_ws_airport_sorted,\n",
    "    n_sim=n_sim,\n",
    "    path_spatial=path_spatial_sorted,\n",
    "    )"
   ]
  },
  {
   "cell_type": "markdown",
   "id": "3fcca91f-9b21-415f-8db3-c51d98ffc9a3",
   "metadata": {},
   "source": [
    "# Detection sensitivity, sensitivity analysis"
   ]
  },
  {
   "cell_type": "code",
   "execution_count": 10,
   "id": "e4296b39-554e-4a23-abed-d16cb6ed6d83",
   "metadata": {},
   "outputs": [
    {
     "name": "stdout",
     "output_type": "stream",
     "text": [
      "# of sites: 1517\n",
      "SEIRMetaModelParams\n",
      "  R0: Float64 14.0\n",
      "  γ1: Float64 0.25\n",
      "  γ2: Float64 0.06657789613848203\n",
      "  σ: Float64 0.3291\n",
      "  P_AFP: Float64 0.005\n",
      "  N_tot: Array{Int64}((1517,)) [176661, 132438, 110952, 102279, 96377, 93257, 81002, 79789, 74368, 71796  …  103, 102, 102, 102, 102, 102, 102, 101, 101, 101]\n",
      "  N_unvac: Array{Int64}((1517,)) [9009, 7004, 10801, 6729, 6341, 22933, 4284, 4219, 4893, 3975  …  4, 7, 7, 19, 19, 12, 12, 6, 7, 4]\n",
      "  I0_init: Int64 1\n",
      "  I0_ind: Int64 1\n",
      "  days: Int64 1095\n",
      "  n_site: Int64 1517\n",
      "  α: Float64 0.05\n",
      "  π_mat: Array{Float64}((1517, 1517)) [0.0 0.0008134913063202908 … 6.780709468953783e-7 4.898477234903362e-6; 0.0034150940977343493 0.0 … 4.753101976878339e-5 4.686095869451221e-6; … ; 1.9892426060623706e-6 0.00011196468975607586 … 0.0 3.3899886725864443e-9; 2.770651210640693e-5 4.626887381318493e-7 … 3.88258866975442e-10 0.0]\n",
      "  μ: Float64 0.000547945205479452\n",
      "  β: Float64 0.9320905459387484\n",
      "  pc: Float64 0.25\n",
      "  imp_ws: Array{Float64}((1,)) [1.0]\n",
      "Average vaccination coverage: 0.91933835\n",
      "../dt_tmp/20231126_001409\n"
     ]
    },
    {
     "name": "stderr",
     "output_type": "stream",
     "text": [
      "\u001b[32mProgress: 100%|█████████████████████████████████████████| Time: 1:22:16\u001b[39m\n"
     ]
    },
    {
     "name": "stdout",
     "output_type": "stream",
     "text": [
      "4936.390346 seconds (56.37 M allocations: 16.211 TiB, 1.13% gc time)\n",
      "Cum index:34\n",
      "Actual ES coverage: 34.42009\n",
      "AFPSurParams\n",
      "  P_test: Float64 0.97\n",
      "  P_sample: Float64 0.53\n",
      "  P_H: Float64 0.9\n",
      "ESParams\n",
      "  g: Float64 2.302585092994046\n",
      "  P_test: Float64 0.97\n",
      "  area: Array{Bool}((1517,)) Bool[1, 1, 1, 1, 1, 1, 1, 1, 1, 1  …  0, 0, 0, 0, 0, 0, 0, 0, 0, 0]\n",
      "  n_freq: Int64 30\n"
     ]
    },
    {
     "name": "stderr",
     "output_type": "stream",
     "text": [
      "\u001b[32mProgress: 100%|█████████████████████████████████████████| Time: 0:15:22\u001b[39m\n"
     ]
    },
    {
     "name": "stdout",
     "output_type": "stream",
     "text": [
      "../dt_tmp_res/20231126_015148.ser\n",
      "Cum index:34\n",
      "Actual ES coverage: 34.42009\n",
      "AFPSurParams\n",
      "  P_test: Float64 0.97\n",
      "  P_sample: Float64 0.53\n",
      "  P_H: Float64 0.9\n",
      "ESParams\n",
      "  g: Float64 0.07675283643313487\n",
      "  P_test: Float64 0.97\n",
      "  area: Array{Bool}((1517,)) Bool[1, 1, 1, 1, 1, 1, 1, 1, 1, 1  …  0, 0, 0, 0, 0, 0, 0, 0, 0, 0]\n",
      "  n_freq: Int64 30\n"
     ]
    },
    {
     "name": "stderr",
     "output_type": "stream",
     "text": [
      "\u001b[32mProgress: 100%|█████████████████████████████████████████| Time: 0:15:36\u001b[39m\n"
     ]
    },
    {
     "name": "stdout",
     "output_type": "stream",
     "text": [
      "../dt_tmp_res/20231126_020725.ser\n",
      "Cum index:34\n",
      "Actual ES coverage: 34.42009\n",
      "AFPSurParams\n",
      "  P_test: Float64 0.97\n",
      "  P_sample: Float64 0.53\n",
      "  P_H: Float64 0.9\n",
      "ESParams\n",
      "  g: Float64 0.02302585092994046\n",
      "  P_test: Float64 0.97\n",
      "  area: Array{Bool}((1517,)) Bool[1, 1, 1, 1, 1, 1, 1, 1, 1, 1  …  0, 0, 0, 0, 0, 0, 0, 0, 0, 0]\n",
      "  n_freq: Int64 30\n"
     ]
    },
    {
     "name": "stderr",
     "output_type": "stream",
     "text": [
      "\u001b[32mProgress: 100%|█████████████████████████████████████████| Time: 0:15:45\u001b[39m\n"
     ]
    },
    {
     "name": "stdout",
     "output_type": "stream",
     "text": [
      "../dt_tmp_res/20231126_022310.ser\n",
      "Cum index:34\n",
      "Actual ES coverage: 34.42009\n",
      "AFPSurParams\n",
      "  P_test: Float64 0.97\n",
      "  P_sample: Float64 0.53\n",
      "  P_H: Float64 0.9\n",
      "ESParams\n",
      "  g: Float64 0.0076752836433134864\n",
      "  P_test: Float64 0.97\n",
      "  area: Array{Bool}((1517,)) Bool[1, 1, 1, 1, 1, 1, 1, 1, 1, 1  …  0, 0, 0, 0, 0, 0, 0, 0, 0, 0]\n",
      "  n_freq: Int64 30\n"
     ]
    },
    {
     "name": "stderr",
     "output_type": "stream",
     "text": [
      "\u001b[32mProgress: 100%|█████████████████████████████████████████| Time: 0:15:48\u001b[39m\n"
     ]
    },
    {
     "name": "stdout",
     "output_type": "stream",
     "text": [
      "../dt_tmp_res/20231126_023859.ser\n",
      "Any[\"R0=14.0, α=0.05, pc=0.25, n_sim=5000, pattern=population_size, pop90=1, path: ../dt_tmp_res/20231126_015148.ser\", \"R0=14.0, α=0.05, pc=0.25, n_sim=5000, pattern=population_size, pop90=30, path: ../dt_tmp_res/20231126_020725.ser\", \"R0=14.0, α=0.05, pc=0.25, n_sim=5000, pattern=population_size, pop90=100, path: ../dt_tmp_res/20231126_022310.ser\", \"R0=14.0, α=0.05, pc=0.25, n_sim=5000, pattern=population_size, pop90=300, path: ../dt_tmp_res/20231126_023859.ser\"]"
     ]
    }
   ],
   "source": [
    "println(\"Sensitivity analysis for pop90 ==========================\")\n",
    "summary_info = []\n",
    "path_trans = run_transmission_model(;\n",
    "    R0=R0, α=α, pc=pc, imp_ws=[1.0],\n",
    "    n_sim=n_sim,\n",
    "    path_spatial_params=path_spatial, \n",
    "    pattern=pattern\n",
    ")\n",
    "for pop90 in [1, 30, 100, 300]\n",
    "    g = - log(1-0.9)/pop90\n",
    "    par_AFP, par_ES = set_par_AFP_ES(path_spatial_params=path_spatial, pc=pc, g=g)\n",
    "    \n",
    "    path_save = sensitivity_all_summary(par_AFP, par_ES; path_trans=path_trans)\n",
    "    rec = \"R0=$(R0), α=$(α), pc=$(pc), n_sim=$(n_sim), pattern=$(pattern), pop90=$(pop90), path: $(path_save)\"\n",
    "    push!(summary_info, rec)\n",
    "end\n",
    "remove_all_leaving_one(path_trans)\n",
    "print(summary_info)\n"
   ]
  },
  {
   "cell_type": "markdown",
   "id": "2872ab6a-f5ce-459c-89ff-6a0fcd4274e2",
   "metadata": {},
   "source": [
    "# Sampling frequency sensitivity"
   ]
  },
  {
   "cell_type": "code",
   "execution_count": 9,
   "id": "a7de02dd-96e2-471a-976d-b55ca2374ad9",
   "metadata": {},
   "outputs": [
    {
     "name": "stdout",
     "output_type": "stream",
     "text": [
      "# of sites: 1517\n",
      "SEIRMetaModelParams\n",
      "  R0: Float64 14.0\n",
      "  γ1: Float64 0.25\n",
      "  γ2: Float64 0.06657789613848203\n",
      "  σ: Float64 0.3291\n",
      "  P_AFP: Float64 0.005\n",
      "  N_tot: Array{Int64}((1517,)) [176661, 132438, 110952, 102279, 96377, 93257, 81002, 79789, 74368, 71796  …  103, 102, 102, 102, 102, 102, 102, 101, 101, 101]\n",
      "  N_unvac: Array{Int64}((1517,)) [9009, 7004, 10801, 6729, 6341, 22933, 4284, 4219, 4893, 3975  …  4, 7, 7, 19, 19, 12, 12, 6, 7, 4]\n",
      "  I0_init: Int64 1\n",
      "  I0_ind: Int64 1\n",
      "  days: Int64 1095\n",
      "  n_site: Int64 1517\n",
      "  α: Float64 0.05\n",
      "  π_mat: Array{Float64}((1517, 1517)) [0.0 0.0008134913063202908 … 6.780709468953783e-7 4.898477234903362e-6; 0.0034150940977343493 0.0 … 4.753101976878339e-5 4.686095869451221e-6; … ; 1.9892426060623706e-6 0.00011196468975607586 … 0.0 3.3899886725864443e-9; 2.770651210640693e-5 4.626887381318493e-7 … 3.88258866975442e-10 0.0]\n",
      "  μ: Float64 0.000547945205479452\n",
      "  β: Float64 0.9320905459387484\n",
      "  pc: Float64 0.25\n",
      "  imp_ws: Array{Float64}((1,)) [1.0]\n",
      "Average vaccination coverage: 0.91933835\n",
      "../dt_tmp/20231125_201126\n"
     ]
    },
    {
     "name": "stderr",
     "output_type": "stream",
     "text": [
      "\u001b[32mProgress: 100%|█████████████████████████████████████████| Time: 1:43:50\u001b[39m\n"
     ]
    },
    {
     "name": "stdout",
     "output_type": "stream",
     "text": [
      "6230.282390 seconds (57.74 M allocations: 16.211 TiB, 2.06% gc time, 0.01% compilation time)\n",
      "Cum index:34\n",
      "Actual ES coverage: 34.42009\n",
      "AFPSurParams\n",
      "  P_test: Float64 0.97\n",
      "  P_sample: Float64 0.53\n",
      "  P_H: Float64 0.9\n",
      "ESParams\n",
      "  g: Float64 0.23025850929940458\n",
      "  P_test: Float64 0.97\n",
      "  area: Array{Bool}((1517,)) Bool[1, 1, 1, 1, 1, 1, 1, 1, 1, 1  …  0, 0, 0, 0, 0, 0, 0, 0, 0, 0]\n",
      "  n_freq: Int64 1\n"
     ]
    },
    {
     "name": "stderr",
     "output_type": "stream",
     "text": [
      "\u001b[32mProgress: 100%|█████████████████████████████████████████| Time: 1:20:53\u001b[39m\n"
     ]
    },
    {
     "name": "stdout",
     "output_type": "stream",
     "text": [
      "../dt_tmp_res/20231125_231613.ser\n",
      "Cum index:34\n",
      "Actual ES coverage: 34.42009\n",
      "AFPSurParams\n",
      "  P_test: Float64 0.97\n",
      "  P_sample: Float64 0.53\n",
      "  P_H: Float64 0.9\n",
      "ESParams\n",
      "  g: Float64 0.23025850929940458\n",
      "  P_test: Float64 0.97\n",
      "  area: Array{Bool}((1517,)) Bool[1, 1, 1, 1, 1, 1, 1, 1, 1, 1  …  0, 0, 0, 0, 0, 0, 0, 0, 0, 0]\n",
      "  n_freq: Int64 7\n"
     ]
    },
    {
     "name": "stderr",
     "output_type": "stream",
     "text": [
      "\u001b[32mProgress: 100%|█████████████████████████████████████████| Time: 0:23:13\u001b[39m\n"
     ]
    },
    {
     "name": "stdout",
     "output_type": "stream",
     "text": [
      "../dt_tmp_res/20231125_233927.ser\n",
      "Cum index:34\n",
      "Actual ES coverage: 34.42009\n",
      "AFPSurParams\n",
      "  P_test: Float64 0.97\n",
      "  P_sample: Float64 0.53\n",
      "  P_H: Float64 0.9\n",
      "ESParams\n",
      "  g: Float64 0.23025850929940458\n",
      "  P_test: Float64 0.97\n",
      "  area: Array{Bool}((1517,)) Bool[1, 1, 1, 1, 1, 1, 1, 1, 1, 1  …  0, 0, 0, 0, 0, 0, 0, 0, 0, 0]\n",
      "  n_freq: Int64 14\n"
     ]
    },
    {
     "name": "stderr",
     "output_type": "stream",
     "text": [
      "\u001b[32mProgress: 100%|█████████████████████████████████████████| Time: 0:19:35\u001b[39m\n"
     ]
    },
    {
     "name": "stdout",
     "output_type": "stream",
     "text": [
      "../dt_tmp_res/20231125_235903.ser\n",
      "Cum index:34\n",
      "Actual ES coverage: 34.42009\n",
      "AFPSurParams\n",
      "  P_test: Float64 0.97\n",
      "  P_sample: Float64 0.53\n",
      "  P_H: Float64 0.9\n",
      "ESParams\n",
      "  g: Float64 0.23025850929940458\n",
      "  P_test: Float64 0.97\n",
      "  area: Array{Bool}((1517,)) Bool[1, 1, 1, 1, 1, 1, 1, 1, 1, 1  …  0, 0, 0, 0, 0, 0, 0, 0, 0, 0]\n",
      "  n_freq: Int64 60\n"
     ]
    },
    {
     "name": "stderr",
     "output_type": "stream",
     "text": [
      "\u001b[32mProgress: 100%|█████████████████████████████████████████| Time: 0:14:35\u001b[39m\n"
     ]
    },
    {
     "name": "stdout",
     "output_type": "stream",
     "text": [
      "../dt_tmp_res/20231126_001339.ser\n",
      "Any[\"R0=14.0, α=0.05, pc=0.25, n_sim=5000, pattern=population_size, n_freq=1, path: ../dt_tmp_res/20231125_231613.ser\", \"R0=14.0, α=0.05, pc=0.25, n_sim=5000, pattern=population_size, n_freq=7, path: ../dt_tmp_res/20231125_233927.ser\", \"R0=14.0, α=0.05, pc=0.25, n_sim=5000, pattern=population_size, n_freq=14, path: ../dt_tmp_res/20231125_235903.ser\", \"R0=14.0, α=0.05, pc=0.25, n_sim=5000, pattern=population_size, n_freq=60, path: ../dt_tmp_res/20231126_001339.ser\"]"
     ]
    }
   ],
   "source": [
    "println(\"Sensitivity analysis for sampling frequency ==========================\")\n",
    "summary_info = []\n",
    "path_trans = run_transmission_model(;\n",
    "    R0=R0, α=α, pc=pc, imp_ws=[1.0],\n",
    "    n_sim=n_sim,\n",
    "    path_spatial_params=path_spatial, \n",
    "    pattern=pattern\n",
    ")\n",
    "for n_freq in [1, 7, 14, 60]\n",
    "    par_AFP, par_ES = set_par_AFP_ES(path_spatial_params=path_spatial, pc=pc, n_freq=n_freq)\n",
    "    path_save = sensitivity_all_summary(par_AFP, par_ES; path_trans=path_trans)\n",
    "    rec = \"R0=$(R0), α=$(α), pc=$(pc), n_sim=$(n_sim), pattern=$(pattern), n_freq=$(n_freq), path: $(path_save)\"\n",
    "    push!(summary_info, rec)\n",
    "end\n",
    "remove_all_leaving_one(path_trans)\n",
    "print(summary_info)"
   ]
  },
  {
   "cell_type": "code",
   "execution_count": null,
   "id": "a1173419-6a21-4a08-a4b1-6499d2d3d1dd",
   "metadata": {},
   "outputs": [],
   "source": []
  },
  {
   "cell_type": "code",
   "execution_count": null,
   "id": "7c9e7db0",
   "metadata": {},
   "outputs": [],
   "source": []
  },
  {
   "cell_type": "code",
   "execution_count": null,
   "id": "c6212c73",
   "metadata": {},
   "outputs": [],
   "source": []
  },
  {
   "cell_type": "code",
   "execution_count": null,
   "id": "8fad86d9",
   "metadata": {},
   "outputs": [],
   "source": []
  },
  {
   "cell_type": "code",
   "execution_count": null,
   "id": "f5253f44",
   "metadata": {},
   "outputs": [],
   "source": []
  },
  {
   "cell_type": "code",
   "execution_count": null,
   "id": "db3b31ef",
   "metadata": {},
   "outputs": [],
   "source": []
  },
  {
   "cell_type": "code",
   "execution_count": null,
   "id": "88611452",
   "metadata": {},
   "outputs": [],
   "source": []
  },
  {
   "cell_type": "code",
   "execution_count": null,
   "id": "350257bd",
   "metadata": {
    "lines_to_next_cell": 2
   },
   "outputs": [],
   "source": []
  }
 ],
 "metadata": {
  "jupytext": {
   "encoding": "# -*- coding: utf-8 -*-"
  },
  "kernelspec": {
   "display_name": "Julia 1.8.3",
   "language": "julia",
   "name": "julia-1.8"
  },
  "language_info": {
   "file_extension": ".jl",
   "mimetype": "application/julia",
   "name": "julia",
   "version": "1.8.3"
  }
 },
 "nbformat": 4,
 "nbformat_minor": 5
}

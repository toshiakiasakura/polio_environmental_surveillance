{
 "cells": [
  {
   "cell_type": "code",
   "execution_count": 1,
   "id": "20458293-ff6d-44de-a12d-29b2ab48c08c",
   "metadata": {},
   "outputs": [
    {
     "data": {
      "text/plain": [
       "run_sim (generic function with 1 method)"
      ]
     },
     "execution_count": 1,
     "metadata": {},
     "output_type": "execute_result"
    }
   ],
   "source": [
    "using ArchGDAL\n",
    "using LinearAlgebra\n",
    "using DataFrames\n",
    "using Dates\n",
    "using Pipe\n",
    "using Plots\n",
    "using Rasters\n",
    "using Serialization\n",
    "\n",
    "include(\"util.jl\")\n",
    "include(\"model_meta_pop.jl\")"
   ]
  },
  {
   "cell_type": "code",
   "execution_count": 2,
   "id": "b99baced-d831-41c0-ad44-aeb13564663c",
   "metadata": {},
   "outputs": [
    {
     "data": {
      "text/plain": [
       "0.23025850929940458"
      ]
     },
     "execution_count": 2,
     "metadata": {},
     "output_type": "execute_result"
    }
   ],
   "source": [
    "p = 0.9\n",
    "λ0 = - log(1-p)/10"
   ]
  },
  {
   "cell_type": "code",
   "execution_count": 3,
   "id": "be4abbdd-c774-44ee-994e-50a56a47dd13",
   "metadata": {},
   "outputs": [
    {
     "data": {
      "text/plain": [
       "(:pop, :π_mat, :df)"
      ]
     },
     "execution_count": 3,
     "metadata": {},
     "output_type": "execute_result"
    }
   ],
   "source": [
    "sp_params = deserialize(\"../dt_tmp_fix/pop_pi_agg1000_10unvac.ser\")\n",
    "keys(sp_params)"
   ]
  },
  {
   "cell_type": "code",
   "execution_count": 4,
   "id": "8d34a476-9e38-41bf-a7fd-a904eef4ba51",
   "metadata": {},
   "outputs": [],
   "source": [
    "n_site = length(sp_params.pop)\n",
    "ES_area = fill(0, n_site)\n",
    "ES_area[1:4] .= 1\n",
    "nothing"
   ]
  },
  {
   "cell_type": "code",
   "execution_count": 5,
   "id": "be143d89-357b-4632-a8c2-a70d902ad16f",
   "metadata": {},
   "outputs": [
    {
     "name": "stdout",
     "output_type": "stream",
     "text": [
      "SEIRMetaModelParams\n",
      "  R0: Float64 3.0\n",
      "  γ1: Float64 0.25\n",
      "  γ2: Float64 0.06657789613848203\n",
      "  γ3: Float64 0.14285714285714285\n",
      "  P_AFP: Float64 0.005\n",
      "  P_H: Float64 0.9\n",
      "  P_AFP_sample: Float64 0.8\n",
      "  P_AFP_test: Float64 0.97\n",
      "  P_ES_test: Float64 0.97\n",
      "  N0: Array{Int64}((185,)) [55837, 38154, 37687, 30564, 18412, 13909, 11681, 11411, 10992, 10482  …  26, 26, 18, 18, 14, 14, 12, 12, 11, 11]\n",
      "  I0_init: Int64 1\n",
      "  I0_ind: Int64 1\n",
      "  λ0: Float64 0.23025850929940458\n",
      "  days: Int64 365\n",
      "  ES_n_freq: Int64 30\n",
      "  n_site: Int64 185\n",
      "  ES_area: Array{Bool}((185,)) Bool[1, 1, 1, 1, 0, 0, 0, 0, 0, 0  …  0, 0, 0, 0, 0, 0, 0, 0, 0, 0]\n",
      "  α: Float64 0.05\n",
      "  π_mat: Array{Float64}((185, 185)) [0.0 0.35791982079752477 … 3.051667204995925e-6 2.3452164671815557e-6; 0.45931917259978183 0.0 … 2.1166441546163114e-6 1.5848776049438898e-6; … ; 5.322718153846339e-6 5.248195566314242e-6 … 0.0 4.549302239571331e-10; 7.160374795483453e-6 2.8850608025433674e-6 … 1.1618095831991172e-9 0.0]\n",
      "  β: Float64 0.1997336884154461\n"
     ]
    }
   ],
   "source": [
    "params = SEIRMetaModelParams(\n",
    "    R0=3.0,\n",
    "    λ0=λ0,\n",
    "    N0=sp_params.pop,\n",
    "    π_mat=sp_params.π_mat,\n",
    "    n_site=n_site,\n",
    "    ES_area=ES_area,\n",
    "    )\n",
    "params |> dump"
   ]
  },
  {
   "cell_type": "markdown",
   "id": "e74ff5e3-8d5f-4e30-9c24-3bdd4c4db494",
   "metadata": {},
   "source": [
    "### TODO list.\n",
    "TODO: Update `update_model`  \n",
    "TODO: Change AFP surveillance and ES surveillance appropriately  \n",
    "TODO: Write the meta-SEIR model including the full model.   \n",
    "TODO: Run the model.  "
   ]
  },
  {
   "cell_type": "code",
   "execution_count": null,
   "id": "2c358d5d-22ec-4ac1-8984-4043118d9315",
   "metadata": {},
   "outputs": [],
   "source": []
  },
  {
   "cell_type": "code",
   "execution_count": null,
   "id": "00580a4c-461e-4257-a390-16c398752553",
   "metadata": {},
   "outputs": [],
   "source": []
  },
  {
   "cell_type": "code",
   "execution_count": null,
   "id": "a69cf999-fe8e-4b72-8d63-5c69f804e274",
   "metadata": {},
   "outputs": [],
   "source": []
  },
  {
   "cell_type": "code",
   "execution_count": null,
   "id": "e0559f3c-4e8d-4f7f-bdc6-452e48de5f5d",
   "metadata": {},
   "outputs": [],
   "source": []
  },
  {
   "cell_type": "code",
   "execution_count": null,
   "id": "7d256338-3b14-4228-abca-35a805b411f2",
   "metadata": {},
   "outputs": [],
   "source": []
  },
  {
   "cell_type": "code",
   "execution_count": null,
   "id": "81bd7e6d-291b-4613-9c9f-7edd99c572e5",
   "metadata": {},
   "outputs": [],
   "source": []
  }
 ],
 "metadata": {
  "kernelspec": {
   "display_name": "Julia 1.8.3",
   "language": "julia",
   "name": "julia-1.8"
  },
  "language_info": {
   "file_extension": ".jl",
   "mimetype": "application/julia",
   "name": "julia",
   "version": "1.8.3"
  }
 },
 "nbformat": 4,
 "nbformat_minor": 5
}

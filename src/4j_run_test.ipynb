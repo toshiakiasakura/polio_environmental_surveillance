{
 "cells": [
  {
   "cell_type": "code",
   "execution_count": 10,
   "id": "26b19426",
   "metadata": {},
   "outputs": [
    {
     "data": {
      "text/plain": [
       "validate_meta_population_model"
      ]
     },
     "execution_count": 10,
     "metadata": {},
     "output_type": "execute_result"
    }
   ],
   "source": [
    "using ArchGDAL\n",
    "using FreqTables\n",
    "using LinearAlgebra\n",
    "using DataFrames\n",
    "using Dates\n",
    "using Pipe\n",
    "using Plots\n",
    "using Rasters\n",
    "using Serialization\n",
    "using SparseArrays\n",
    "\n",
    "include(\"util.jl\")\n",
    "include(\"geo_ana.jl\")\n",
    "include(\"model_meta_pop.jl\")\n",
    "include(\"main_model_meta_pop.jl\")"
   ]
  },
  {
   "cell_type": "code",
   "execution_count": 11,
   "id": "60aa701e",
   "metadata": {},
   "outputs": [
    {
     "data": {
      "text/plain": [
       "\"../dt_tmp/spatial_params_agg230.ser\""
      ]
     },
     "execution_count": 11,
     "metadata": {},
     "output_type": "execute_result"
    }
   ],
   "source": [
    "path_spatial = \"../dt_tmp/spatial_params_agg230.ser\""
   ]
  },
  {
   "cell_type": "markdown",
   "id": "ae088f93",
   "metadata": {},
   "source": [
    "## International airport location, index "
   ]
  },
  {
   "cell_type": "code",
   "execution_count": 12,
   "id": "465838cb",
   "metadata": {},
   "outputs": [
    {
     "name": "stdout",
     "output_type": "stream",
     "text": [
      "argmin(dist): 11, dist: 9.631110668981826\n",
      "argmin(dist): 7, dist: 5.508420257007044\n",
      "argmin(dist): 62, dist: 8.80101225388816\n"
     ]
    }
   ],
   "source": [
    "sp_pars = deserialize(path_spatial)\n",
    "df = sp_pars.df\n",
    "# Tambo International\n",
    "lat = -26.12825796201514\n",
    "lon = 28.242074092511\n",
    "dist = harversine_dist.(lat, lon, df[:, :lat], df[:, :lon]) \n",
    "println(\"argmin(dist): $(argmin(dist)), dist: $(dist[argmin(dist)])\")\n",
    "\n",
    "# Cape Town \n",
    "lat =  -33.970502228847884\n",
    "lon = 18.600228711334545\n",
    "dist = harversine_dist.(lat, lon, df[:, :lat], df[:, :lon]) \n",
    "println(\"argmin(dist): $(argmin(dist)), dist: $(dist[argmin(dist)])\")\n",
    "\n",
    "# King Shaka \n",
    "lat =  -29.608764960536764\n",
    "lon = 31.115368797913593\n",
    "dist = harversine_dist.(lat, lon, df[:, :lat], df[:, :lon]) \n",
    "println(\"argmin(dist): $(argmin(dist)), dist: $(dist[argmin(dist)])\")\n",
    "\n"
   ]
  },
  {
   "cell_type": "markdown",
   "id": "cb310219",
   "metadata": {},
   "source": [
    "# Transmission model "
   ]
  },
  {
   "cell_type": "code",
   "execution_count": 13,
   "id": "50501640",
   "metadata": {},
   "outputs": [
    {
     "data": {
      "text/plain": [
       "5000"
      ]
     },
     "execution_count": 13,
     "metadata": {},
     "output_type": "execute_result"
    }
   ],
   "source": [
    "n_sim = 5000"
   ]
  },
  {
   "cell_type": "code",
   "execution_count": 14,
   "id": "f8c90dd1",
   "metadata": {},
   "outputs": [
    {
     "data": {
      "text/plain": [
       "0.25"
      ]
     },
     "execution_count": 14,
     "metadata": {},
     "output_type": "execute_result"
    }
   ],
   "source": [
    "R0 = 14.0\n",
    "α = 0.05\n",
    "pc = 0.25"
   ]
  },
  {
   "cell_type": "code",
   "execution_count": 15,
   "id": "f378a1ba",
   "metadata": {},
   "outputs": [],
   "source": [
    "imp_ws_moz = CSV.read(\"../data/imp_ws_moz.csv\", DataFrame, header=false)[:,1]\n",
    "imp_ws_airport = CSV.read(\"../data/imp_ws_airport.csv\", DataFrame, header=false)[:,1]\n",
    "nothing"
   ]
  },
  {
   "cell_type": "code",
   "execution_count": 16,
   "id": "9a90f26f",
   "metadata": {},
   "outputs": [
    {
     "data": {
      "text/plain": [
       "validate_meta_population_model"
      ]
     },
     "execution_count": 16,
     "metadata": {},
     "output_type": "execute_result"
    }
   ],
   "source": [
    "include(\"model_meta_pop.jl\")\n",
    "include(\"main_model_meta_pop.jl\")"
   ]
  },
  {
   "cell_type": "code",
   "execution_count": 17,
   "id": "cec2e5a2",
   "metadata": {},
   "outputs": [
    {
     "data": {
      "text/plain": [
       "run_all_patterns (generic function with 1 method)"
      ]
     },
     "execution_count": 17,
     "metadata": {},
     "output_type": "execute_result"
    }
   ],
   "source": [
    "function post_processing(path_trans, path_spatial, pc)\n",
    "    par_AFP, par_ES = set_par_AFP_ES(path_spatial_params=path_spatial, pc=pc)\n",
    "    path_save = sensitivity_all_summary(par_AFP, par_ES; path_trans=path_trans)\n",
    "    validate_meta_population_model(path_trans, path_spatial)\n",
    "    remove_all_leaving_one(path_trans)\n",
    "    return path_save\n",
    "end\n",
    "\n",
    "function run_all_patterns(;\n",
    "        R0=1.0, α=0.05, pc=1.0, \n",
    "        imp_ws_moz=[1.0], imp_ws_airport=[1.0],\n",
    "        n_sim=100,\n",
    "        path_spatial=\"\"\n",
    "    )\n",
    "    summary_info = []\n",
    "    for pattern in [\"population_size\", \"airport\", \"mozambique\"]\n",
    "        imp_ws = pattern==\"airport\" ? imp_ws_airport : imp_ws_moz\n",
    "        path_trans = run_transmission_model(;\n",
    "            R0=R0, α=α, pc=pc, imp_ws=imp_ws,\n",
    "            n_sim=n_sim,\n",
    "            path_spatial_params=path_spatial, \n",
    "            pattern=pattern\n",
    "        )\n",
    "        path_save = post_processing(path_trans, path_spatial, pc)\n",
    "        rec = \"R0=$(R0), α=$(α), pc=$(pc), n_sim=$(n_sim), pattern=$(pattern), path: $(path_save)\"\n",
    "        push!(summary_info, rec)\n",
    "    end\n",
    "    println(summary_info)\n",
    "end"
   ]
  },
  {
   "cell_type": "code",
   "execution_count": 9,
   "id": "0e7da71c",
   "metadata": {},
   "outputs": [
    {
     "ename": "LoadError",
     "evalue": "UndefVarError: imp_ws_moz not defined",
     "output_type": "error",
     "traceback": [
      "UndefVarError: imp_ws_moz not defined",
      "",
      "Stacktrace:",
      " [1] top-level scope",
      "   @ In[9]:1"
     ]
    }
   ],
   "source": [
    "run_all_patterns(\n",
    "    R0=R0, α=α, pc=pc, imp_ws_moz=imp_ws_moz, imp_ws_airport=imp_ws_airport, \n",
    "    n_sim=n_sim,\n",
    "    path_spatial=path_spatial,\n",
    "    )"
   ]
  },
  {
   "cell_type": "markdown",
   "id": "6f69d72e",
   "metadata": {},
   "source": [
    "## Sensitivity analysis "
   ]
  },
  {
   "cell_type": "code",
   "execution_count": null,
   "id": "1fec5959",
   "metadata": {},
   "outputs": [],
   "source": [
    "summary_info = []\n",
    "pattern = \"population_size\"\n",
    "for R0_sens in [10, 12, 16]\n",
    "    path_trans = run_transmission_model(;\n",
    "        R0=R0_sens, α=α, pc=pc, imp_ws=[1.0],\n",
    "        n_sim=n_sim,\n",
    "        path_spatial_params=path_spatial, \n",
    "        pattern=pattern\n",
    "    )\n",
    "    path_save = post_processing(path_trans, path_spatial, pc)\n",
    "    rec = \"R0=$(R0), α=$(α), pc=$(pc), n_sim=$(n_sim), pattern=$(pattern), path: $(path_save)\"\n",
    "    push!(summary_info, rec)\n",
    "end\n",
    "println(summary_info)"
   ]
  },
  {
   "cell_type": "code",
   "execution_count": null,
   "id": "847c51f8",
   "metadata": {},
   "outputs": [],
   "source": [
    "summary_info = []\n",
    "for α_sens in [0.005, 0.010, 0.100, 0.500]\n",
    "    path_trans = run_transmission_model(;\n",
    "        R0=R0, α=α_sens, pc=pc, imp_ws=[1.0],\n",
    "        n_sim=n_sim,\n",
    "        path_spatial_params=path_spatial, \n",
    "        pattern=pattern,\n",
    "    )\n",
    "    path_save = post_processing(path_trans, path_spatial, pc)\n",
    "    rec = \"R0=$(R0), α=$(α), pc=$(pc), n_sim=$(n_sim), pattern=$(pattern), path: $(path_save)\"\n",
    "    push!(summary_info, rec)\n",
    "end\n",
    "println(summary_info)"
   ]
  },
  {
   "cell_type": "markdown",
   "id": "bb3aaa58",
   "metadata": {},
   "source": [
    "## Mozambique risk ordered ES. "
   ]
  },
  {
   "cell_type": "code",
   "execution_count": 18,
   "id": "c1ad857f",
   "metadata": {},
   "outputs": [
    {
     "data": {
      "text/plain": [
       "\"../dt_tmp/spatial_params_agg230_moz_sorted.ser\""
      ]
     },
     "execution_count": 18,
     "metadata": {},
     "output_type": "execute_result"
    }
   ],
   "source": [
    "imp_ws_moz_sorted = CSV.read(\"../data/imp_ws_moz_sorted.csv\", DataFrame, header=false)[:,1]\n",
    "imp_ws_airport_sorted = CSV.read(\"../data/imp_ws_airport_sorted.csv\", DataFrame, header=false)[:,1]\n",
    "path_spatial_sorted = \"../dt_tmp/spatial_params_agg230_moz_sorted.ser\""
   ]
  },
  {
   "cell_type": "code",
   "execution_count": 19,
   "id": "5ce90040",
   "metadata": {},
   "outputs": [
    {
     "name": "stdout",
     "output_type": "stream",
     "text": [
      "# of sites: 1517\n",
      "SEIRMetaModelParams\n",
      "  R0: Float64 14.0\n",
      "  γ1: Float64 0.25\n",
      "  γ2: Float64 0.06657789613848203\n",
      "  σ: Float64 0.3291\n",
      "  P_AFP: Float64 0.005\n",
      "  N_tot: Array{Int64}((1517,)) [16942, 6206, 11638, 17796, 9978, 18076, 14578, 18809, 13780, 6951  …  115, 107, 107, 110, 101, 105, 102, 105, 101, 103]\n",
      "  N_unvac: Array{Int64}((1517,)) [2049, 750, 1407, 2152, 1206, 2186, 1763, 2274, 1666, 840  …  7, 2, 6, 6, 7, 6, 7, 6, 6, 6]\n",
      "  I0_init: Int64 1\n",
      "  I0_ind: Int64 1\n",
      "  days: Int64 1095\n",
      "  n_site: Int64 1517\n",
      "  α: Float64 0.05\n",
      "  π_mat: Array{Float64}((1517, 1517)) [0.0 0.09700668215283446 … 6.40008051061156e-8 6.351348570063297e-8; 0.40108404561682365 0.0 … 2.3434779415237e-8 2.3265534898956926e-8; … ; 5.945035894425645e-8 2.2301115523520442e-8 … 0.0 3.73407299880895e-8; 6.393101238222124e-8 2.4169055529270278e-8 … 3.661928733425369e-8 0.0]\n",
      "  μ: Float64 0.000547945205479452\n",
      "  β: Float64 0.9320905459387484\n",
      "  pc: Float64 0.25\n",
      "  imp_ws: Array{Float64}((1517,)) [0.06333313266942489, 0.039949000007802146, 0.033154863029281736, 0.027592904777850223, 0.025342893589634027, 0.023763127643199294, 0.017621545806210476, 0.015599926875164418, 0.015053408281864933, 0.014233936235674623  …  1.2043414564526757e-6, 1.1531947363766916e-6, 1.1521165640227425e-6, 1.1440071228265216e-6, 1.1425490077361494e-6, 1.1363254887229796e-6, 1.0943681387494426e-6, 1.0941673571630876e-6, 1.0646982894584665e-6, 1.0415682336528267e-6]\n",
      "Average vaccination coverage: 0.9193383273227042\n",
      "../dt_tmp/20231117_082040\n"
     ]
    },
    {
     "name": "stderr",
     "output_type": "stream",
     "text": [
      "\u001b[32mProgress: 100%|█████████████████████████████████████████| Time: 2:31:32\u001b[39m\n"
     ]
    },
    {
     "name": "stdout",
     "output_type": "stream",
     "text": [
      "7114.235295 seconds (58.33 M allocations: 16.414 TiB, 2.01% gc time, 0.01% compilation time)\n",
      "Cum index:107\n",
      "Actual ES coverage: 34.291977907735735\n",
      "AFPSurParams\n",
      "  P_test: Float64 0.97\n",
      "  P_sample: Float64 0.53\n",
      "  P_H: Float64 0.9\n",
      "ESParams\n",
      "  g: Float64 0.23025850929940458\n",
      "  P_test: Float64 0.97\n",
      "  area: Array{Bool}((1517,)) Bool[1, 1, 1, 1, 1, 1, 1, 1, 1, 1  …  0, 0, 0, 0, 0, 0, 0, 0, 0, 0]\n",
      "  n_freq: Int64 30\n"
     ]
    },
    {
     "name": "stderr",
     "output_type": "stream",
     "text": [
      "\u001b[32mProgress: 100%|█████████████████████████████████████████| Time: 0:22:59\u001b[39m\n"
     ]
    },
    {
     "name": "stdout",
     "output_type": "stream",
     "text": [
      "../dt_tmp_res/20231117_111513.ser\n"
     ]
    },
    {
     "name": "stderr",
     "output_type": "stream",
     "text": [
      "\u001b[32mProgress: 100%|█████████████████████████████████████████| Time: 0:05:11\u001b[39m\n"
     ]
    },
    {
     "name": "stdout",
     "output_type": "stream",
     "text": [
      "# of sites: 1517\n",
      "SEIRMetaModelParams\n",
      "  R0: Float64 14.0\n",
      "  γ1: Float64 0.25\n",
      "  γ2: Float64 0.06657789613848203\n",
      "  σ: Float64 0.3291\n",
      "  P_AFP: Float64 0.005\n",
      "  N_tot: Array{Int64}((1517,)) [16942, 6206, 11638, 17796, 9978, 18076, 14578, 18809, 13780, 6951  …  115, 107, 107, 110, 101, 105, 102, 105, 101, 103]\n",
      "  N_unvac: Array{Int64}((1517,)) [2049, 750, 1407, 2152, 1206, 2186, 1763, 2274, 1666, 840  …  7, 2, 6, 6, 7, 6, 7, 6, 6, 6]\n",
      "  I0_init: Int64 1\n",
      "  I0_ind: Int64 1\n",
      "  days: Int64 1095\n",
      "  n_site: Int64 1517\n",
      "  α: Float64 0.05\n",
      "  π_mat: Array{Float64}((1517, 1517)) [0.0 0.09700668215283446 … 6.40008051061156e-8 6.351348570063297e-8; 0.40108404561682365 0.0 … 2.3434779415237e-8 2.3265534898956926e-8; … ; 5.945035894425645e-8 2.2301115523520442e-8 … 0.0 3.73407299880895e-8; 6.393101238222124e-8 2.4169055529270278e-8 … 3.661928733425369e-8 0.0]\n",
      "  μ: Float64 0.000547945205479452\n",
      "  β: Float64 0.9320905459387484\n",
      "  pc: Float64 0.25\n",
      "  imp_ws: Array{Float64}((1517,)) [0.00012641610860554433, 4.704355134494807e-5, 9.380218964050939e-5, 0.0001927582601116437, 8.9700302166026e-5, 0.00018432552299067398, 0.00012214354904313137, 0.00016190750263286375, 0.00013338309078914212, 6.602971442353684e-5  …  7.761628527495726e-6, 5.542866846538132e-6, 7.307354709303179e-6, 9.080704473026063e-6, 6.6426201245801704e-6, 7.2024380973380935e-6, 7.480190842367117e-6, 7.180382685908659e-6, 6.916381959261366e-6, 8.436821214658133e-6]\n",
      "Average vaccination coverage: 0.9193383273227042\n",
      "../dt_tmp/20231117_112115\n"
     ]
    },
    {
     "name": "stderr",
     "output_type": "stream",
     "text": [
      "\u001b[32mProgress: 100%|█████████████████████████████████████████| Time: 1:09:41\u001b[39m\n"
     ]
    },
    {
     "name": "stdout",
     "output_type": "stream",
     "text": [
      "4181.333195 seconds (35.60 M allocations: 8.697 TiB, 1.27% gc time)\n",
      "Cum index:107\n",
      "Actual ES coverage: 34.291977907735735\n",
      "AFPSurParams\n",
      "  P_test: Float64 0.97\n",
      "  P_sample: Float64 0.53\n",
      "  P_H: Float64 0.9\n",
      "ESParams\n",
      "  g: Float64 0.23025850929940458\n",
      "  P_test: Float64 0.97\n",
      "  area: Array{Bool}((1517,)) Bool[1, 1, 1, 1, 1, 1, 1, 1, 1, 1  …  0, 0, 0, 0, 0, 0, 0, 0, 0, 0]\n",
      "  n_freq: Int64 30\n"
     ]
    },
    {
     "name": "stderr",
     "output_type": "stream",
     "text": [
      "\u001b[32mProgress: 100%|█████████████████████████████████████████| Time: 0:23:41\u001b[39m\n"
     ]
    },
    {
     "name": "stdout",
     "output_type": "stream",
     "text": [
      "../dt_tmp_res/20231117_125438.ser\n"
     ]
    },
    {
     "name": "stderr",
     "output_type": "stream",
     "text": [
      "\u001b[32mProgress: 100%|█████████████████████████████████████████| Time: 0:04:41\u001b[39m\n"
     ]
    },
    {
     "name": "stdout",
     "output_type": "stream",
     "text": [
      "# of sites: 1517\n",
      "SEIRMetaModelParams\n",
      "  R0: Float64 14.0\n",
      "  γ1: Float64 0.25\n",
      "  γ2: Float64 0.06657789613848203\n",
      "  σ: Float64 0.3291\n",
      "  P_AFP: Float64 0.005\n",
      "  N_tot: Array{Int64}((1517,)) [16942, 6206, 11638, 17796, 9978, 18076, 14578, 18809, 13780, 6951  …  115, 107, 107, 110, 101, 105, 102, 105, 101, 103]\n",
      "  N_unvac: Array{Int64}((1517,)) [2049, 750, 1407, 2152, 1206, 2186, 1763, 2274, 1666, 840  …  7, 2, 6, 6, 7, 6, 7, 6, 6, 6]\n",
      "  I0_init: Int64 1\n",
      "  I0_ind: Int64 1\n",
      "  days: Int64 1095\n",
      "  n_site: Int64 1517\n",
      "  α: Float64 0.05\n",
      "  π_mat: Array{Float64}((1517, 1517)) [0.0 0.09700668215283446 … 6.40008051061156e-8 6.351348570063297e-8; 0.40108404561682365 0.0 … 2.3434779415237e-8 2.3265534898956926e-8; … ; 5.945035894425645e-8 2.2301115523520442e-8 … 0.0 3.73407299880895e-8; 6.393101238222124e-8 2.4169055529270278e-8 … 3.661928733425369e-8 0.0]\n",
      "  μ: Float64 0.000547945205479452\n",
      "  β: Float64 0.9320905459387484\n",
      "  pc: Float64 0.25\n",
      "  imp_ws: Array{Float64}((1517,)) [0.06333313266942489, 0.039949000007802146, 0.033154863029281736, 0.027592904777850223, 0.025342893589634027, 0.023763127643199294, 0.017621545806210476, 0.015599926875164418, 0.015053408281864933, 0.014233936235674623  …  1.2043414564526757e-6, 1.1531947363766916e-6, 1.1521165640227425e-6, 1.1440071228265216e-6, 1.1425490077361494e-6, 1.1363254887229796e-6, 1.0943681387494426e-6, 1.0941673571630876e-6, 1.0646982894584665e-6, 1.0415682336528267e-6]\n",
      "Average vaccination coverage: 0.9193383273227042\n",
      "../dt_tmp/20231117_130008\n"
     ]
    },
    {
     "name": "stderr",
     "output_type": "stream",
     "text": [
      "\u001b[32mProgress: 100%|█████████████████████████████████████████| Time: 3:05:38\u001b[39m\n"
     ]
    },
    {
     "name": "stdout",
     "output_type": "stream",
     "text": [
      "11095.856094 seconds (86.82 M allocations: 27.104 TiB, 0.94% gc time)\n",
      "Cum index:107\n",
      "Actual ES coverage: 34.291977907735735\n",
      "AFPSurParams\n",
      "  P_test: Float64 0.97\n",
      "  P_sample: Float64 0.53\n",
      "  P_H: Float64 0.9\n",
      "ESParams\n",
      "  g: Float64 0.23025850929940458\n",
      "  P_test: Float64 0.97\n",
      "  area: Array{Bool}((1517,)) Bool[1, 1, 1, 1, 1, 1, 1, 1, 1, 1  …  0, 0, 0, 0, 0, 0, 0, 0, 0, 0]\n",
      "  n_freq: Int64 30\n"
     ]
    },
    {
     "name": "stderr",
     "output_type": "stream",
     "text": [
      "\u001b[32mProgress: 100%|█████████████████████████████████████████| Time: 0:21:36\u001b[39m\n"
     ]
    },
    {
     "name": "stdout",
     "output_type": "stream",
     "text": [
      "../dt_tmp_res/20231117_162723.ser\n"
     ]
    },
    {
     "name": "stderr",
     "output_type": "stream",
     "text": [
      "\u001b[32mProgress: 100%|█████████████████████████████████████████| Time: 0:06:05\u001b[39m\n"
     ]
    },
    {
     "name": "stdout",
     "output_type": "stream",
     "text": [
      "Any[\"R0=14.0, α=0.05, pc=0.25, n_sim=5000, pattern=population_size, path: ../dt_tmp_res/20231117_111513.ser\", \"R0=14.0, α=0.05, pc=0.25, n_sim=5000, pattern=airport, path: ../dt_tmp_res/20231117_125438.ser\", \"R0=14.0, α=0.05, pc=0.25, n_sim=5000, pattern=mozambique, path: ../dt_tmp_res/20231117_162723.ser\"]\n"
     ]
    }
   ],
   "source": [
    "run_all_patterns(\n",
    "    R0=R0, α=α, pc=pc, \n",
    "    imp_ws_moz=imp_ws_moz_sorted, \n",
    "    imp_ws_airport=imp_ws_airport_sorted,\n",
    "    n_sim=n_sim,\n",
    "    path_spatial=path_spatial_sorted,\n",
    "    )"
   ]
  },
  {
   "cell_type": "code",
   "execution_count": null,
   "id": "010375d3",
   "metadata": {},
   "outputs": [],
   "source": []
  },
  {
   "cell_type": "markdown",
   "id": "a948f4d3",
   "metadata": {},
   "source": [
    "## Debug field"
   ]
  },
  {
   "cell_type": "code",
   "execution_count": null,
   "id": "37c57e82",
   "metadata": {},
   "outputs": [],
   "source": [
    "path_trans = run_transmission_model(;\n",
    "    R0=R0, α=α, pc=pc, imp_ws=imp_ws,\n",
    "    n_sim=n_sim,\n",
    "    path_spatial_params=path_spatial, \n",
    "    pattern=\"population_size\"\n",
    ")\n",
    "par_AFP, par_ES = set_par_AFP_ES(path_spatial_params=path_spatial, pc=pc)\n",
    "#baseline_results(par_AFP, par_ES; \n",
    "#    path_trans=path_trans\n",
    "#)\n",
    "\n",
    "sensitivity_all_summary(par_AFP, par_ES; path_trans=path_trans)\n",
    "validate_meta_population_model(path_trans, path_spatial)\n",
    "remove_all_leaving_one(path_trans)"
   ]
  },
  {
   "cell_type": "code",
   "execution_count": null,
   "id": "667f791c",
   "metadata": {},
   "outputs": [],
   "source": [
    "path_trans = run_transmission_model(;\n",
    "    R0=R0, α=α, pc=pc, n_sim=n_sim,\n",
    "    path_spatial_params=path_spatial, \n",
    "    pattern=\"airport\"\n",
    ")\n",
    "par_AFP, par_ES = set_par_AFP_ES(path_spatial_params=path_spatial)\n",
    "sensitivity_all_summary(par_AFP, par_ES; path_trans=path_trans)\n",
    "validate_meta_population_model(path_trans, path_spatial)\n",
    "remove_all_leaving_one(path_trans)"
   ]
  },
  {
   "cell_type": "code",
   "execution_count": null,
   "id": "f2b7907e",
   "metadata": {},
   "outputs": [],
   "source": [
    "path_trans = run_transmission_model(;\n",
    "    R0=R0, α=α, pc=pc, imp_ws=imp_ws,\n",
    "    n_sim=n_sim,\n",
    "    path_spatial_params=path_spatial, \n",
    "    pattern=\"mozambique\"\n",
    ")\n",
    "par_AFP, par_ES = set_par_AFP_ES(path_spatial_params=path_spatial)\n",
    "sensitivity_all_summary(par_AFP, par_ES; path_trans=path_trans)\n",
    "validate_meta_population_model(path_trans, path_spatial)\n",
    "remove_all_leaving_one(path_trans)"
   ]
  },
  {
   "cell_type": "code",
   "execution_count": null,
   "id": "7c9e7db0",
   "metadata": {},
   "outputs": [],
   "source": []
  },
  {
   "cell_type": "code",
   "execution_count": null,
   "id": "c6212c73",
   "metadata": {},
   "outputs": [],
   "source": []
  },
  {
   "cell_type": "code",
   "execution_count": null,
   "id": "8fad86d9",
   "metadata": {},
   "outputs": [],
   "source": []
  },
  {
   "cell_type": "code",
   "execution_count": null,
   "id": "f5253f44",
   "metadata": {},
   "outputs": [],
   "source": []
  },
  {
   "cell_type": "code",
   "execution_count": null,
   "id": "db3b31ef",
   "metadata": {},
   "outputs": [],
   "source": []
  },
  {
   "cell_type": "code",
   "execution_count": null,
   "id": "88611452",
   "metadata": {},
   "outputs": [],
   "source": []
  },
  {
   "cell_type": "code",
   "execution_count": null,
   "id": "350257bd",
   "metadata": {
    "lines_to_next_cell": 2
   },
   "outputs": [],
   "source": []
  }
 ],
 "metadata": {
  "jupytext": {
   "encoding": "# -*- coding: utf-8 -*-"
  },
  "kernelspec": {
   "display_name": "Julia 1.8.3",
   "language": "julia",
   "name": "julia-1.8"
  },
  "language_info": {
   "file_extension": ".jl",
   "mimetype": "application/julia",
   "name": "julia",
   "version": "1.8.3"
  }
 },
 "nbformat": 4,
 "nbformat_minor": 5
}
